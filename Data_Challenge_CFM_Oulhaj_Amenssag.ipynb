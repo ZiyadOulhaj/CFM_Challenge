{
  "nbformat": 4,
  "nbformat_minor": 5,
  "metadata": {
    "anaconda-cloud": {},
    "colab": {
      "name": "mise en page (1) (2).ipynb",
      "provenance": [],
      "collapsed_sections": [
        "f909c97a",
        "43791d4b",
        "01e8e7d8",
        "2635ce9a",
        "8fae4ff4",
        "eOHebGv65bje",
        "c105e39e",
        "63d41be8",
        "0eada6aa",
        "_aOGvNZLdarC",
        "sAujdv7myH9W"
      ]
    },
    "kernelspec": {
      "display_name": "Python 3 (ipykernel)",
      "language": "python",
      "name": "python3"
    },
    "language_info": {
      "codemirror_mode": {
        "name": "ipython",
        "version": 3
      },
      "file_extension": ".py",
      "mimetype": "text/x-python",
      "name": "python",
      "nbconvert_exporter": "python",
      "pygments_lexer": "ipython3",
      "version": "3.9.7"
    }
  },
  "cells": [
    {
      "cell_type": "markdown",
      "metadata": {
        "id": "f909c97a"
      },
      "source": [
        "# <font color=red>Data Challenge: \"Stock trading: prediction of auction volumes\" by CFM</font> "
      ],
      "id": "f909c97a"
    },
    {
      "cell_type": "markdown",
      "metadata": {
        "id": "43791d4b"
      },
      "source": [
        "## <font color=blue>Importation des modules/fonctions nécessaires</font> "
      ],
      "id": "43791d4b"
    },
    {
      "cell_type": "code",
      "metadata": {
        "id": "ad8de518"
      },
      "source": [
        "import pandas as pd\n",
        "import matplotlib.pyplot as plt\n",
        "import numpy as np\n",
        "from sklearn.preprocessing import StandardScaler\n",
        "from sklearn.model_selection import train_test_split, TimeSeriesSplit, GridSearchCV\n",
        "from sklearn.metrics import mean_squared_error\n",
        "from sklearn.linear_model import LinearRegression\n",
        "from sklearn.ensemble import RandomForestRegressor\n",
        "from sklearn.decomposition import PCA\n",
        "import lightgbm as lgb\n",
        "import xgboost as xgb\n",
        "from sklearn.preprocessing import StandardScaler\n",
        "import time\n",
        "import itertools"
      ],
      "id": "ad8de518",
      "execution_count": 1,
      "outputs": []
    },
    {
      "cell_type": "code",
      "metadata": {
        "id": "36b96a31"
      },
      "source": [
        "import tensorflow as tf\n",
        "from tensorflow import keras as ks\n",
        "from tensorflow.keras.layers import Dense, Activation, LSTM, Input\n",
        "from tensorflow.keras.models import Sequential\n",
        "from keras import backend as K\n",
        "from keras.wrappers.scikit_learn import KerasRegressor"
      ],
      "id": "36b96a31",
      "execution_count": 2,
      "outputs": []
    },
    {
      "cell_type": "markdown",
      "metadata": {
        "id": "c9944e59"
      },
      "source": [
        "## <font color=blue>Importation des données d'entraînement</font> "
      ],
      "id": "c9944e59"
    },
    {
      "cell_type": "code",
      "metadata": {
        "id": "cef5c2ec-e26a-4ca2-9e85-e676991d3e7f"
      },
      "source": [
        "X_untouched = pd.read_csv(r\"/Users/ayaamenssag/Desktop/input_training.csv\", index_col=0)\n",
        "Y_untouched = pd.read_csv(r\"/Users/ayaamenssag/Desktop/output_training_IxKGwDV.csv\", index_col=0)"
      ],
      "id": "cef5c2ec-e26a-4ca2-9e85-e676991d3e7f",
      "execution_count": null,
      "outputs": []
    },
    {
      "cell_type": "code",
      "metadata": {
        "colab": {
          "base_uri": "https://localhost:8080/",
          "height": 287
        },
        "id": "3db36a24",
        "outputId": "d0009d54-ad8a-42fa-c94e-d23bad32e287"
      },
      "source": [
        "X_untouched.head()"
      ],
      "id": "3db36a24",
      "execution_count": 4,
      "outputs": [
        {
          "output_type": "execute_result",
          "data": {
            "text/html": [
              "<div>\n",
              "<style scoped>\n",
              "    .dataframe tbody tr th:only-of-type {\n",
              "        vertical-align: middle;\n",
              "    }\n",
              "\n",
              "    .dataframe tbody tr th {\n",
              "        vertical-align: top;\n",
              "    }\n",
              "\n",
              "    .dataframe thead th {\n",
              "        text-align: right;\n",
              "    }\n",
              "</style>\n",
              "<table border=\"1\" class=\"dataframe\">\n",
              "  <thead>\n",
              "    <tr style=\"text-align: right;\">\n",
              "      <th></th>\n",
              "      <th>pid</th>\n",
              "      <th>day</th>\n",
              "      <th>abs_ret0</th>\n",
              "      <th>abs_ret1</th>\n",
              "      <th>abs_ret2</th>\n",
              "      <th>abs_ret3</th>\n",
              "      <th>abs_ret4</th>\n",
              "      <th>abs_ret5</th>\n",
              "      <th>abs_ret6</th>\n",
              "      <th>abs_ret7</th>\n",
              "      <th>abs_ret8</th>\n",
              "      <th>abs_ret9</th>\n",
              "      <th>abs_ret10</th>\n",
              "      <th>abs_ret11</th>\n",
              "      <th>abs_ret12</th>\n",
              "      <th>abs_ret13</th>\n",
              "      <th>abs_ret14</th>\n",
              "      <th>abs_ret15</th>\n",
              "      <th>abs_ret16</th>\n",
              "      <th>abs_ret17</th>\n",
              "      <th>abs_ret18</th>\n",
              "      <th>abs_ret19</th>\n",
              "      <th>abs_ret20</th>\n",
              "      <th>abs_ret21</th>\n",
              "      <th>abs_ret22</th>\n",
              "      <th>abs_ret23</th>\n",
              "      <th>abs_ret24</th>\n",
              "      <th>abs_ret25</th>\n",
              "      <th>abs_ret26</th>\n",
              "      <th>abs_ret27</th>\n",
              "      <th>abs_ret28</th>\n",
              "      <th>abs_ret29</th>\n",
              "      <th>abs_ret30</th>\n",
              "      <th>abs_ret31</th>\n",
              "      <th>abs_ret32</th>\n",
              "      <th>abs_ret33</th>\n",
              "      <th>abs_ret34</th>\n",
              "      <th>abs_ret35</th>\n",
              "      <th>abs_ret36</th>\n",
              "      <th>abs_ret37</th>\n",
              "      <th>...</th>\n",
              "      <th>rel_vol23</th>\n",
              "      <th>rel_vol24</th>\n",
              "      <th>rel_vol25</th>\n",
              "      <th>rel_vol26</th>\n",
              "      <th>rel_vol27</th>\n",
              "      <th>rel_vol28</th>\n",
              "      <th>rel_vol29</th>\n",
              "      <th>rel_vol30</th>\n",
              "      <th>rel_vol31</th>\n",
              "      <th>rel_vol32</th>\n",
              "      <th>rel_vol33</th>\n",
              "      <th>rel_vol34</th>\n",
              "      <th>rel_vol35</th>\n",
              "      <th>rel_vol36</th>\n",
              "      <th>rel_vol37</th>\n",
              "      <th>rel_vol38</th>\n",
              "      <th>rel_vol39</th>\n",
              "      <th>rel_vol40</th>\n",
              "      <th>rel_vol41</th>\n",
              "      <th>rel_vol42</th>\n",
              "      <th>rel_vol43</th>\n",
              "      <th>rel_vol44</th>\n",
              "      <th>rel_vol45</th>\n",
              "      <th>rel_vol46</th>\n",
              "      <th>rel_vol47</th>\n",
              "      <th>rel_vol48</th>\n",
              "      <th>rel_vol49</th>\n",
              "      <th>rel_vol50</th>\n",
              "      <th>rel_vol51</th>\n",
              "      <th>rel_vol52</th>\n",
              "      <th>rel_vol53</th>\n",
              "      <th>rel_vol54</th>\n",
              "      <th>rel_vol55</th>\n",
              "      <th>rel_vol56</th>\n",
              "      <th>rel_vol57</th>\n",
              "      <th>rel_vol58</th>\n",
              "      <th>rel_vol59</th>\n",
              "      <th>rel_vol60</th>\n",
              "      <th>LS</th>\n",
              "      <th>NLV</th>\n",
              "    </tr>\n",
              "    <tr>\n",
              "      <th>ID</th>\n",
              "      <th></th>\n",
              "      <th></th>\n",
              "      <th></th>\n",
              "      <th></th>\n",
              "      <th></th>\n",
              "      <th></th>\n",
              "      <th></th>\n",
              "      <th></th>\n",
              "      <th></th>\n",
              "      <th></th>\n",
              "      <th></th>\n",
              "      <th></th>\n",
              "      <th></th>\n",
              "      <th></th>\n",
              "      <th></th>\n",
              "      <th></th>\n",
              "      <th></th>\n",
              "      <th></th>\n",
              "      <th></th>\n",
              "      <th></th>\n",
              "      <th></th>\n",
              "      <th></th>\n",
              "      <th></th>\n",
              "      <th></th>\n",
              "      <th></th>\n",
              "      <th></th>\n",
              "      <th></th>\n",
              "      <th></th>\n",
              "      <th></th>\n",
              "      <th></th>\n",
              "      <th></th>\n",
              "      <th></th>\n",
              "      <th></th>\n",
              "      <th></th>\n",
              "      <th></th>\n",
              "      <th></th>\n",
              "      <th></th>\n",
              "      <th></th>\n",
              "      <th></th>\n",
              "      <th></th>\n",
              "      <th></th>\n",
              "      <th></th>\n",
              "      <th></th>\n",
              "      <th></th>\n",
              "      <th></th>\n",
              "      <th></th>\n",
              "      <th></th>\n",
              "      <th></th>\n",
              "      <th></th>\n",
              "      <th></th>\n",
              "      <th></th>\n",
              "      <th></th>\n",
              "      <th></th>\n",
              "      <th></th>\n",
              "      <th></th>\n",
              "      <th></th>\n",
              "      <th></th>\n",
              "      <th></th>\n",
              "      <th></th>\n",
              "      <th></th>\n",
              "      <th></th>\n",
              "      <th></th>\n",
              "      <th></th>\n",
              "      <th></th>\n",
              "      <th></th>\n",
              "      <th></th>\n",
              "      <th></th>\n",
              "      <th></th>\n",
              "      <th></th>\n",
              "      <th></th>\n",
              "      <th></th>\n",
              "      <th></th>\n",
              "      <th></th>\n",
              "      <th></th>\n",
              "      <th></th>\n",
              "      <th></th>\n",
              "      <th></th>\n",
              "      <th></th>\n",
              "      <th></th>\n",
              "      <th></th>\n",
              "      <th></th>\n",
              "    </tr>\n",
              "  </thead>\n",
              "  <tbody>\n",
              "    <tr>\n",
              "      <th>148</th>\n",
              "      <td>360</td>\n",
              "      <td>0</td>\n",
              "      <td>0.000000</td>\n",
              "      <td>0.000000</td>\n",
              "      <td>0.0</td>\n",
              "      <td>0.000000</td>\n",
              "      <td>0.029317</td>\n",
              "      <td>0.000000</td>\n",
              "      <td>0.000000</td>\n",
              "      <td>0.000000</td>\n",
              "      <td>0.000000</td>\n",
              "      <td>0.073260</td>\n",
              "      <td>0.073265</td>\n",
              "      <td>0.0</td>\n",
              "      <td>0.036601</td>\n",
              "      <td>0.102399</td>\n",
              "      <td>0.029261</td>\n",
              "      <td>0.00000</td>\n",
              "      <td>0.073206</td>\n",
              "      <td>0.032942</td>\n",
              "      <td>0.036609</td>\n",
              "      <td>0.000000</td>\n",
              "      <td>0.014641</td>\n",
              "      <td>0.036643</td>\n",
              "      <td>0.0</td>\n",
              "      <td>0.036630</td>\n",
              "      <td>0.007326</td>\n",
              "      <td>0.000000</td>\n",
              "      <td>0.0</td>\n",
              "      <td>0.000000</td>\n",
              "      <td>0.000000</td>\n",
              "      <td>0.000000</td>\n",
              "      <td>0.014656</td>\n",
              "      <td>0.000000</td>\n",
              "      <td>0.000000</td>\n",
              "      <td>0.000000</td>\n",
              "      <td>0.0</td>\n",
              "      <td>0.021989</td>\n",
              "      <td>0.036627</td>\n",
              "      <td>0.018305</td>\n",
              "      <td>...</td>\n",
              "      <td>0.019147</td>\n",
              "      <td>0.023043</td>\n",
              "      <td>0.010204</td>\n",
              "      <td>0.015254</td>\n",
              "      <td>0.006455</td>\n",
              "      <td>0.006221</td>\n",
              "      <td>0.007477</td>\n",
              "      <td>0.015452</td>\n",
              "      <td>0.005510</td>\n",
              "      <td>0.014621</td>\n",
              "      <td>0.004915</td>\n",
              "      <td>0.009695</td>\n",
              "      <td>0.014404</td>\n",
              "      <td>0.011438</td>\n",
              "      <td>0.005018</td>\n",
              "      <td>0.003520</td>\n",
              "      <td>0.006112</td>\n",
              "      <td>0.001629</td>\n",
              "      <td>0.007395</td>\n",
              "      <td>0.007272</td>\n",
              "      <td>0.017971</td>\n",
              "      <td>0.007965</td>\n",
              "      <td>0.003240</td>\n",
              "      <td>0.008937</td>\n",
              "      <td>0.008786</td>\n",
              "      <td>0.009677</td>\n",
              "      <td>0.008480</td>\n",
              "      <td>0.011040</td>\n",
              "      <td>0.004054</td>\n",
              "      <td>0.009431</td>\n",
              "      <td>0.004521</td>\n",
              "      <td>0.015771</td>\n",
              "      <td>0.009462</td>\n",
              "      <td>0.012697</td>\n",
              "      <td>0.019507</td>\n",
              "      <td>0.005101</td>\n",
              "      <td>0.010654</td>\n",
              "      <td>0.006971</td>\n",
              "      <td>-2.307230</td>\n",
              "      <td>0.646580</td>\n",
              "    </tr>\n",
              "    <tr>\n",
              "      <th>149</th>\n",
              "      <td>360</td>\n",
              "      <td>1</td>\n",
              "      <td>0.000000</td>\n",
              "      <td>0.000000</td>\n",
              "      <td>0.0</td>\n",
              "      <td>0.022056</td>\n",
              "      <td>0.000000</td>\n",
              "      <td>0.036711</td>\n",
              "      <td>0.000000</td>\n",
              "      <td>0.000000</td>\n",
              "      <td>0.036767</td>\n",
              "      <td>0.000000</td>\n",
              "      <td>0.058949</td>\n",
              "      <td>0.0</td>\n",
              "      <td>0.014700</td>\n",
              "      <td>0.000000</td>\n",
              "      <td>0.000000</td>\n",
              "      <td>0.00000</td>\n",
              "      <td>0.000000</td>\n",
              "      <td>0.000000</td>\n",
              "      <td>0.000000</td>\n",
              "      <td>0.014743</td>\n",
              "      <td>0.000000</td>\n",
              "      <td>0.000000</td>\n",
              "      <td>0.0</td>\n",
              "      <td>0.000000</td>\n",
              "      <td>0.000000</td>\n",
              "      <td>0.000000</td>\n",
              "      <td>0.0</td>\n",
              "      <td>0.000000</td>\n",
              "      <td>0.014802</td>\n",
              "      <td>0.014818</td>\n",
              "      <td>0.000000</td>\n",
              "      <td>0.000000</td>\n",
              "      <td>0.022168</td>\n",
              "      <td>0.000000</td>\n",
              "      <td>0.0</td>\n",
              "      <td>0.000000</td>\n",
              "      <td>0.051764</td>\n",
              "      <td>0.000000</td>\n",
              "      <td>...</td>\n",
              "      <td>0.007153</td>\n",
              "      <td>0.010241</td>\n",
              "      <td>0.005084</td>\n",
              "      <td>0.010341</td>\n",
              "      <td>0.009629</td>\n",
              "      <td>0.008034</td>\n",
              "      <td>0.012606</td>\n",
              "      <td>0.022932</td>\n",
              "      <td>0.002855</td>\n",
              "      <td>0.010928</td>\n",
              "      <td>0.004953</td>\n",
              "      <td>0.001122</td>\n",
              "      <td>0.007357</td>\n",
              "      <td>0.032969</td>\n",
              "      <td>0.004212</td>\n",
              "      <td>0.004200</td>\n",
              "      <td>0.002189</td>\n",
              "      <td>0.004183</td>\n",
              "      <td>0.000931</td>\n",
              "      <td>0.000753</td>\n",
              "      <td>0.008522</td>\n",
              "      <td>0.011424</td>\n",
              "      <td>0.042281</td>\n",
              "      <td>0.003987</td>\n",
              "      <td>0.002132</td>\n",
              "      <td>0.003802</td>\n",
              "      <td>0.003952</td>\n",
              "      <td>0.009427</td>\n",
              "      <td>0.017466</td>\n",
              "      <td>0.023188</td>\n",
              "      <td>0.008817</td>\n",
              "      <td>0.006589</td>\n",
              "      <td>0.005276</td>\n",
              "      <td>0.011648</td>\n",
              "      <td>0.011829</td>\n",
              "      <td>0.015558</td>\n",
              "      <td>0.001788</td>\n",
              "      <td>0.005251</td>\n",
              "      <td>-2.263960</td>\n",
              "      <td>0.487708</td>\n",
              "    </tr>\n",
              "    <tr>\n",
              "      <th>150</th>\n",
              "      <td>360</td>\n",
              "      <td>2</td>\n",
              "      <td>0.000000</td>\n",
              "      <td>0.000000</td>\n",
              "      <td>0.0</td>\n",
              "      <td>0.000000</td>\n",
              "      <td>0.022267</td>\n",
              "      <td>0.000000</td>\n",
              "      <td>0.029678</td>\n",
              "      <td>0.014831</td>\n",
              "      <td>0.048146</td>\n",
              "      <td>0.092654</td>\n",
              "      <td>0.000000</td>\n",
              "      <td>NaN</td>\n",
              "      <td>0.000000</td>\n",
              "      <td>0.051902</td>\n",
              "      <td>0.000000</td>\n",
              "      <td>0.02227</td>\n",
              "      <td>0.000000</td>\n",
              "      <td>0.118457</td>\n",
              "      <td>0.059084</td>\n",
              "      <td>0.000000</td>\n",
              "      <td>0.000000</td>\n",
              "      <td>0.014806</td>\n",
              "      <td>0.0</td>\n",
              "      <td>0.022166</td>\n",
              "      <td>0.000000</td>\n",
              "      <td>0.000000</td>\n",
              "      <td>0.0</td>\n",
              "      <td>0.000000</td>\n",
              "      <td>0.029588</td>\n",
              "      <td>0.044418</td>\n",
              "      <td>0.000000</td>\n",
              "      <td>0.000000</td>\n",
              "      <td>0.000000</td>\n",
              "      <td>0.000000</td>\n",
              "      <td>0.0</td>\n",
              "      <td>0.000000</td>\n",
              "      <td>0.000000</td>\n",
              "      <td>0.000000</td>\n",
              "      <td>...</td>\n",
              "      <td>0.008215</td>\n",
              "      <td>0.015199</td>\n",
              "      <td>0.007220</td>\n",
              "      <td>0.007814</td>\n",
              "      <td>0.003919</td>\n",
              "      <td>0.012528</td>\n",
              "      <td>0.005863</td>\n",
              "      <td>0.008573</td>\n",
              "      <td>0.009908</td>\n",
              "      <td>0.004453</td>\n",
              "      <td>0.007961</td>\n",
              "      <td>0.003208</td>\n",
              "      <td>0.006635</td>\n",
              "      <td>0.002473</td>\n",
              "      <td>0.001524</td>\n",
              "      <td>0.007806</td>\n",
              "      <td>0.002231</td>\n",
              "      <td>0.006975</td>\n",
              "      <td>0.004943</td>\n",
              "      <td>0.002252</td>\n",
              "      <td>0.007676</td>\n",
              "      <td>0.022513</td>\n",
              "      <td>0.124384</td>\n",
              "      <td>0.017086</td>\n",
              "      <td>0.023940</td>\n",
              "      <td>0.036648</td>\n",
              "      <td>0.025713</td>\n",
              "      <td>0.020880</td>\n",
              "      <td>0.009542</td>\n",
              "      <td>0.006752</td>\n",
              "      <td>0.018640</td>\n",
              "      <td>0.020972</td>\n",
              "      <td>0.012728</td>\n",
              "      <td>0.007921</td>\n",
              "      <td>0.000643</td>\n",
              "      <td>0.029692</td>\n",
              "      <td>0.016440</td>\n",
              "      <td>0.011970</td>\n",
              "      <td>-2.343106</td>\n",
              "      <td>0.544476</td>\n",
              "    </tr>\n",
              "    <tr>\n",
              "      <th>151</th>\n",
              "      <td>360</td>\n",
              "      <td>3</td>\n",
              "      <td>0.000000</td>\n",
              "      <td>0.007384</td>\n",
              "      <td>0.0</td>\n",
              "      <td>0.000000</td>\n",
              "      <td>0.000000</td>\n",
              "      <td>0.007417</td>\n",
              "      <td>0.000000</td>\n",
              "      <td>0.044557</td>\n",
              "      <td>0.052169</td>\n",
              "      <td>0.044613</td>\n",
              "      <td>0.000000</td>\n",
              "      <td>0.0</td>\n",
              "      <td>0.000000</td>\n",
              "      <td>0.000000</td>\n",
              "      <td>0.007423</td>\n",
              "      <td>0.00000</td>\n",
              "      <td>0.000000</td>\n",
              "      <td>0.007447</td>\n",
              "      <td>0.000000</td>\n",
              "      <td>0.000000</td>\n",
              "      <td>0.007418</td>\n",
              "      <td>0.000000</td>\n",
              "      <td>0.0</td>\n",
              "      <td>0.000000</td>\n",
              "      <td>0.000000</td>\n",
              "      <td>0.007389</td>\n",
              "      <td>0.0</td>\n",
              "      <td>0.000000</td>\n",
              "      <td>0.000000</td>\n",
              "      <td>0.000000</td>\n",
              "      <td>0.000000</td>\n",
              "      <td>0.000000</td>\n",
              "      <td>0.000000</td>\n",
              "      <td>0.007362</td>\n",
              "      <td>0.0</td>\n",
              "      <td>0.000000</td>\n",
              "      <td>0.036824</td>\n",
              "      <td>0.000000</td>\n",
              "      <td>...</td>\n",
              "      <td>0.003782</td>\n",
              "      <td>0.029602</td>\n",
              "      <td>0.013475</td>\n",
              "      <td>0.031606</td>\n",
              "      <td>0.007952</td>\n",
              "      <td>0.021086</td>\n",
              "      <td>0.010731</td>\n",
              "      <td>0.025026</td>\n",
              "      <td>0.004192</td>\n",
              "      <td>0.009762</td>\n",
              "      <td>0.016240</td>\n",
              "      <td>0.012835</td>\n",
              "      <td>0.008973</td>\n",
              "      <td>0.023312</td>\n",
              "      <td>0.003007</td>\n",
              "      <td>0.009878</td>\n",
              "      <td>0.011719</td>\n",
              "      <td>0.009139</td>\n",
              "      <td>0.006265</td>\n",
              "      <td>0.010273</td>\n",
              "      <td>0.012355</td>\n",
              "      <td>0.011745</td>\n",
              "      <td>0.001635</td>\n",
              "      <td>0.005562</td>\n",
              "      <td>0.007811</td>\n",
              "      <td>0.010685</td>\n",
              "      <td>0.062768</td>\n",
              "      <td>0.072686</td>\n",
              "      <td>0.009503</td>\n",
              "      <td>0.017088</td>\n",
              "      <td>0.013628</td>\n",
              "      <td>0.020397</td>\n",
              "      <td>0.016834</td>\n",
              "      <td>0.031869</td>\n",
              "      <td>0.012468</td>\n",
              "      <td>0.065173</td>\n",
              "      <td>0.048286</td>\n",
              "      <td>0.021237</td>\n",
              "      <td>-2.331621</td>\n",
              "      <td>0.633181</td>\n",
              "    </tr>\n",
              "    <tr>\n",
              "      <th>152</th>\n",
              "      <td>360</td>\n",
              "      <td>4</td>\n",
              "      <td>0.088086</td>\n",
              "      <td>0.109737</td>\n",
              "      <td>0.0</td>\n",
              "      <td>0.014648</td>\n",
              "      <td>0.003662</td>\n",
              "      <td>0.036627</td>\n",
              "      <td>0.007319</td>\n",
              "      <td>0.197325</td>\n",
              "      <td>0.094835</td>\n",
              "      <td>0.029218</td>\n",
              "      <td>0.000000</td>\n",
              "      <td>0.0</td>\n",
              "      <td>0.000000</td>\n",
              "      <td>0.050850</td>\n",
              "      <td>0.000000</td>\n",
              "      <td>0.00000</td>\n",
              "      <td>0.098100</td>\n",
              "      <td>0.058245</td>\n",
              "      <td>0.007266</td>\n",
              "      <td>0.018169</td>\n",
              "      <td>0.007283</td>\n",
              "      <td>0.014541</td>\n",
              "      <td>0.0</td>\n",
              "      <td>0.000000</td>\n",
              "      <td>0.000000</td>\n",
              "      <td>0.000000</td>\n",
              "      <td>0.0</td>\n",
              "      <td>0.076542</td>\n",
              "      <td>0.182548</td>\n",
              "      <td>0.000000</td>\n",
              "      <td>0.051136</td>\n",
              "      <td>0.007305</td>\n",
              "      <td>0.000000</td>\n",
              "      <td>0.000000</td>\n",
              "      <td>0.0</td>\n",
              "      <td>0.051230</td>\n",
              "      <td>0.036611</td>\n",
              "      <td>0.000000</td>\n",
              "      <td>...</td>\n",
              "      <td>0.008732</td>\n",
              "      <td>0.009927</td>\n",
              "      <td>0.006543</td>\n",
              "      <td>0.043907</td>\n",
              "      <td>0.015489</td>\n",
              "      <td>0.039439</td>\n",
              "      <td>0.027264</td>\n",
              "      <td>0.024433</td>\n",
              "      <td>0.008796</td>\n",
              "      <td>0.002315</td>\n",
              "      <td>0.005078</td>\n",
              "      <td>0.005520</td>\n",
              "      <td>0.015532</td>\n",
              "      <td>0.031905</td>\n",
              "      <td>0.005469</td>\n",
              "      <td>0.015763</td>\n",
              "      <td>0.005532</td>\n",
              "      <td>0.014603</td>\n",
              "      <td>0.018986</td>\n",
              "      <td>0.006644</td>\n",
              "      <td>0.005556</td>\n",
              "      <td>0.022630</td>\n",
              "      <td>0.025087</td>\n",
              "      <td>0.020777</td>\n",
              "      <td>0.055104</td>\n",
              "      <td>0.019893</td>\n",
              "      <td>0.021708</td>\n",
              "      <td>0.008083</td>\n",
              "      <td>0.010274</td>\n",
              "      <td>0.013227</td>\n",
              "      <td>0.008228</td>\n",
              "      <td>0.013394</td>\n",
              "      <td>0.009415</td>\n",
              "      <td>0.024983</td>\n",
              "      <td>0.019524</td>\n",
              "      <td>0.018342</td>\n",
              "      <td>0.008442</td>\n",
              "      <td>0.012525</td>\n",
              "      <td>-2.415575</td>\n",
              "      <td>0.880580</td>\n",
              "    </tr>\n",
              "  </tbody>\n",
              "</table>\n",
              "<p>5 rows × 126 columns</p>\n",
              "</div>"
            ],
            "text/plain": [
              "     pid  day  abs_ret0  abs_ret1  ...  rel_vol59  rel_vol60        LS       NLV\n",
              "ID                                 ...                                          \n",
              "148  360    0  0.000000  0.000000  ...   0.010654   0.006971 -2.307230  0.646580\n",
              "149  360    1  0.000000  0.000000  ...   0.001788   0.005251 -2.263960  0.487708\n",
              "150  360    2  0.000000  0.000000  ...   0.016440   0.011970 -2.343106  0.544476\n",
              "151  360    3  0.000000  0.007384  ...   0.048286   0.021237 -2.331621  0.633181\n",
              "152  360    4  0.088086  0.109737  ...   0.008442   0.012525 -2.415575  0.880580\n",
              "\n",
              "[5 rows x 126 columns]"
            ]
          },
          "metadata": {},
          "execution_count": 4
        }
      ]
    },
    {
      "cell_type": "code",
      "metadata": {
        "colab": {
          "base_uri": "https://localhost:8080/",
          "height": 238
        },
        "id": "bfad347c",
        "outputId": "754749f4-9e0a-453c-d3c1-bb5e18ae9733"
      },
      "source": [
        "Y_untouched.head()"
      ],
      "id": "bfad347c",
      "execution_count": 5,
      "outputs": [
        {
          "output_type": "execute_result",
          "data": {
            "text/html": [
              "<div>\n",
              "<style scoped>\n",
              "    .dataframe tbody tr th:only-of-type {\n",
              "        vertical-align: middle;\n",
              "    }\n",
              "\n",
              "    .dataframe tbody tr th {\n",
              "        vertical-align: top;\n",
              "    }\n",
              "\n",
              "    .dataframe thead th {\n",
              "        text-align: right;\n",
              "    }\n",
              "</style>\n",
              "<table border=\"1\" class=\"dataframe\">\n",
              "  <thead>\n",
              "    <tr style=\"text-align: right;\">\n",
              "      <th></th>\n",
              "      <th>target</th>\n",
              "    </tr>\n",
              "    <tr>\n",
              "      <th>ID</th>\n",
              "      <th></th>\n",
              "    </tr>\n",
              "  </thead>\n",
              "  <tbody>\n",
              "    <tr>\n",
              "      <th>148</th>\n",
              "      <td>-3.403606</td>\n",
              "    </tr>\n",
              "    <tr>\n",
              "      <th>149</th>\n",
              "      <td>-2.904798</td>\n",
              "    </tr>\n",
              "    <tr>\n",
              "      <th>150</th>\n",
              "      <td>-2.337807</td>\n",
              "    </tr>\n",
              "    <tr>\n",
              "      <th>151</th>\n",
              "      <td>-2.285676</td>\n",
              "    </tr>\n",
              "    <tr>\n",
              "      <th>152</th>\n",
              "      <td>-2.606321</td>\n",
              "    </tr>\n",
              "  </tbody>\n",
              "</table>\n",
              "</div>"
            ],
            "text/plain": [
              "       target\n",
              "ID           \n",
              "148 -3.403606\n",
              "149 -2.904798\n",
              "150 -2.337807\n",
              "151 -2.285676\n",
              "152 -2.606321"
            ]
          },
          "metadata": {},
          "execution_count": 5
        }
      ]
    },
    {
      "cell_type": "markdown",
      "metadata": {
        "id": "08b7cee5"
      },
      "source": [
        "***On regarde les dimensions de notre dataset:***"
      ],
      "id": "08b7cee5"
    },
    {
      "cell_type": "code",
      "metadata": {
        "colab": {
          "base_uri": "https://localhost:8080/"
        },
        "id": "4ed387f8",
        "outputId": "f5b868ac-538d-4270-e650-5e716a499f24"
      },
      "source": [
        "print(X_untouched.shape, Y_untouched.shape)"
      ],
      "id": "4ed387f8",
      "execution_count": 6,
      "outputs": [
        {
          "output_type": "stream",
          "name": "stdout",
          "text": [
            "(684482, 126) (684482, 1)\n"
          ]
        }
      ]
    },
    {
      "cell_type": "markdown",
      "metadata": {
        "id": "fe8578e6"
      },
      "source": [
        "***Notre jeu de données contient donc 684482 observations et 126 features (pid, day, abs_retn, rel_voln, LS et NLV), on essaie de prédire la donnée 'target'.***"
      ],
      "id": "fe8578e6"
    },
    {
      "cell_type": "markdown",
      "metadata": {
        "id": "ab09db4e"
      },
      "source": [
        "## <font color=blue>Prétraîtement des données d'entraînement</font> \n"
      ],
      "id": "ab09db4e"
    },
    {
      "cell_type": "markdown",
      "metadata": {
        "id": "rASt8ZiDE3Mz"
      },
      "source": [
        "***On va enlever la colonne 'pid parce que c'est une donnée catégorielle:***"
      ],
      "id": "rASt8ZiDE3Mz"
    },
    {
      "cell_type": "code",
      "metadata": {
        "id": "87JdzuczFwGn"
      },
      "source": [
        "columns_to_scale = [s for s in X_untouched.columns]\n",
        "columns_to_scale.remove('pid')\n",
        "#Pour simplifier, on appellera X0 le dataset intact (avec la colonne 'pid')\n",
        "X0 = X_untouched\n",
        "\n",
        "#La commande ci-dessous reste commentée, on en aura besoin pour une partie ultérieure\n",
        "#X0[columns_to_scale] = StandardScaler().fit_transform(X0[columns_to_scale])"
      ],
      "id": "87JdzuczFwGn",
      "execution_count": 7,
      "outputs": []
    },
    {
      "cell_type": "code",
      "metadata": {
        "colab": {
          "base_uri": "https://localhost:8080/",
          "height": 475
        },
        "id": "UbiTSOxeGDnL",
        "outputId": "01d81d12-a934-487c-b0ab-8e3f71d23406"
      },
      "source": [
        "X0"
      ],
      "id": "UbiTSOxeGDnL",
      "execution_count": 8,
      "outputs": [
        {
          "output_type": "execute_result",
          "data": {
            "text/html": [
              "<div>\n",
              "<style scoped>\n",
              "    .dataframe tbody tr th:only-of-type {\n",
              "        vertical-align: middle;\n",
              "    }\n",
              "\n",
              "    .dataframe tbody tr th {\n",
              "        vertical-align: top;\n",
              "    }\n",
              "\n",
              "    .dataframe thead th {\n",
              "        text-align: right;\n",
              "    }\n",
              "</style>\n",
              "<table border=\"1\" class=\"dataframe\">\n",
              "  <thead>\n",
              "    <tr style=\"text-align: right;\">\n",
              "      <th></th>\n",
              "      <th>pid</th>\n",
              "      <th>day</th>\n",
              "      <th>abs_ret0</th>\n",
              "      <th>abs_ret1</th>\n",
              "      <th>abs_ret2</th>\n",
              "      <th>abs_ret3</th>\n",
              "      <th>abs_ret4</th>\n",
              "      <th>abs_ret5</th>\n",
              "      <th>abs_ret6</th>\n",
              "      <th>abs_ret7</th>\n",
              "      <th>abs_ret8</th>\n",
              "      <th>abs_ret9</th>\n",
              "      <th>abs_ret10</th>\n",
              "      <th>abs_ret11</th>\n",
              "      <th>abs_ret12</th>\n",
              "      <th>abs_ret13</th>\n",
              "      <th>abs_ret14</th>\n",
              "      <th>abs_ret15</th>\n",
              "      <th>abs_ret16</th>\n",
              "      <th>abs_ret17</th>\n",
              "      <th>abs_ret18</th>\n",
              "      <th>abs_ret19</th>\n",
              "      <th>abs_ret20</th>\n",
              "      <th>abs_ret21</th>\n",
              "      <th>abs_ret22</th>\n",
              "      <th>abs_ret23</th>\n",
              "      <th>abs_ret24</th>\n",
              "      <th>abs_ret25</th>\n",
              "      <th>abs_ret26</th>\n",
              "      <th>abs_ret27</th>\n",
              "      <th>abs_ret28</th>\n",
              "      <th>abs_ret29</th>\n",
              "      <th>abs_ret30</th>\n",
              "      <th>abs_ret31</th>\n",
              "      <th>abs_ret32</th>\n",
              "      <th>abs_ret33</th>\n",
              "      <th>abs_ret34</th>\n",
              "      <th>abs_ret35</th>\n",
              "      <th>abs_ret36</th>\n",
              "      <th>abs_ret37</th>\n",
              "      <th>...</th>\n",
              "      <th>rel_vol23</th>\n",
              "      <th>rel_vol24</th>\n",
              "      <th>rel_vol25</th>\n",
              "      <th>rel_vol26</th>\n",
              "      <th>rel_vol27</th>\n",
              "      <th>rel_vol28</th>\n",
              "      <th>rel_vol29</th>\n",
              "      <th>rel_vol30</th>\n",
              "      <th>rel_vol31</th>\n",
              "      <th>rel_vol32</th>\n",
              "      <th>rel_vol33</th>\n",
              "      <th>rel_vol34</th>\n",
              "      <th>rel_vol35</th>\n",
              "      <th>rel_vol36</th>\n",
              "      <th>rel_vol37</th>\n",
              "      <th>rel_vol38</th>\n",
              "      <th>rel_vol39</th>\n",
              "      <th>rel_vol40</th>\n",
              "      <th>rel_vol41</th>\n",
              "      <th>rel_vol42</th>\n",
              "      <th>rel_vol43</th>\n",
              "      <th>rel_vol44</th>\n",
              "      <th>rel_vol45</th>\n",
              "      <th>rel_vol46</th>\n",
              "      <th>rel_vol47</th>\n",
              "      <th>rel_vol48</th>\n",
              "      <th>rel_vol49</th>\n",
              "      <th>rel_vol50</th>\n",
              "      <th>rel_vol51</th>\n",
              "      <th>rel_vol52</th>\n",
              "      <th>rel_vol53</th>\n",
              "      <th>rel_vol54</th>\n",
              "      <th>rel_vol55</th>\n",
              "      <th>rel_vol56</th>\n",
              "      <th>rel_vol57</th>\n",
              "      <th>rel_vol58</th>\n",
              "      <th>rel_vol59</th>\n",
              "      <th>rel_vol60</th>\n",
              "      <th>LS</th>\n",
              "      <th>NLV</th>\n",
              "    </tr>\n",
              "    <tr>\n",
              "      <th>ID</th>\n",
              "      <th></th>\n",
              "      <th></th>\n",
              "      <th></th>\n",
              "      <th></th>\n",
              "      <th></th>\n",
              "      <th></th>\n",
              "      <th></th>\n",
              "      <th></th>\n",
              "      <th></th>\n",
              "      <th></th>\n",
              "      <th></th>\n",
              "      <th></th>\n",
              "      <th></th>\n",
              "      <th></th>\n",
              "      <th></th>\n",
              "      <th></th>\n",
              "      <th></th>\n",
              "      <th></th>\n",
              "      <th></th>\n",
              "      <th></th>\n",
              "      <th></th>\n",
              "      <th></th>\n",
              "      <th></th>\n",
              "      <th></th>\n",
              "      <th></th>\n",
              "      <th></th>\n",
              "      <th></th>\n",
              "      <th></th>\n",
              "      <th></th>\n",
              "      <th></th>\n",
              "      <th></th>\n",
              "      <th></th>\n",
              "      <th></th>\n",
              "      <th></th>\n",
              "      <th></th>\n",
              "      <th></th>\n",
              "      <th></th>\n",
              "      <th></th>\n",
              "      <th></th>\n",
              "      <th></th>\n",
              "      <th></th>\n",
              "      <th></th>\n",
              "      <th></th>\n",
              "      <th></th>\n",
              "      <th></th>\n",
              "      <th></th>\n",
              "      <th></th>\n",
              "      <th></th>\n",
              "      <th></th>\n",
              "      <th></th>\n",
              "      <th></th>\n",
              "      <th></th>\n",
              "      <th></th>\n",
              "      <th></th>\n",
              "      <th></th>\n",
              "      <th></th>\n",
              "      <th></th>\n",
              "      <th></th>\n",
              "      <th></th>\n",
              "      <th></th>\n",
              "      <th></th>\n",
              "      <th></th>\n",
              "      <th></th>\n",
              "      <th></th>\n",
              "      <th></th>\n",
              "      <th></th>\n",
              "      <th></th>\n",
              "      <th></th>\n",
              "      <th></th>\n",
              "      <th></th>\n",
              "      <th></th>\n",
              "      <th></th>\n",
              "      <th></th>\n",
              "      <th></th>\n",
              "      <th></th>\n",
              "      <th></th>\n",
              "      <th></th>\n",
              "      <th></th>\n",
              "      <th></th>\n",
              "      <th></th>\n",
              "      <th></th>\n",
              "    </tr>\n",
              "  </thead>\n",
              "  <tbody>\n",
              "    <tr>\n",
              "      <th>148</th>\n",
              "      <td>360</td>\n",
              "      <td>0</td>\n",
              "      <td>0.000000</td>\n",
              "      <td>0.000000</td>\n",
              "      <td>0.000000</td>\n",
              "      <td>0.000000</td>\n",
              "      <td>0.029317</td>\n",
              "      <td>0.000000</td>\n",
              "      <td>0.000000</td>\n",
              "      <td>0.000000</td>\n",
              "      <td>0.000000</td>\n",
              "      <td>0.073260</td>\n",
              "      <td>0.073265</td>\n",
              "      <td>0.000000</td>\n",
              "      <td>0.036601</td>\n",
              "      <td>0.102399</td>\n",
              "      <td>0.029261</td>\n",
              "      <td>0.000000</td>\n",
              "      <td>0.073206</td>\n",
              "      <td>0.032942</td>\n",
              "      <td>0.036609</td>\n",
              "      <td>0.000000</td>\n",
              "      <td>0.014641</td>\n",
              "      <td>0.036643</td>\n",
              "      <td>0.000000</td>\n",
              "      <td>0.036630</td>\n",
              "      <td>0.007326</td>\n",
              "      <td>0.000000</td>\n",
              "      <td>0.000000</td>\n",
              "      <td>0.000000</td>\n",
              "      <td>0.000000</td>\n",
              "      <td>0.000000</td>\n",
              "      <td>0.014656</td>\n",
              "      <td>0.000000</td>\n",
              "      <td>0.000000</td>\n",
              "      <td>0.000000</td>\n",
              "      <td>0.000000</td>\n",
              "      <td>0.021989</td>\n",
              "      <td>0.036627</td>\n",
              "      <td>0.018305</td>\n",
              "      <td>...</td>\n",
              "      <td>0.019147</td>\n",
              "      <td>0.023043</td>\n",
              "      <td>0.010204</td>\n",
              "      <td>0.015254</td>\n",
              "      <td>0.006455</td>\n",
              "      <td>0.006221</td>\n",
              "      <td>0.007477</td>\n",
              "      <td>0.015452</td>\n",
              "      <td>0.005510</td>\n",
              "      <td>0.014621</td>\n",
              "      <td>0.004915</td>\n",
              "      <td>0.009695</td>\n",
              "      <td>0.014404</td>\n",
              "      <td>0.011438</td>\n",
              "      <td>0.005018</td>\n",
              "      <td>0.003520</td>\n",
              "      <td>0.006112</td>\n",
              "      <td>0.001629</td>\n",
              "      <td>0.007395</td>\n",
              "      <td>0.007272</td>\n",
              "      <td>0.017971</td>\n",
              "      <td>0.007965</td>\n",
              "      <td>0.003240</td>\n",
              "      <td>0.008937</td>\n",
              "      <td>0.008786</td>\n",
              "      <td>0.009677</td>\n",
              "      <td>0.008480</td>\n",
              "      <td>0.011040</td>\n",
              "      <td>0.004054</td>\n",
              "      <td>0.009431</td>\n",
              "      <td>0.004521</td>\n",
              "      <td>0.015771</td>\n",
              "      <td>0.009462</td>\n",
              "      <td>0.012697</td>\n",
              "      <td>0.019507</td>\n",
              "      <td>0.005101</td>\n",
              "      <td>0.010654</td>\n",
              "      <td>0.006971</td>\n",
              "      <td>-2.307230</td>\n",
              "      <td>0.646580</td>\n",
              "    </tr>\n",
              "    <tr>\n",
              "      <th>149</th>\n",
              "      <td>360</td>\n",
              "      <td>1</td>\n",
              "      <td>0.000000</td>\n",
              "      <td>0.000000</td>\n",
              "      <td>0.000000</td>\n",
              "      <td>0.022056</td>\n",
              "      <td>0.000000</td>\n",
              "      <td>0.036711</td>\n",
              "      <td>0.000000</td>\n",
              "      <td>0.000000</td>\n",
              "      <td>0.036767</td>\n",
              "      <td>0.000000</td>\n",
              "      <td>0.058949</td>\n",
              "      <td>0.000000</td>\n",
              "      <td>0.014700</td>\n",
              "      <td>0.000000</td>\n",
              "      <td>0.000000</td>\n",
              "      <td>0.000000</td>\n",
              "      <td>0.000000</td>\n",
              "      <td>0.000000</td>\n",
              "      <td>0.000000</td>\n",
              "      <td>0.014743</td>\n",
              "      <td>0.000000</td>\n",
              "      <td>0.000000</td>\n",
              "      <td>0.000000</td>\n",
              "      <td>0.000000</td>\n",
              "      <td>0.000000</td>\n",
              "      <td>0.000000</td>\n",
              "      <td>0.000000</td>\n",
              "      <td>0.000000</td>\n",
              "      <td>0.014802</td>\n",
              "      <td>0.014818</td>\n",
              "      <td>0.000000</td>\n",
              "      <td>0.000000</td>\n",
              "      <td>0.022168</td>\n",
              "      <td>0.000000</td>\n",
              "      <td>0.000000</td>\n",
              "      <td>0.000000</td>\n",
              "      <td>0.051764</td>\n",
              "      <td>0.000000</td>\n",
              "      <td>...</td>\n",
              "      <td>0.007153</td>\n",
              "      <td>0.010241</td>\n",
              "      <td>0.005084</td>\n",
              "      <td>0.010341</td>\n",
              "      <td>0.009629</td>\n",
              "      <td>0.008034</td>\n",
              "      <td>0.012606</td>\n",
              "      <td>0.022932</td>\n",
              "      <td>0.002855</td>\n",
              "      <td>0.010928</td>\n",
              "      <td>0.004953</td>\n",
              "      <td>0.001122</td>\n",
              "      <td>0.007357</td>\n",
              "      <td>0.032969</td>\n",
              "      <td>0.004212</td>\n",
              "      <td>0.004200</td>\n",
              "      <td>0.002189</td>\n",
              "      <td>0.004183</td>\n",
              "      <td>0.000931</td>\n",
              "      <td>0.000753</td>\n",
              "      <td>0.008522</td>\n",
              "      <td>0.011424</td>\n",
              "      <td>0.042281</td>\n",
              "      <td>0.003987</td>\n",
              "      <td>0.002132</td>\n",
              "      <td>0.003802</td>\n",
              "      <td>0.003952</td>\n",
              "      <td>0.009427</td>\n",
              "      <td>0.017466</td>\n",
              "      <td>0.023188</td>\n",
              "      <td>0.008817</td>\n",
              "      <td>0.006589</td>\n",
              "      <td>0.005276</td>\n",
              "      <td>0.011648</td>\n",
              "      <td>0.011829</td>\n",
              "      <td>0.015558</td>\n",
              "      <td>0.001788</td>\n",
              "      <td>0.005251</td>\n",
              "      <td>-2.263960</td>\n",
              "      <td>0.487708</td>\n",
              "    </tr>\n",
              "    <tr>\n",
              "      <th>150</th>\n",
              "      <td>360</td>\n",
              "      <td>2</td>\n",
              "      <td>0.000000</td>\n",
              "      <td>0.000000</td>\n",
              "      <td>0.000000</td>\n",
              "      <td>0.000000</td>\n",
              "      <td>0.022267</td>\n",
              "      <td>0.000000</td>\n",
              "      <td>0.029678</td>\n",
              "      <td>0.014831</td>\n",
              "      <td>0.048146</td>\n",
              "      <td>0.092654</td>\n",
              "      <td>0.000000</td>\n",
              "      <td>NaN</td>\n",
              "      <td>0.000000</td>\n",
              "      <td>0.051902</td>\n",
              "      <td>0.000000</td>\n",
              "      <td>0.022270</td>\n",
              "      <td>0.000000</td>\n",
              "      <td>0.118457</td>\n",
              "      <td>0.059084</td>\n",
              "      <td>0.000000</td>\n",
              "      <td>0.000000</td>\n",
              "      <td>0.014806</td>\n",
              "      <td>0.000000</td>\n",
              "      <td>0.022166</td>\n",
              "      <td>0.000000</td>\n",
              "      <td>0.000000</td>\n",
              "      <td>0.000000</td>\n",
              "      <td>0.000000</td>\n",
              "      <td>0.029588</td>\n",
              "      <td>0.044418</td>\n",
              "      <td>0.000000</td>\n",
              "      <td>0.000000</td>\n",
              "      <td>0.000000</td>\n",
              "      <td>0.000000</td>\n",
              "      <td>0.000000</td>\n",
              "      <td>0.000000</td>\n",
              "      <td>0.000000</td>\n",
              "      <td>0.000000</td>\n",
              "      <td>...</td>\n",
              "      <td>0.008215</td>\n",
              "      <td>0.015199</td>\n",
              "      <td>0.007220</td>\n",
              "      <td>0.007814</td>\n",
              "      <td>0.003919</td>\n",
              "      <td>0.012528</td>\n",
              "      <td>0.005863</td>\n",
              "      <td>0.008573</td>\n",
              "      <td>0.009908</td>\n",
              "      <td>0.004453</td>\n",
              "      <td>0.007961</td>\n",
              "      <td>0.003208</td>\n",
              "      <td>0.006635</td>\n",
              "      <td>0.002473</td>\n",
              "      <td>0.001524</td>\n",
              "      <td>0.007806</td>\n",
              "      <td>0.002231</td>\n",
              "      <td>0.006975</td>\n",
              "      <td>0.004943</td>\n",
              "      <td>0.002252</td>\n",
              "      <td>0.007676</td>\n",
              "      <td>0.022513</td>\n",
              "      <td>0.124384</td>\n",
              "      <td>0.017086</td>\n",
              "      <td>0.023940</td>\n",
              "      <td>0.036648</td>\n",
              "      <td>0.025713</td>\n",
              "      <td>0.020880</td>\n",
              "      <td>0.009542</td>\n",
              "      <td>0.006752</td>\n",
              "      <td>0.018640</td>\n",
              "      <td>0.020972</td>\n",
              "      <td>0.012728</td>\n",
              "      <td>0.007921</td>\n",
              "      <td>0.000643</td>\n",
              "      <td>0.029692</td>\n",
              "      <td>0.016440</td>\n",
              "      <td>0.011970</td>\n",
              "      <td>-2.343106</td>\n",
              "      <td>0.544476</td>\n",
              "    </tr>\n",
              "    <tr>\n",
              "      <th>151</th>\n",
              "      <td>360</td>\n",
              "      <td>3</td>\n",
              "      <td>0.000000</td>\n",
              "      <td>0.007384</td>\n",
              "      <td>0.000000</td>\n",
              "      <td>0.000000</td>\n",
              "      <td>0.000000</td>\n",
              "      <td>0.007417</td>\n",
              "      <td>0.000000</td>\n",
              "      <td>0.044557</td>\n",
              "      <td>0.052169</td>\n",
              "      <td>0.044613</td>\n",
              "      <td>0.000000</td>\n",
              "      <td>0.000000</td>\n",
              "      <td>0.000000</td>\n",
              "      <td>0.000000</td>\n",
              "      <td>0.007423</td>\n",
              "      <td>0.000000</td>\n",
              "      <td>0.000000</td>\n",
              "      <td>0.007447</td>\n",
              "      <td>0.000000</td>\n",
              "      <td>0.000000</td>\n",
              "      <td>0.007418</td>\n",
              "      <td>0.000000</td>\n",
              "      <td>0.000000</td>\n",
              "      <td>0.000000</td>\n",
              "      <td>0.000000</td>\n",
              "      <td>0.007389</td>\n",
              "      <td>0.000000</td>\n",
              "      <td>0.000000</td>\n",
              "      <td>0.000000</td>\n",
              "      <td>0.000000</td>\n",
              "      <td>0.000000</td>\n",
              "      <td>0.000000</td>\n",
              "      <td>0.000000</td>\n",
              "      <td>0.007362</td>\n",
              "      <td>0.000000</td>\n",
              "      <td>0.000000</td>\n",
              "      <td>0.036824</td>\n",
              "      <td>0.000000</td>\n",
              "      <td>...</td>\n",
              "      <td>0.003782</td>\n",
              "      <td>0.029602</td>\n",
              "      <td>0.013475</td>\n",
              "      <td>0.031606</td>\n",
              "      <td>0.007952</td>\n",
              "      <td>0.021086</td>\n",
              "      <td>0.010731</td>\n",
              "      <td>0.025026</td>\n",
              "      <td>0.004192</td>\n",
              "      <td>0.009762</td>\n",
              "      <td>0.016240</td>\n",
              "      <td>0.012835</td>\n",
              "      <td>0.008973</td>\n",
              "      <td>0.023312</td>\n",
              "      <td>0.003007</td>\n",
              "      <td>0.009878</td>\n",
              "      <td>0.011719</td>\n",
              "      <td>0.009139</td>\n",
              "      <td>0.006265</td>\n",
              "      <td>0.010273</td>\n",
              "      <td>0.012355</td>\n",
              "      <td>0.011745</td>\n",
              "      <td>0.001635</td>\n",
              "      <td>0.005562</td>\n",
              "      <td>0.007811</td>\n",
              "      <td>0.010685</td>\n",
              "      <td>0.062768</td>\n",
              "      <td>0.072686</td>\n",
              "      <td>0.009503</td>\n",
              "      <td>0.017088</td>\n",
              "      <td>0.013628</td>\n",
              "      <td>0.020397</td>\n",
              "      <td>0.016834</td>\n",
              "      <td>0.031869</td>\n",
              "      <td>0.012468</td>\n",
              "      <td>0.065173</td>\n",
              "      <td>0.048286</td>\n",
              "      <td>0.021237</td>\n",
              "      <td>-2.331621</td>\n",
              "      <td>0.633181</td>\n",
              "    </tr>\n",
              "    <tr>\n",
              "      <th>152</th>\n",
              "      <td>360</td>\n",
              "      <td>4</td>\n",
              "      <td>0.088086</td>\n",
              "      <td>0.109737</td>\n",
              "      <td>0.000000</td>\n",
              "      <td>0.014648</td>\n",
              "      <td>0.003662</td>\n",
              "      <td>0.036627</td>\n",
              "      <td>0.007319</td>\n",
              "      <td>0.197325</td>\n",
              "      <td>0.094835</td>\n",
              "      <td>0.029218</td>\n",
              "      <td>0.000000</td>\n",
              "      <td>0.000000</td>\n",
              "      <td>0.000000</td>\n",
              "      <td>0.050850</td>\n",
              "      <td>0.000000</td>\n",
              "      <td>0.000000</td>\n",
              "      <td>0.098100</td>\n",
              "      <td>0.058245</td>\n",
              "      <td>0.007266</td>\n",
              "      <td>0.018169</td>\n",
              "      <td>0.007283</td>\n",
              "      <td>0.014541</td>\n",
              "      <td>0.000000</td>\n",
              "      <td>0.000000</td>\n",
              "      <td>0.000000</td>\n",
              "      <td>0.000000</td>\n",
              "      <td>0.000000</td>\n",
              "      <td>0.076542</td>\n",
              "      <td>0.182548</td>\n",
              "      <td>0.000000</td>\n",
              "      <td>0.051136</td>\n",
              "      <td>0.007305</td>\n",
              "      <td>0.000000</td>\n",
              "      <td>0.000000</td>\n",
              "      <td>0.000000</td>\n",
              "      <td>0.051230</td>\n",
              "      <td>0.036611</td>\n",
              "      <td>0.000000</td>\n",
              "      <td>...</td>\n",
              "      <td>0.008732</td>\n",
              "      <td>0.009927</td>\n",
              "      <td>0.006543</td>\n",
              "      <td>0.043907</td>\n",
              "      <td>0.015489</td>\n",
              "      <td>0.039439</td>\n",
              "      <td>0.027264</td>\n",
              "      <td>0.024433</td>\n",
              "      <td>0.008796</td>\n",
              "      <td>0.002315</td>\n",
              "      <td>0.005078</td>\n",
              "      <td>0.005520</td>\n",
              "      <td>0.015532</td>\n",
              "      <td>0.031905</td>\n",
              "      <td>0.005469</td>\n",
              "      <td>0.015763</td>\n",
              "      <td>0.005532</td>\n",
              "      <td>0.014603</td>\n",
              "      <td>0.018986</td>\n",
              "      <td>0.006644</td>\n",
              "      <td>0.005556</td>\n",
              "      <td>0.022630</td>\n",
              "      <td>0.025087</td>\n",
              "      <td>0.020777</td>\n",
              "      <td>0.055104</td>\n",
              "      <td>0.019893</td>\n",
              "      <td>0.021708</td>\n",
              "      <td>0.008083</td>\n",
              "      <td>0.010274</td>\n",
              "      <td>0.013227</td>\n",
              "      <td>0.008228</td>\n",
              "      <td>0.013394</td>\n",
              "      <td>0.009415</td>\n",
              "      <td>0.024983</td>\n",
              "      <td>0.019524</td>\n",
              "      <td>0.018342</td>\n",
              "      <td>0.008442</td>\n",
              "      <td>0.012525</td>\n",
              "      <td>-2.415575</td>\n",
              "      <td>0.880580</td>\n",
              "    </tr>\n",
              "    <tr>\n",
              "      <th>...</th>\n",
              "      <td>...</td>\n",
              "      <td>...</td>\n",
              "      <td>...</td>\n",
              "      <td>...</td>\n",
              "      <td>...</td>\n",
              "      <td>...</td>\n",
              "      <td>...</td>\n",
              "      <td>...</td>\n",
              "      <td>...</td>\n",
              "      <td>...</td>\n",
              "      <td>...</td>\n",
              "      <td>...</td>\n",
              "      <td>...</td>\n",
              "      <td>...</td>\n",
              "      <td>...</td>\n",
              "      <td>...</td>\n",
              "      <td>...</td>\n",
              "      <td>...</td>\n",
              "      <td>...</td>\n",
              "      <td>...</td>\n",
              "      <td>...</td>\n",
              "      <td>...</td>\n",
              "      <td>...</td>\n",
              "      <td>...</td>\n",
              "      <td>...</td>\n",
              "      <td>...</td>\n",
              "      <td>...</td>\n",
              "      <td>...</td>\n",
              "      <td>...</td>\n",
              "      <td>...</td>\n",
              "      <td>...</td>\n",
              "      <td>...</td>\n",
              "      <td>...</td>\n",
              "      <td>...</td>\n",
              "      <td>...</td>\n",
              "      <td>...</td>\n",
              "      <td>...</td>\n",
              "      <td>...</td>\n",
              "      <td>...</td>\n",
              "      <td>...</td>\n",
              "      <td>...</td>\n",
              "      <td>...</td>\n",
              "      <td>...</td>\n",
              "      <td>...</td>\n",
              "      <td>...</td>\n",
              "      <td>...</td>\n",
              "      <td>...</td>\n",
              "      <td>...</td>\n",
              "      <td>...</td>\n",
              "      <td>...</td>\n",
              "      <td>...</td>\n",
              "      <td>...</td>\n",
              "      <td>...</td>\n",
              "      <td>...</td>\n",
              "      <td>...</td>\n",
              "      <td>...</td>\n",
              "      <td>...</td>\n",
              "      <td>...</td>\n",
              "      <td>...</td>\n",
              "      <td>...</td>\n",
              "      <td>...</td>\n",
              "      <td>...</td>\n",
              "      <td>...</td>\n",
              "      <td>...</td>\n",
              "      <td>...</td>\n",
              "      <td>...</td>\n",
              "      <td>...</td>\n",
              "      <td>...</td>\n",
              "      <td>...</td>\n",
              "      <td>...</td>\n",
              "      <td>...</td>\n",
              "      <td>...</td>\n",
              "      <td>...</td>\n",
              "      <td>...</td>\n",
              "      <td>...</td>\n",
              "      <td>...</td>\n",
              "      <td>...</td>\n",
              "      <td>...</td>\n",
              "      <td>...</td>\n",
              "      <td>...</td>\n",
              "      <td>...</td>\n",
              "    </tr>\n",
              "    <tr>\n",
              "      <th>1536855</th>\n",
              "      <td>596</td>\n",
              "      <td>800</td>\n",
              "      <td>1.125704</td>\n",
              "      <td>0.865801</td>\n",
              "      <td>0.000000</td>\n",
              "      <td>0.124611</td>\n",
              "      <td>0.124456</td>\n",
              "      <td>0.000000</td>\n",
              "      <td>0.062344</td>\n",
              "      <td>0.124533</td>\n",
              "      <td>0.124688</td>\n",
              "      <td>0.374532</td>\n",
              "      <td>0.876644</td>\n",
              "      <td>0.248293</td>\n",
              "      <td>NaN</td>\n",
              "      <td>0.435594</td>\n",
              "      <td>0.743494</td>\n",
              "      <td>0.187266</td>\n",
              "      <td>0.249221</td>\n",
              "      <td>0.062112</td>\n",
              "      <td>0.186451</td>\n",
              "      <td>0.000000</td>\n",
              "      <td>0.248139</td>\n",
              "      <td>0.123762</td>\n",
              "      <td>0.061958</td>\n",
              "      <td>0.124378</td>\n",
              "      <td>NaN</td>\n",
              "      <td>0.124301</td>\n",
              "      <td>0.061920</td>\n",
              "      <td>0.000000</td>\n",
              "      <td>0.061920</td>\n",
              "      <td>0.061958</td>\n",
              "      <td>0.123839</td>\n",
              "      <td>0.494743</td>\n",
              "      <td>0.093226</td>\n",
              "      <td>0.093139</td>\n",
              "      <td>0.062035</td>\n",
              "      <td>0.123993</td>\n",
              "      <td>0.186220</td>\n",
              "      <td>0.186683</td>\n",
              "      <td>...</td>\n",
              "      <td>0.038599</td>\n",
              "      <td>NaN</td>\n",
              "      <td>0.010114</td>\n",
              "      <td>0.017121</td>\n",
              "      <td>0.008447</td>\n",
              "      <td>0.000015</td>\n",
              "      <td>0.026758</td>\n",
              "      <td>0.008025</td>\n",
              "      <td>0.046775</td>\n",
              "      <td>0.007108</td>\n",
              "      <td>0.001625</td>\n",
              "      <td>0.001686</td>\n",
              "      <td>0.012565</td>\n",
              "      <td>0.012158</td>\n",
              "      <td>0.011558</td>\n",
              "      <td>0.016540</td>\n",
              "      <td>NaN</td>\n",
              "      <td>0.018527</td>\n",
              "      <td>0.015029</td>\n",
              "      <td>0.042061</td>\n",
              "      <td>0.003755</td>\n",
              "      <td>0.001171</td>\n",
              "      <td>0.021215</td>\n",
              "      <td>0.008974</td>\n",
              "      <td>0.013004</td>\n",
              "      <td>0.018094</td>\n",
              "      <td>0.043910</td>\n",
              "      <td>0.003437</td>\n",
              "      <td>0.007505</td>\n",
              "      <td>0.036264</td>\n",
              "      <td>0.001501</td>\n",
              "      <td>0.014019</td>\n",
              "      <td>0.019868</td>\n",
              "      <td>NaN</td>\n",
              "      <td>0.024631</td>\n",
              "      <td>0.006000</td>\n",
              "      <td>0.001502</td>\n",
              "      <td>0.024601</td>\n",
              "      <td>-2.933123</td>\n",
              "      <td>-1.488287</td>\n",
              "    </tr>\n",
              "    <tr>\n",
              "      <th>1536856</th>\n",
              "      <td>596</td>\n",
              "      <td>801</td>\n",
              "      <td>0.000000</td>\n",
              "      <td>0.746269</td>\n",
              "      <td>0.502197</td>\n",
              "      <td>0.441640</td>\n",
              "      <td>0.000000</td>\n",
              "      <td>0.125392</td>\n",
              "      <td>0.187852</td>\n",
              "      <td>0.062735</td>\n",
              "      <td>0.690521</td>\n",
              "      <td>0.124844</td>\n",
              "      <td>0.125000</td>\n",
              "      <td>0.000000</td>\n",
              "      <td>0.124844</td>\n",
              "      <td>0.000000</td>\n",
              "      <td>0.310945</td>\n",
              "      <td>0.247219</td>\n",
              "      <td>0.185874</td>\n",
              "      <td>0.000000</td>\n",
              "      <td>0.124069</td>\n",
              "      <td>0.186567</td>\n",
              "      <td>0.186220</td>\n",
              "      <td>0.062035</td>\n",
              "      <td>0.124146</td>\n",
              "      <td>0.186451</td>\n",
              "      <td>0.249066</td>\n",
              "      <td>0.312110</td>\n",
              "      <td>0.124456</td>\n",
              "      <td>0.062305</td>\n",
              "      <td>0.062305</td>\n",
              "      <td>0.373832</td>\n",
              "      <td>0.000000</td>\n",
              "      <td>0.062539</td>\n",
              "      <td>0.062500</td>\n",
              "      <td>0.000000</td>\n",
              "      <td>0.125235</td>\n",
              "      <td>0.250156</td>\n",
              "      <td>0.000000</td>\n",
              "      <td>0.062578</td>\n",
              "      <td>...</td>\n",
              "      <td>0.004239</td>\n",
              "      <td>0.093095</td>\n",
              "      <td>0.019937</td>\n",
              "      <td>0.004234</td>\n",
              "      <td>0.017423</td>\n",
              "      <td>0.010643</td>\n",
              "      <td>0.032577</td>\n",
              "      <td>0.000421</td>\n",
              "      <td>0.007542</td>\n",
              "      <td>0.007532</td>\n",
              "      <td>0.004213</td>\n",
              "      <td>0.008584</td>\n",
              "      <td>0.012639</td>\n",
              "      <td>0.022021</td>\n",
              "      <td>0.024407</td>\n",
              "      <td>0.004208</td>\n",
              "      <td>0.020184</td>\n",
              "      <td>0.011214</td>\n",
              "      <td>0.036825</td>\n",
              "      <td>0.000280</td>\n",
              "      <td>0.032483</td>\n",
              "      <td>0.018421</td>\n",
              "      <td>0.004731</td>\n",
              "      <td>0.020222</td>\n",
              "      <td>0.012808</td>\n",
              "      <td>0.011500</td>\n",
              "      <td>NaN</td>\n",
              "      <td>0.022595</td>\n",
              "      <td>0.001484</td>\n",
              "      <td>0.005600</td>\n",
              "      <td>0.005607</td>\n",
              "      <td>0.007037</td>\n",
              "      <td>0.017105</td>\n",
              "      <td>0.001438</td>\n",
              "      <td>0.023558</td>\n",
              "      <td>NaN</td>\n",
              "      <td>0.019984</td>\n",
              "      <td>0.001676</td>\n",
              "      <td>-3.221969</td>\n",
              "      <td>-1.450029</td>\n",
              "    </tr>\n",
              "    <tr>\n",
              "      <th>1536857</th>\n",
              "      <td>596</td>\n",
              "      <td>802</td>\n",
              "      <td>1.086262</td>\n",
              "      <td>0.000000</td>\n",
              "      <td>0.568900</td>\n",
              "      <td>0.471846</td>\n",
              "      <td>0.189753</td>\n",
              "      <td>0.475285</td>\n",
              "      <td>0.441362</td>\n",
              "      <td>0.251572</td>\n",
              "      <td>0.219642</td>\n",
              "      <td>0.031447</td>\n",
              "      <td>0.220057</td>\n",
              "      <td>0.000000</td>\n",
              "      <td>0.438048</td>\n",
              "      <td>0.405869</td>\n",
              "      <td>0.434243</td>\n",
              "      <td>0.373832</td>\n",
              "      <td>0.187617</td>\n",
              "      <td>0.249688</td>\n",
              "      <td>0.188088</td>\n",
              "      <td>0.125235</td>\n",
              "      <td>0.501567</td>\n",
              "      <td>0.063052</td>\n",
              "      <td>0.063012</td>\n",
              "      <td>0.000000</td>\n",
              "      <td>0.063131</td>\n",
              "      <td>0.378549</td>\n",
              "      <td>0.125707</td>\n",
              "      <td>0.000000</td>\n",
              "      <td>0.094607</td>\n",
              "      <td>0.125549</td>\n",
              "      <td>0.062854</td>\n",
              "      <td>0.062814</td>\n",
              "      <td>0.000000</td>\n",
              "      <td>0.313873</td>\n",
              "      <td>0.125945</td>\n",
              "      <td>0.062814</td>\n",
              "      <td>0.062854</td>\n",
              "      <td>0.000000</td>\n",
              "      <td>...</td>\n",
              "      <td>0.023764</td>\n",
              "      <td>0.013331</td>\n",
              "      <td>0.017276</td>\n",
              "      <td>0.016053</td>\n",
              "      <td>0.008437</td>\n",
              "      <td>0.019405</td>\n",
              "      <td>0.009265</td>\n",
              "      <td>0.002874</td>\n",
              "      <td>0.001239</td>\n",
              "      <td>0.004502</td>\n",
              "      <td>0.010641</td>\n",
              "      <td>0.001311</td>\n",
              "      <td>0.005640</td>\n",
              "      <td>0.004187</td>\n",
              "      <td>0.024132</td>\n",
              "      <td>0.000012</td>\n",
              "      <td>0.017338</td>\n",
              "      <td>0.012509</td>\n",
              "      <td>0.003774</td>\n",
              "      <td>NaN</td>\n",
              "      <td>0.011706</td>\n",
              "      <td>0.011423</td>\n",
              "      <td>0.004939</td>\n",
              "      <td>NaN</td>\n",
              "      <td>0.015499</td>\n",
              "      <td>0.003695</td>\n",
              "      <td>NaN</td>\n",
              "      <td>0.003690</td>\n",
              "      <td>0.009232</td>\n",
              "      <td>0.005532</td>\n",
              "      <td>0.012104</td>\n",
              "      <td>0.017401</td>\n",
              "      <td>0.014552</td>\n",
              "      <td>0.016174</td>\n",
              "      <td>0.020105</td>\n",
              "      <td>0.037890</td>\n",
              "      <td>0.028302</td>\n",
              "      <td>0.028835</td>\n",
              "      <td>-3.292824</td>\n",
              "      <td>-1.375085</td>\n",
              "    </tr>\n",
              "    <tr>\n",
              "      <th>1536858</th>\n",
              "      <td>596</td>\n",
              "      <td>803</td>\n",
              "      <td>1.505646</td>\n",
              "      <td>0.000000</td>\n",
              "      <td>2.157360</td>\n",
              "      <td>1.556420</td>\n",
              "      <td>2.305665</td>\n",
              "      <td>0.515132</td>\n",
              "      <td>NaN</td>\n",
              "      <td>0.390371</td>\n",
              "      <td>0.522876</td>\n",
              "      <td>0.131148</td>\n",
              "      <td>0.065660</td>\n",
              "      <td>0.788955</td>\n",
              "      <td>0.260756</td>\n",
              "      <td>0.195950</td>\n",
              "      <td>0.195567</td>\n",
              "      <td>0.000000</td>\n",
              "      <td>0.588235</td>\n",
              "      <td>0.454841</td>\n",
              "      <td>0.587467</td>\n",
              "      <td>0.523560</td>\n",
              "      <td>0.688750</td>\n",
              "      <td>0.065147</td>\n",
              "      <td>0.000000</td>\n",
              "      <td>0.520833</td>\n",
              "      <td>0.194553</td>\n",
              "      <td>0.454841</td>\n",
              "      <td>0.324886</td>\n",
              "      <td>0.000000</td>\n",
              "      <td>0.194805</td>\n",
              "      <td>0.388853</td>\n",
              "      <td>0.065062</td>\n",
              "      <td>0.455729</td>\n",
              "      <td>0.130804</td>\n",
              "      <td>0.065274</td>\n",
              "      <td>0.000000</td>\n",
              "      <td>0.326158</td>\n",
              "      <td>0.785340</td>\n",
              "      <td>0.324675</td>\n",
              "      <td>...</td>\n",
              "      <td>0.018198</td>\n",
              "      <td>0.004818</td>\n",
              "      <td>0.012209</td>\n",
              "      <td>0.011909</td>\n",
              "      <td>0.002411</td>\n",
              "      <td>0.021017</td>\n",
              "      <td>0.008068</td>\n",
              "      <td>0.012455</td>\n",
              "      <td>0.011786</td>\n",
              "      <td>0.004685</td>\n",
              "      <td>0.008470</td>\n",
              "      <td>0.010223</td>\n",
              "      <td>0.000130</td>\n",
              "      <td>0.028942</td>\n",
              "      <td>0.011956</td>\n",
              "      <td>0.005540</td>\n",
              "      <td>0.014393</td>\n",
              "      <td>0.014687</td>\n",
              "      <td>0.014645</td>\n",
              "      <td>0.008679</td>\n",
              "      <td>0.032888</td>\n",
              "      <td>0.005643</td>\n",
              "      <td>0.001589</td>\n",
              "      <td>0.036051</td>\n",
              "      <td>0.008518</td>\n",
              "      <td>0.010525</td>\n",
              "      <td>0.006352</td>\n",
              "      <td>0.017556</td>\n",
              "      <td>0.012673</td>\n",
              "      <td>0.005302</td>\n",
              "      <td>0.013435</td>\n",
              "      <td>0.011664</td>\n",
              "      <td>0.003293</td>\n",
              "      <td>0.010009</td>\n",
              "      <td>0.021838</td>\n",
              "      <td>0.021954</td>\n",
              "      <td>0.014121</td>\n",
              "      <td>0.031530</td>\n",
              "      <td>-2.915789</td>\n",
              "      <td>-1.099627</td>\n",
              "    </tr>\n",
              "    <tr>\n",
              "      <th>1536859</th>\n",
              "      <td>596</td>\n",
              "      <td>804</td>\n",
              "      <td>0.262812</td>\n",
              "      <td>0.392413</td>\n",
              "      <td>0.000000</td>\n",
              "      <td>0.393959</td>\n",
              "      <td>0.264201</td>\n",
              "      <td>0.131752</td>\n",
              "      <td>0.066094</td>\n",
              "      <td>0.264375</td>\n",
              "      <td>0.133156</td>\n",
              "      <td>0.066667</td>\n",
              "      <td>0.533689</td>\n",
              "      <td>0.000000</td>\n",
              "      <td>0.232404</td>\n",
              "      <td>0.166389</td>\n",
              "      <td>0.200000</td>\n",
              "      <td>0.000000</td>\n",
              "      <td>0.200535</td>\n",
              "      <td>0.133422</td>\n",
              "      <td>0.467602</td>\n",
              "      <td>0.201342</td>\n",
              "      <td>0.134499</td>\n",
              "      <td>0.606878</td>\n",
              "      <td>0.815772</td>\n",
              "      <td>0.000000</td>\n",
              "      <td>0.201613</td>\n",
              "      <td>0.201207</td>\n",
              "      <td>0.134409</td>\n",
              "      <td>0.268276</td>\n",
              "      <td>0.267738</td>\n",
              "      <td>0.134228</td>\n",
              "      <td>0.134499</td>\n",
              "      <td>0.201748</td>\n",
              "      <td>0.000000</td>\n",
              "      <td>0.134771</td>\n",
              "      <td>0.201884</td>\n",
              "      <td>0.067159</td>\n",
              "      <td>0.067204</td>\n",
              "      <td>0.402955</td>\n",
              "      <td>...</td>\n",
              "      <td>0.025978</td>\n",
              "      <td>0.026031</td>\n",
              "      <td>0.028525</td>\n",
              "      <td>0.008260</td>\n",
              "      <td>0.014899</td>\n",
              "      <td>0.021771</td>\n",
              "      <td>0.002068</td>\n",
              "      <td>0.020637</td>\n",
              "      <td>0.008461</td>\n",
              "      <td>0.001030</td>\n",
              "      <td>0.024138</td>\n",
              "      <td>0.009281</td>\n",
              "      <td>0.006076</td>\n",
              "      <td>0.011348</td>\n",
              "      <td>0.014651</td>\n",
              "      <td>0.011775</td>\n",
              "      <td>0.001059</td>\n",
              "      <td>0.022659</td>\n",
              "      <td>0.008305</td>\n",
              "      <td>0.017365</td>\n",
              "      <td>0.000924</td>\n",
              "      <td>0.009337</td>\n",
              "      <td>0.018775</td>\n",
              "      <td>0.009399</td>\n",
              "      <td>0.005955</td>\n",
              "      <td>0.015095</td>\n",
              "      <td>0.007021</td>\n",
              "      <td>0.011471</td>\n",
              "      <td>0.014585</td>\n",
              "      <td>0.017187</td>\n",
              "      <td>0.002083</td>\n",
              "      <td>0.024149</td>\n",
              "      <td>0.004232</td>\n",
              "      <td>0.006268</td>\n",
              "      <td>0.002092</td>\n",
              "      <td>0.023243</td>\n",
              "      <td>0.015592</td>\n",
              "      <td>0.008518</td>\n",
              "      <td>-3.095411</td>\n",
              "      <td>-1.303538</td>\n",
              "    </tr>\n",
              "  </tbody>\n",
              "</table>\n",
              "<p>684482 rows × 126 columns</p>\n",
              "</div>"
            ],
            "text/plain": [
              "         pid  day  abs_ret0  abs_ret1  ...  rel_vol59  rel_vol60        LS       NLV\n",
              "ID                                     ...                                          \n",
              "148      360    0  0.000000  0.000000  ...   0.010654   0.006971 -2.307230  0.646580\n",
              "149      360    1  0.000000  0.000000  ...   0.001788   0.005251 -2.263960  0.487708\n",
              "150      360    2  0.000000  0.000000  ...   0.016440   0.011970 -2.343106  0.544476\n",
              "151      360    3  0.000000  0.007384  ...   0.048286   0.021237 -2.331621  0.633181\n",
              "152      360    4  0.088086  0.109737  ...   0.008442   0.012525 -2.415575  0.880580\n",
              "...      ...  ...       ...       ...  ...        ...        ...       ...       ...\n",
              "1536855  596  800  1.125704  0.865801  ...   0.001502   0.024601 -2.933123 -1.488287\n",
              "1536856  596  801  0.000000  0.746269  ...   0.019984   0.001676 -3.221969 -1.450029\n",
              "1536857  596  802  1.086262  0.000000  ...   0.028302   0.028835 -3.292824 -1.375085\n",
              "1536858  596  803  1.505646  0.000000  ...   0.014121   0.031530 -2.915789 -1.099627\n",
              "1536859  596  804  0.262812  0.392413  ...   0.015592   0.008518 -3.095411 -1.303538\n",
              "\n",
              "[684482 rows x 126 columns]"
            ]
          },
          "metadata": {},
          "execution_count": 8
        }
      ]
    },
    {
      "cell_type": "markdown",
      "metadata": {
        "id": "af77be31"
      },
      "source": [
        "***On remarque que certaines données manquent sur notre dataset, donc on va les remplacer par des zéros:***"
      ],
      "id": "af77be31"
    },
    {
      "cell_type": "code",
      "metadata": {
        "id": "16578fa7"
      },
      "source": [
        "#On appellera X les données d'entraînement sans la colonne 'pid'\n",
        "X0 = X0.fillna(0)\n",
        "X = X0[columns_to_scale]\n",
        "Y = Y_untouched.fillna(0)"
      ],
      "id": "16578fa7",
      "execution_count": 9,
      "outputs": []
    },
    {
      "cell_type": "code",
      "metadata": {
        "id": "8202b6e8",
        "colab": {
          "base_uri": "https://localhost:8080/",
          "height": 287
        },
        "outputId": "614bc63b-f50d-4730-fc39-f44bbc6b4d67"
      },
      "source": [
        "X.head(5)"
      ],
      "id": "8202b6e8",
      "execution_count": 10,
      "outputs": [
        {
          "output_type": "execute_result",
          "data": {
            "text/html": [
              "<div>\n",
              "<style scoped>\n",
              "    .dataframe tbody tr th:only-of-type {\n",
              "        vertical-align: middle;\n",
              "    }\n",
              "\n",
              "    .dataframe tbody tr th {\n",
              "        vertical-align: top;\n",
              "    }\n",
              "\n",
              "    .dataframe thead th {\n",
              "        text-align: right;\n",
              "    }\n",
              "</style>\n",
              "<table border=\"1\" class=\"dataframe\">\n",
              "  <thead>\n",
              "    <tr style=\"text-align: right;\">\n",
              "      <th></th>\n",
              "      <th>day</th>\n",
              "      <th>abs_ret0</th>\n",
              "      <th>abs_ret1</th>\n",
              "      <th>abs_ret2</th>\n",
              "      <th>abs_ret3</th>\n",
              "      <th>abs_ret4</th>\n",
              "      <th>abs_ret5</th>\n",
              "      <th>abs_ret6</th>\n",
              "      <th>abs_ret7</th>\n",
              "      <th>abs_ret8</th>\n",
              "      <th>abs_ret9</th>\n",
              "      <th>abs_ret10</th>\n",
              "      <th>abs_ret11</th>\n",
              "      <th>abs_ret12</th>\n",
              "      <th>abs_ret13</th>\n",
              "      <th>abs_ret14</th>\n",
              "      <th>abs_ret15</th>\n",
              "      <th>abs_ret16</th>\n",
              "      <th>abs_ret17</th>\n",
              "      <th>abs_ret18</th>\n",
              "      <th>abs_ret19</th>\n",
              "      <th>abs_ret20</th>\n",
              "      <th>abs_ret21</th>\n",
              "      <th>abs_ret22</th>\n",
              "      <th>abs_ret23</th>\n",
              "      <th>abs_ret24</th>\n",
              "      <th>abs_ret25</th>\n",
              "      <th>abs_ret26</th>\n",
              "      <th>abs_ret27</th>\n",
              "      <th>abs_ret28</th>\n",
              "      <th>abs_ret29</th>\n",
              "      <th>abs_ret30</th>\n",
              "      <th>abs_ret31</th>\n",
              "      <th>abs_ret32</th>\n",
              "      <th>abs_ret33</th>\n",
              "      <th>abs_ret34</th>\n",
              "      <th>abs_ret35</th>\n",
              "      <th>abs_ret36</th>\n",
              "      <th>abs_ret37</th>\n",
              "      <th>abs_ret38</th>\n",
              "      <th>...</th>\n",
              "      <th>rel_vol23</th>\n",
              "      <th>rel_vol24</th>\n",
              "      <th>rel_vol25</th>\n",
              "      <th>rel_vol26</th>\n",
              "      <th>rel_vol27</th>\n",
              "      <th>rel_vol28</th>\n",
              "      <th>rel_vol29</th>\n",
              "      <th>rel_vol30</th>\n",
              "      <th>rel_vol31</th>\n",
              "      <th>rel_vol32</th>\n",
              "      <th>rel_vol33</th>\n",
              "      <th>rel_vol34</th>\n",
              "      <th>rel_vol35</th>\n",
              "      <th>rel_vol36</th>\n",
              "      <th>rel_vol37</th>\n",
              "      <th>rel_vol38</th>\n",
              "      <th>rel_vol39</th>\n",
              "      <th>rel_vol40</th>\n",
              "      <th>rel_vol41</th>\n",
              "      <th>rel_vol42</th>\n",
              "      <th>rel_vol43</th>\n",
              "      <th>rel_vol44</th>\n",
              "      <th>rel_vol45</th>\n",
              "      <th>rel_vol46</th>\n",
              "      <th>rel_vol47</th>\n",
              "      <th>rel_vol48</th>\n",
              "      <th>rel_vol49</th>\n",
              "      <th>rel_vol50</th>\n",
              "      <th>rel_vol51</th>\n",
              "      <th>rel_vol52</th>\n",
              "      <th>rel_vol53</th>\n",
              "      <th>rel_vol54</th>\n",
              "      <th>rel_vol55</th>\n",
              "      <th>rel_vol56</th>\n",
              "      <th>rel_vol57</th>\n",
              "      <th>rel_vol58</th>\n",
              "      <th>rel_vol59</th>\n",
              "      <th>rel_vol60</th>\n",
              "      <th>LS</th>\n",
              "      <th>NLV</th>\n",
              "    </tr>\n",
              "    <tr>\n",
              "      <th>ID</th>\n",
              "      <th></th>\n",
              "      <th></th>\n",
              "      <th></th>\n",
              "      <th></th>\n",
              "      <th></th>\n",
              "      <th></th>\n",
              "      <th></th>\n",
              "      <th></th>\n",
              "      <th></th>\n",
              "      <th></th>\n",
              "      <th></th>\n",
              "      <th></th>\n",
              "      <th></th>\n",
              "      <th></th>\n",
              "      <th></th>\n",
              "      <th></th>\n",
              "      <th></th>\n",
              "      <th></th>\n",
              "      <th></th>\n",
              "      <th></th>\n",
              "      <th></th>\n",
              "      <th></th>\n",
              "      <th></th>\n",
              "      <th></th>\n",
              "      <th></th>\n",
              "      <th></th>\n",
              "      <th></th>\n",
              "      <th></th>\n",
              "      <th></th>\n",
              "      <th></th>\n",
              "      <th></th>\n",
              "      <th></th>\n",
              "      <th></th>\n",
              "      <th></th>\n",
              "      <th></th>\n",
              "      <th></th>\n",
              "      <th></th>\n",
              "      <th></th>\n",
              "      <th></th>\n",
              "      <th></th>\n",
              "      <th></th>\n",
              "      <th></th>\n",
              "      <th></th>\n",
              "      <th></th>\n",
              "      <th></th>\n",
              "      <th></th>\n",
              "      <th></th>\n",
              "      <th></th>\n",
              "      <th></th>\n",
              "      <th></th>\n",
              "      <th></th>\n",
              "      <th></th>\n",
              "      <th></th>\n",
              "      <th></th>\n",
              "      <th></th>\n",
              "      <th></th>\n",
              "      <th></th>\n",
              "      <th></th>\n",
              "      <th></th>\n",
              "      <th></th>\n",
              "      <th></th>\n",
              "      <th></th>\n",
              "      <th></th>\n",
              "      <th></th>\n",
              "      <th></th>\n",
              "      <th></th>\n",
              "      <th></th>\n",
              "      <th></th>\n",
              "      <th></th>\n",
              "      <th></th>\n",
              "      <th></th>\n",
              "      <th></th>\n",
              "      <th></th>\n",
              "      <th></th>\n",
              "      <th></th>\n",
              "      <th></th>\n",
              "      <th></th>\n",
              "      <th></th>\n",
              "      <th></th>\n",
              "      <th></th>\n",
              "      <th></th>\n",
              "    </tr>\n",
              "  </thead>\n",
              "  <tbody>\n",
              "    <tr>\n",
              "      <th>148</th>\n",
              "      <td>0</td>\n",
              "      <td>0.000000</td>\n",
              "      <td>0.000000</td>\n",
              "      <td>0.0</td>\n",
              "      <td>0.000000</td>\n",
              "      <td>0.029317</td>\n",
              "      <td>0.000000</td>\n",
              "      <td>0.000000</td>\n",
              "      <td>0.000000</td>\n",
              "      <td>0.000000</td>\n",
              "      <td>0.073260</td>\n",
              "      <td>0.073265</td>\n",
              "      <td>0.0</td>\n",
              "      <td>0.036601</td>\n",
              "      <td>0.102399</td>\n",
              "      <td>0.029261</td>\n",
              "      <td>0.00000</td>\n",
              "      <td>0.073206</td>\n",
              "      <td>0.032942</td>\n",
              "      <td>0.036609</td>\n",
              "      <td>0.000000</td>\n",
              "      <td>0.014641</td>\n",
              "      <td>0.036643</td>\n",
              "      <td>0.0</td>\n",
              "      <td>0.036630</td>\n",
              "      <td>0.007326</td>\n",
              "      <td>0.000000</td>\n",
              "      <td>0.0</td>\n",
              "      <td>0.000000</td>\n",
              "      <td>0.000000</td>\n",
              "      <td>0.000000</td>\n",
              "      <td>0.014656</td>\n",
              "      <td>0.000000</td>\n",
              "      <td>0.000000</td>\n",
              "      <td>0.000000</td>\n",
              "      <td>0.0</td>\n",
              "      <td>0.021989</td>\n",
              "      <td>0.036627</td>\n",
              "      <td>0.018305</td>\n",
              "      <td>0.000000</td>\n",
              "      <td>...</td>\n",
              "      <td>0.019147</td>\n",
              "      <td>0.023043</td>\n",
              "      <td>0.010204</td>\n",
              "      <td>0.015254</td>\n",
              "      <td>0.006455</td>\n",
              "      <td>0.006221</td>\n",
              "      <td>0.007477</td>\n",
              "      <td>0.015452</td>\n",
              "      <td>0.005510</td>\n",
              "      <td>0.014621</td>\n",
              "      <td>0.004915</td>\n",
              "      <td>0.009695</td>\n",
              "      <td>0.014404</td>\n",
              "      <td>0.011438</td>\n",
              "      <td>0.005018</td>\n",
              "      <td>0.003520</td>\n",
              "      <td>0.006112</td>\n",
              "      <td>0.001629</td>\n",
              "      <td>0.007395</td>\n",
              "      <td>0.007272</td>\n",
              "      <td>0.017971</td>\n",
              "      <td>0.007965</td>\n",
              "      <td>0.003240</td>\n",
              "      <td>0.008937</td>\n",
              "      <td>0.008786</td>\n",
              "      <td>0.009677</td>\n",
              "      <td>0.008480</td>\n",
              "      <td>0.011040</td>\n",
              "      <td>0.004054</td>\n",
              "      <td>0.009431</td>\n",
              "      <td>0.004521</td>\n",
              "      <td>0.015771</td>\n",
              "      <td>0.009462</td>\n",
              "      <td>0.012697</td>\n",
              "      <td>0.019507</td>\n",
              "      <td>0.005101</td>\n",
              "      <td>0.010654</td>\n",
              "      <td>0.006971</td>\n",
              "      <td>-2.307230</td>\n",
              "      <td>0.646580</td>\n",
              "    </tr>\n",
              "    <tr>\n",
              "      <th>149</th>\n",
              "      <td>1</td>\n",
              "      <td>0.000000</td>\n",
              "      <td>0.000000</td>\n",
              "      <td>0.0</td>\n",
              "      <td>0.022056</td>\n",
              "      <td>0.000000</td>\n",
              "      <td>0.036711</td>\n",
              "      <td>0.000000</td>\n",
              "      <td>0.000000</td>\n",
              "      <td>0.036767</td>\n",
              "      <td>0.000000</td>\n",
              "      <td>0.058949</td>\n",
              "      <td>0.0</td>\n",
              "      <td>0.014700</td>\n",
              "      <td>0.000000</td>\n",
              "      <td>0.000000</td>\n",
              "      <td>0.00000</td>\n",
              "      <td>0.000000</td>\n",
              "      <td>0.000000</td>\n",
              "      <td>0.000000</td>\n",
              "      <td>0.014743</td>\n",
              "      <td>0.000000</td>\n",
              "      <td>0.000000</td>\n",
              "      <td>0.0</td>\n",
              "      <td>0.000000</td>\n",
              "      <td>0.000000</td>\n",
              "      <td>0.000000</td>\n",
              "      <td>0.0</td>\n",
              "      <td>0.000000</td>\n",
              "      <td>0.014802</td>\n",
              "      <td>0.014818</td>\n",
              "      <td>0.000000</td>\n",
              "      <td>0.000000</td>\n",
              "      <td>0.022168</td>\n",
              "      <td>0.000000</td>\n",
              "      <td>0.0</td>\n",
              "      <td>0.000000</td>\n",
              "      <td>0.051764</td>\n",
              "      <td>0.000000</td>\n",
              "      <td>0.000000</td>\n",
              "      <td>...</td>\n",
              "      <td>0.007153</td>\n",
              "      <td>0.010241</td>\n",
              "      <td>0.005084</td>\n",
              "      <td>0.010341</td>\n",
              "      <td>0.009629</td>\n",
              "      <td>0.008034</td>\n",
              "      <td>0.012606</td>\n",
              "      <td>0.022932</td>\n",
              "      <td>0.002855</td>\n",
              "      <td>0.010928</td>\n",
              "      <td>0.004953</td>\n",
              "      <td>0.001122</td>\n",
              "      <td>0.007357</td>\n",
              "      <td>0.032969</td>\n",
              "      <td>0.004212</td>\n",
              "      <td>0.004200</td>\n",
              "      <td>0.002189</td>\n",
              "      <td>0.004183</td>\n",
              "      <td>0.000931</td>\n",
              "      <td>0.000753</td>\n",
              "      <td>0.008522</td>\n",
              "      <td>0.011424</td>\n",
              "      <td>0.042281</td>\n",
              "      <td>0.003987</td>\n",
              "      <td>0.002132</td>\n",
              "      <td>0.003802</td>\n",
              "      <td>0.003952</td>\n",
              "      <td>0.009427</td>\n",
              "      <td>0.017466</td>\n",
              "      <td>0.023188</td>\n",
              "      <td>0.008817</td>\n",
              "      <td>0.006589</td>\n",
              "      <td>0.005276</td>\n",
              "      <td>0.011648</td>\n",
              "      <td>0.011829</td>\n",
              "      <td>0.015558</td>\n",
              "      <td>0.001788</td>\n",
              "      <td>0.005251</td>\n",
              "      <td>-2.263960</td>\n",
              "      <td>0.487708</td>\n",
              "    </tr>\n",
              "    <tr>\n",
              "      <th>150</th>\n",
              "      <td>2</td>\n",
              "      <td>0.000000</td>\n",
              "      <td>0.000000</td>\n",
              "      <td>0.0</td>\n",
              "      <td>0.000000</td>\n",
              "      <td>0.022267</td>\n",
              "      <td>0.000000</td>\n",
              "      <td>0.029678</td>\n",
              "      <td>0.014831</td>\n",
              "      <td>0.048146</td>\n",
              "      <td>0.092654</td>\n",
              "      <td>0.000000</td>\n",
              "      <td>0.0</td>\n",
              "      <td>0.000000</td>\n",
              "      <td>0.051902</td>\n",
              "      <td>0.000000</td>\n",
              "      <td>0.02227</td>\n",
              "      <td>0.000000</td>\n",
              "      <td>0.118457</td>\n",
              "      <td>0.059084</td>\n",
              "      <td>0.000000</td>\n",
              "      <td>0.000000</td>\n",
              "      <td>0.014806</td>\n",
              "      <td>0.0</td>\n",
              "      <td>0.022166</td>\n",
              "      <td>0.000000</td>\n",
              "      <td>0.000000</td>\n",
              "      <td>0.0</td>\n",
              "      <td>0.000000</td>\n",
              "      <td>0.029588</td>\n",
              "      <td>0.044418</td>\n",
              "      <td>0.000000</td>\n",
              "      <td>0.000000</td>\n",
              "      <td>0.000000</td>\n",
              "      <td>0.000000</td>\n",
              "      <td>0.0</td>\n",
              "      <td>0.000000</td>\n",
              "      <td>0.000000</td>\n",
              "      <td>0.000000</td>\n",
              "      <td>0.000000</td>\n",
              "      <td>...</td>\n",
              "      <td>0.008215</td>\n",
              "      <td>0.015199</td>\n",
              "      <td>0.007220</td>\n",
              "      <td>0.007814</td>\n",
              "      <td>0.003919</td>\n",
              "      <td>0.012528</td>\n",
              "      <td>0.005863</td>\n",
              "      <td>0.008573</td>\n",
              "      <td>0.009908</td>\n",
              "      <td>0.004453</td>\n",
              "      <td>0.007961</td>\n",
              "      <td>0.003208</td>\n",
              "      <td>0.006635</td>\n",
              "      <td>0.002473</td>\n",
              "      <td>0.001524</td>\n",
              "      <td>0.007806</td>\n",
              "      <td>0.002231</td>\n",
              "      <td>0.006975</td>\n",
              "      <td>0.004943</td>\n",
              "      <td>0.002252</td>\n",
              "      <td>0.007676</td>\n",
              "      <td>0.022513</td>\n",
              "      <td>0.124384</td>\n",
              "      <td>0.017086</td>\n",
              "      <td>0.023940</td>\n",
              "      <td>0.036648</td>\n",
              "      <td>0.025713</td>\n",
              "      <td>0.020880</td>\n",
              "      <td>0.009542</td>\n",
              "      <td>0.006752</td>\n",
              "      <td>0.018640</td>\n",
              "      <td>0.020972</td>\n",
              "      <td>0.012728</td>\n",
              "      <td>0.007921</td>\n",
              "      <td>0.000643</td>\n",
              "      <td>0.029692</td>\n",
              "      <td>0.016440</td>\n",
              "      <td>0.011970</td>\n",
              "      <td>-2.343106</td>\n",
              "      <td>0.544476</td>\n",
              "    </tr>\n",
              "    <tr>\n",
              "      <th>151</th>\n",
              "      <td>3</td>\n",
              "      <td>0.000000</td>\n",
              "      <td>0.007384</td>\n",
              "      <td>0.0</td>\n",
              "      <td>0.000000</td>\n",
              "      <td>0.000000</td>\n",
              "      <td>0.007417</td>\n",
              "      <td>0.000000</td>\n",
              "      <td>0.044557</td>\n",
              "      <td>0.052169</td>\n",
              "      <td>0.044613</td>\n",
              "      <td>0.000000</td>\n",
              "      <td>0.0</td>\n",
              "      <td>0.000000</td>\n",
              "      <td>0.000000</td>\n",
              "      <td>0.007423</td>\n",
              "      <td>0.00000</td>\n",
              "      <td>0.000000</td>\n",
              "      <td>0.007447</td>\n",
              "      <td>0.000000</td>\n",
              "      <td>0.000000</td>\n",
              "      <td>0.007418</td>\n",
              "      <td>0.000000</td>\n",
              "      <td>0.0</td>\n",
              "      <td>0.000000</td>\n",
              "      <td>0.000000</td>\n",
              "      <td>0.007389</td>\n",
              "      <td>0.0</td>\n",
              "      <td>0.000000</td>\n",
              "      <td>0.000000</td>\n",
              "      <td>0.000000</td>\n",
              "      <td>0.000000</td>\n",
              "      <td>0.000000</td>\n",
              "      <td>0.000000</td>\n",
              "      <td>0.007362</td>\n",
              "      <td>0.0</td>\n",
              "      <td>0.000000</td>\n",
              "      <td>0.036824</td>\n",
              "      <td>0.000000</td>\n",
              "      <td>0.000000</td>\n",
              "      <td>...</td>\n",
              "      <td>0.003782</td>\n",
              "      <td>0.029602</td>\n",
              "      <td>0.013475</td>\n",
              "      <td>0.031606</td>\n",
              "      <td>0.007952</td>\n",
              "      <td>0.021086</td>\n",
              "      <td>0.010731</td>\n",
              "      <td>0.025026</td>\n",
              "      <td>0.004192</td>\n",
              "      <td>0.009762</td>\n",
              "      <td>0.016240</td>\n",
              "      <td>0.012835</td>\n",
              "      <td>0.008973</td>\n",
              "      <td>0.023312</td>\n",
              "      <td>0.003007</td>\n",
              "      <td>0.009878</td>\n",
              "      <td>0.011719</td>\n",
              "      <td>0.009139</td>\n",
              "      <td>0.006265</td>\n",
              "      <td>0.010273</td>\n",
              "      <td>0.012355</td>\n",
              "      <td>0.011745</td>\n",
              "      <td>0.001635</td>\n",
              "      <td>0.005562</td>\n",
              "      <td>0.007811</td>\n",
              "      <td>0.010685</td>\n",
              "      <td>0.062768</td>\n",
              "      <td>0.072686</td>\n",
              "      <td>0.009503</td>\n",
              "      <td>0.017088</td>\n",
              "      <td>0.013628</td>\n",
              "      <td>0.020397</td>\n",
              "      <td>0.016834</td>\n",
              "      <td>0.031869</td>\n",
              "      <td>0.012468</td>\n",
              "      <td>0.065173</td>\n",
              "      <td>0.048286</td>\n",
              "      <td>0.021237</td>\n",
              "      <td>-2.331621</td>\n",
              "      <td>0.633181</td>\n",
              "    </tr>\n",
              "    <tr>\n",
              "      <th>152</th>\n",
              "      <td>4</td>\n",
              "      <td>0.088086</td>\n",
              "      <td>0.109737</td>\n",
              "      <td>0.0</td>\n",
              "      <td>0.014648</td>\n",
              "      <td>0.003662</td>\n",
              "      <td>0.036627</td>\n",
              "      <td>0.007319</td>\n",
              "      <td>0.197325</td>\n",
              "      <td>0.094835</td>\n",
              "      <td>0.029218</td>\n",
              "      <td>0.000000</td>\n",
              "      <td>0.0</td>\n",
              "      <td>0.000000</td>\n",
              "      <td>0.050850</td>\n",
              "      <td>0.000000</td>\n",
              "      <td>0.00000</td>\n",
              "      <td>0.098100</td>\n",
              "      <td>0.058245</td>\n",
              "      <td>0.007266</td>\n",
              "      <td>0.018169</td>\n",
              "      <td>0.007283</td>\n",
              "      <td>0.014541</td>\n",
              "      <td>0.0</td>\n",
              "      <td>0.000000</td>\n",
              "      <td>0.000000</td>\n",
              "      <td>0.000000</td>\n",
              "      <td>0.0</td>\n",
              "      <td>0.076542</td>\n",
              "      <td>0.182548</td>\n",
              "      <td>0.000000</td>\n",
              "      <td>0.051136</td>\n",
              "      <td>0.007305</td>\n",
              "      <td>0.000000</td>\n",
              "      <td>0.000000</td>\n",
              "      <td>0.0</td>\n",
              "      <td>0.051230</td>\n",
              "      <td>0.036611</td>\n",
              "      <td>0.000000</td>\n",
              "      <td>0.007305</td>\n",
              "      <td>...</td>\n",
              "      <td>0.008732</td>\n",
              "      <td>0.009927</td>\n",
              "      <td>0.006543</td>\n",
              "      <td>0.043907</td>\n",
              "      <td>0.015489</td>\n",
              "      <td>0.039439</td>\n",
              "      <td>0.027264</td>\n",
              "      <td>0.024433</td>\n",
              "      <td>0.008796</td>\n",
              "      <td>0.002315</td>\n",
              "      <td>0.005078</td>\n",
              "      <td>0.005520</td>\n",
              "      <td>0.015532</td>\n",
              "      <td>0.031905</td>\n",
              "      <td>0.005469</td>\n",
              "      <td>0.015763</td>\n",
              "      <td>0.005532</td>\n",
              "      <td>0.014603</td>\n",
              "      <td>0.018986</td>\n",
              "      <td>0.006644</td>\n",
              "      <td>0.005556</td>\n",
              "      <td>0.022630</td>\n",
              "      <td>0.025087</td>\n",
              "      <td>0.020777</td>\n",
              "      <td>0.055104</td>\n",
              "      <td>0.019893</td>\n",
              "      <td>0.021708</td>\n",
              "      <td>0.008083</td>\n",
              "      <td>0.010274</td>\n",
              "      <td>0.013227</td>\n",
              "      <td>0.008228</td>\n",
              "      <td>0.013394</td>\n",
              "      <td>0.009415</td>\n",
              "      <td>0.024983</td>\n",
              "      <td>0.019524</td>\n",
              "      <td>0.018342</td>\n",
              "      <td>0.008442</td>\n",
              "      <td>0.012525</td>\n",
              "      <td>-2.415575</td>\n",
              "      <td>0.880580</td>\n",
              "    </tr>\n",
              "  </tbody>\n",
              "</table>\n",
              "<p>5 rows × 125 columns</p>\n",
              "</div>"
            ],
            "text/plain": [
              "     day  abs_ret0  abs_ret1  ...  rel_vol60        LS       NLV\n",
              "ID                            ...                               \n",
              "148    0  0.000000  0.000000  ...   0.006971 -2.307230  0.646580\n",
              "149    1  0.000000  0.000000  ...   0.005251 -2.263960  0.487708\n",
              "150    2  0.000000  0.000000  ...   0.011970 -2.343106  0.544476\n",
              "151    3  0.000000  0.007384  ...   0.021237 -2.331621  0.633181\n",
              "152    4  0.088086  0.109737  ...   0.012525 -2.415575  0.880580\n",
              "\n",
              "[5 rows x 125 columns]"
            ]
          },
          "metadata": {},
          "execution_count": 10
        }
      ]
    },
    {
      "cell_type": "markdown",
      "metadata": {
        "id": "b8b463bb"
      },
      "source": [
        "## <font color=blue>Importation et prétraîtement des données de test</font> "
      ],
      "id": "b8b463bb"
    },
    {
      "cell_type": "code",
      "metadata": {
        "id": "1bb4468a"
      },
      "source": [
        "Xt_untouched = pd.read_csv(r\"/Users/ayaamenssag/Desktop/input_test.csv\",index_col=0)"
      ],
      "id": "1bb4468a",
      "execution_count": null,
      "outputs": []
    },
    {
      "cell_type": "code",
      "metadata": {
        "id": "57b97b54",
        "outputId": "f7e4ce2a-ac57-4682-ab14-b27a520a9d99"
      },
      "source": [
        "Xt_untouched"
      ],
      "id": "57b97b54",
      "execution_count": null,
      "outputs": [
        {
          "data": {
            "text/html": [
              "<div>\n",
              "<style scoped>\n",
              "    .dataframe tbody tr th:only-of-type {\n",
              "        vertical-align: middle;\n",
              "    }\n",
              "\n",
              "    .dataframe tbody tr th {\n",
              "        vertical-align: top;\n",
              "    }\n",
              "\n",
              "    .dataframe thead th {\n",
              "        text-align: right;\n",
              "    }\n",
              "</style>\n",
              "<table border=\"1\" class=\"dataframe\">\n",
              "  <thead>\n",
              "    <tr style=\"text-align: right;\">\n",
              "      <th></th>\n",
              "      <th>pid</th>\n",
              "      <th>day</th>\n",
              "      <th>abs_ret0</th>\n",
              "      <th>abs_ret1</th>\n",
              "      <th>abs_ret2</th>\n",
              "      <th>abs_ret3</th>\n",
              "      <th>abs_ret4</th>\n",
              "      <th>abs_ret5</th>\n",
              "      <th>abs_ret6</th>\n",
              "      <th>abs_ret7</th>\n",
              "      <th>...</th>\n",
              "      <th>rel_vol53</th>\n",
              "      <th>rel_vol54</th>\n",
              "      <th>rel_vol55</th>\n",
              "      <th>rel_vol56</th>\n",
              "      <th>rel_vol57</th>\n",
              "      <th>rel_vol58</th>\n",
              "      <th>rel_vol59</th>\n",
              "      <th>rel_vol60</th>\n",
              "      <th>LS</th>\n",
              "      <th>NLV</th>\n",
              "    </tr>\n",
              "    <tr>\n",
              "      <th>ID</th>\n",
              "      <th></th>\n",
              "      <th></th>\n",
              "      <th></th>\n",
              "      <th></th>\n",
              "      <th></th>\n",
              "      <th></th>\n",
              "      <th></th>\n",
              "      <th></th>\n",
              "      <th></th>\n",
              "      <th></th>\n",
              "      <th></th>\n",
              "      <th></th>\n",
              "      <th></th>\n",
              "      <th></th>\n",
              "      <th></th>\n",
              "      <th></th>\n",
              "      <th></th>\n",
              "      <th></th>\n",
              "      <th></th>\n",
              "      <th></th>\n",
              "      <th></th>\n",
              "    </tr>\n",
              "  </thead>\n",
              "  <tbody>\n",
              "    <tr>\n",
              "      <th>1070752</th>\n",
              "      <td>360</td>\n",
              "      <td>805</td>\n",
              "      <td>0.318973</td>\n",
              "      <td>0.000000</td>\n",
              "      <td>0.036477</td>\n",
              "      <td>0.060808</td>\n",
              "      <td>0.121546</td>\n",
              "      <td>0.036420</td>\n",
              "      <td>0.020217</td>\n",
              "      <td>0.092986</td>\n",
              "      <td>...</td>\n",
              "      <td>0.005421</td>\n",
              "      <td>0.010815</td>\n",
              "      <td>0.008139</td>\n",
              "      <td>0.012176</td>\n",
              "      <td>0.014125</td>\n",
              "      <td>0.007319</td>\n",
              "      <td>0.010002</td>\n",
              "      <td>0.009969</td>\n",
              "      <td>-1.443817</td>\n",
              "      <td>0.666302</td>\n",
              "    </tr>\n",
              "    <tr>\n",
              "      <th>1070753</th>\n",
              "      <td>360</td>\n",
              "      <td>806</td>\n",
              "      <td>0.088113</td>\n",
              "      <td>0.076165</td>\n",
              "      <td>0.016047</td>\n",
              "      <td>0.224548</td>\n",
              "      <td>0.148030</td>\n",
              "      <td>0.004007</td>\n",
              "      <td>0.012021</td>\n",
              "      <td>0.092159</td>\n",
              "      <td>...</td>\n",
              "      <td>0.003653</td>\n",
              "      <td>0.027143</td>\n",
              "      <td>0.030775</td>\n",
              "      <td>0.012852</td>\n",
              "      <td>0.010340</td>\n",
              "      <td>0.013970</td>\n",
              "      <td>0.015756</td>\n",
              "      <td>0.015426</td>\n",
              "      <td>-1.733723</td>\n",
              "      <td>0.691423</td>\n",
              "    </tr>\n",
              "    <tr>\n",
              "      <th>1070754</th>\n",
              "      <td>360</td>\n",
              "      <td>807</td>\n",
              "      <td>0.215629</td>\n",
              "      <td>0.095538</td>\n",
              "      <td>0.211088</td>\n",
              "      <td>0.071851</td>\n",
              "      <td>0.229358</td>\n",
              "      <td>0.262660</td>\n",
              "      <td>0.279140</td>\n",
              "      <td>0.047731</td>\n",
              "      <td>...</td>\n",
              "      <td>0.015072</td>\n",
              "      <td>0.007164</td>\n",
              "      <td>0.012834</td>\n",
              "      <td>0.005153</td>\n",
              "      <td>0.016616</td>\n",
              "      <td>0.031887</td>\n",
              "      <td>0.000413</td>\n",
              "      <td>0.025075</td>\n",
              "      <td>-1.595646</td>\n",
              "      <td>0.708518</td>\n",
              "    </tr>\n",
              "    <tr>\n",
              "      <th>1070755</th>\n",
              "      <td>360</td>\n",
              "      <td>808</td>\n",
              "      <td>0.000000</td>\n",
              "      <td>0.498306</td>\n",
              "      <td>0.031819</td>\n",
              "      <td>0.027795</td>\n",
              "      <td>0.023813</td>\n",
              "      <td>0.099198</td>\n",
              "      <td>0.067608</td>\n",
              "      <td>0.011939</td>\n",
              "      <td>...</td>\n",
              "      <td>0.013314</td>\n",
              "      <td>0.020483</td>\n",
              "      <td>0.016145</td>\n",
              "      <td>0.010154</td>\n",
              "      <td>0.035758</td>\n",
              "      <td>0.013969</td>\n",
              "      <td>0.020954</td>\n",
              "      <td>0.028234</td>\n",
              "      <td>-1.495998</td>\n",
              "      <td>0.674784</td>\n",
              "    </tr>\n",
              "    <tr>\n",
              "      <th>1070756</th>\n",
              "      <td>360</td>\n",
              "      <td>809</td>\n",
              "      <td>0.052521</td>\n",
              "      <td>0.064607</td>\n",
              "      <td>0.036336</td>\n",
              "      <td>0.121153</td>\n",
              "      <td>0.108871</td>\n",
              "      <td>0.302749</td>\n",
              "      <td>0.189150</td>\n",
              "      <td>0.209087</td>\n",
              "      <td>...</td>\n",
              "      <td>0.013885</td>\n",
              "      <td>0.014365</td>\n",
              "      <td>0.015316</td>\n",
              "      <td>0.005626</td>\n",
              "      <td>0.017699</td>\n",
              "      <td>0.012703</td>\n",
              "      <td>0.018457</td>\n",
              "      <td>0.014863</td>\n",
              "      <td>-1.650134</td>\n",
              "      <td>0.928211</td>\n",
              "    </tr>\n",
              "    <tr>\n",
              "      <th>...</th>\n",
              "      <td>...</td>\n",
              "      <td>...</td>\n",
              "      <td>...</td>\n",
              "      <td>...</td>\n",
              "      <td>...</td>\n",
              "      <td>...</td>\n",
              "      <td>...</td>\n",
              "      <td>...</td>\n",
              "      <td>...</td>\n",
              "      <td>...</td>\n",
              "      <td>...</td>\n",
              "      <td>...</td>\n",
              "      <td>...</td>\n",
              "      <td>...</td>\n",
              "      <td>...</td>\n",
              "      <td>...</td>\n",
              "      <td>...</td>\n",
              "      <td>...</td>\n",
              "      <td>...</td>\n",
              "      <td>...</td>\n",
              "      <td>...</td>\n",
              "    </tr>\n",
              "    <tr>\n",
              "      <th>2027595</th>\n",
              "      <td>596</td>\n",
              "      <td>1147</td>\n",
              "      <td>0.099453</td>\n",
              "      <td>0.494071</td>\n",
              "      <td>0.099305</td>\n",
              "      <td>0.148810</td>\n",
              "      <td>0.000000</td>\n",
              "      <td>0.149031</td>\n",
              "      <td>0.000000</td>\n",
              "      <td>0.099354</td>\n",
              "      <td>...</td>\n",
              "      <td>0.011067</td>\n",
              "      <td>0.005888</td>\n",
              "      <td>0.006395</td>\n",
              "      <td>0.010777</td>\n",
              "      <td>0.014178</td>\n",
              "      <td>0.008334</td>\n",
              "      <td>0.002919</td>\n",
              "      <td>0.012722</td>\n",
              "      <td>-3.158218</td>\n",
              "      <td>-0.771778</td>\n",
              "    </tr>\n",
              "    <tr>\n",
              "      <th>2027596</th>\n",
              "      <td>596</td>\n",
              "      <td>1148</td>\n",
              "      <td>0.101729</td>\n",
              "      <td>0.050994</td>\n",
              "      <td>0.127389</td>\n",
              "      <td>0.153061</td>\n",
              "      <td>0.767263</td>\n",
              "      <td>0.412159</td>\n",
              "      <td>0.205656</td>\n",
              "      <td>0.513875</td>\n",
              "      <td>...</td>\n",
              "      <td>NaN</td>\n",
              "      <td>NaN</td>\n",
              "      <td>NaN</td>\n",
              "      <td>NaN</td>\n",
              "      <td>NaN</td>\n",
              "      <td>NaN</td>\n",
              "      <td>NaN</td>\n",
              "      <td>NaN</td>\n",
              "      <td>-3.439334</td>\n",
              "      <td>-1.131161</td>\n",
              "    </tr>\n",
              "    <tr>\n",
              "      <th>2027597</th>\n",
              "      <td>596</td>\n",
              "      <td>1149</td>\n",
              "      <td>0.000000</td>\n",
              "      <td>0.103627</td>\n",
              "      <td>0.832900</td>\n",
              "      <td>0.413010</td>\n",
              "      <td>0.103681</td>\n",
              "      <td>0.622730</td>\n",
              "      <td>0.000000</td>\n",
              "      <td>0.156986</td>\n",
              "      <td>...</td>\n",
              "      <td>0.013367</td>\n",
              "      <td>0.005079</td>\n",
              "      <td>0.015388</td>\n",
              "      <td>0.011558</td>\n",
              "      <td>0.013544</td>\n",
              "      <td>0.009696</td>\n",
              "      <td>0.032761</td>\n",
              "      <td>0.003646</td>\n",
              "      <td>-3.171627</td>\n",
              "      <td>-1.431447</td>\n",
              "    </tr>\n",
              "    <tr>\n",
              "      <th>2027598</th>\n",
              "      <td>596</td>\n",
              "      <td>1150</td>\n",
              "      <td>0.000000</td>\n",
              "      <td>0.669413</td>\n",
              "      <td>0.051151</td>\n",
              "      <td>0.895370</td>\n",
              "      <td>1.315789</td>\n",
              "      <td>0.102354</td>\n",
              "      <td>0.765697</td>\n",
              "      <td>0.051387</td>\n",
              "      <td>...</td>\n",
              "      <td>0.074456</td>\n",
              "      <td>0.011839</td>\n",
              "      <td>0.011825</td>\n",
              "      <td>0.006356</td>\n",
              "      <td>0.024702</td>\n",
              "      <td>0.027809</td>\n",
              "      <td>0.017024</td>\n",
              "      <td>0.024792</td>\n",
              "      <td>-3.073235</td>\n",
              "      <td>-1.268934</td>\n",
              "    </tr>\n",
              "    <tr>\n",
              "      <th>2027599</th>\n",
              "      <td>596</td>\n",
              "      <td>1151</td>\n",
              "      <td>0.000000</td>\n",
              "      <td>0.000000</td>\n",
              "      <td>0.874563</td>\n",
              "      <td>0.123854</td>\n",
              "      <td>0.000000</td>\n",
              "      <td>0.148810</td>\n",
              "      <td>0.297471</td>\n",
              "      <td>0.000000</td>\n",
              "      <td>...</td>\n",
              "      <td>0.003387</td>\n",
              "      <td>0.013556</td>\n",
              "      <td>0.003571</td>\n",
              "      <td>0.019859</td>\n",
              "      <td>0.013965</td>\n",
              "      <td>0.009863</td>\n",
              "      <td>0.005116</td>\n",
              "      <td>0.022859</td>\n",
              "      <td>-2.987524</td>\n",
              "      <td>-1.427963</td>\n",
              "    </tr>\n",
              "  </tbody>\n",
              "</table>\n",
              "<p>311744 rows × 126 columns</p>\n",
              "</div>"
            ],
            "text/plain": [
              "         pid   day  abs_ret0  abs_ret1  abs_ret2  abs_ret3  abs_ret4  \\\n",
              "ID                                                                     \n",
              "1070752  360   805  0.318973  0.000000  0.036477  0.060808  0.121546   \n",
              "1070753  360   806  0.088113  0.076165  0.016047  0.224548  0.148030   \n",
              "1070754  360   807  0.215629  0.095538  0.211088  0.071851  0.229358   \n",
              "1070755  360   808  0.000000  0.498306  0.031819  0.027795  0.023813   \n",
              "1070756  360   809  0.052521  0.064607  0.036336  0.121153  0.108871   \n",
              "...      ...   ...       ...       ...       ...       ...       ...   \n",
              "2027595  596  1147  0.099453  0.494071  0.099305  0.148810  0.000000   \n",
              "2027596  596  1148  0.101729  0.050994  0.127389  0.153061  0.767263   \n",
              "2027597  596  1149  0.000000  0.103627  0.832900  0.413010  0.103681   \n",
              "2027598  596  1150  0.000000  0.669413  0.051151  0.895370  1.315789   \n",
              "2027599  596  1151  0.000000  0.000000  0.874563  0.123854  0.000000   \n",
              "\n",
              "         abs_ret5  abs_ret6  abs_ret7  ...  rel_vol53  rel_vol54  rel_vol55  \\\n",
              "ID                                     ...                                    \n",
              "1070752  0.036420  0.020217  0.092986  ...   0.005421   0.010815   0.008139   \n",
              "1070753  0.004007  0.012021  0.092159  ...   0.003653   0.027143   0.030775   \n",
              "1070754  0.262660  0.279140  0.047731  ...   0.015072   0.007164   0.012834   \n",
              "1070755  0.099198  0.067608  0.011939  ...   0.013314   0.020483   0.016145   \n",
              "1070756  0.302749  0.189150  0.209087  ...   0.013885   0.014365   0.015316   \n",
              "...           ...       ...       ...  ...        ...        ...        ...   \n",
              "2027595  0.149031  0.000000  0.099354  ...   0.011067   0.005888   0.006395   \n",
              "2027596  0.412159  0.205656  0.513875  ...        NaN        NaN        NaN   \n",
              "2027597  0.622730  0.000000  0.156986  ...   0.013367   0.005079   0.015388   \n",
              "2027598  0.102354  0.765697  0.051387  ...   0.074456   0.011839   0.011825   \n",
              "2027599  0.148810  0.297471  0.000000  ...   0.003387   0.013556   0.003571   \n",
              "\n",
              "         rel_vol56  rel_vol57  rel_vol58  rel_vol59  rel_vol60        LS  \\\n",
              "ID                                                                         \n",
              "1070752   0.012176   0.014125   0.007319   0.010002   0.009969 -1.443817   \n",
              "1070753   0.012852   0.010340   0.013970   0.015756   0.015426 -1.733723   \n",
              "1070754   0.005153   0.016616   0.031887   0.000413   0.025075 -1.595646   \n",
              "1070755   0.010154   0.035758   0.013969   0.020954   0.028234 -1.495998   \n",
              "1070756   0.005626   0.017699   0.012703   0.018457   0.014863 -1.650134   \n",
              "...            ...        ...        ...        ...        ...       ...   \n",
              "2027595   0.010777   0.014178   0.008334   0.002919   0.012722 -3.158218   \n",
              "2027596        NaN        NaN        NaN        NaN        NaN -3.439334   \n",
              "2027597   0.011558   0.013544   0.009696   0.032761   0.003646 -3.171627   \n",
              "2027598   0.006356   0.024702   0.027809   0.017024   0.024792 -3.073235   \n",
              "2027599   0.019859   0.013965   0.009863   0.005116   0.022859 -2.987524   \n",
              "\n",
              "              NLV  \n",
              "ID                 \n",
              "1070752  0.666302  \n",
              "1070753  0.691423  \n",
              "1070754  0.708518  \n",
              "1070755  0.674784  \n",
              "1070756  0.928211  \n",
              "...           ...  \n",
              "2027595 -0.771778  \n",
              "2027596 -1.131161  \n",
              "2027597 -1.431447  \n",
              "2027598 -1.268934  \n",
              "2027599 -1.427963  \n",
              "\n",
              "[311744 rows x 126 columns]"
            ]
          },
          "execution_count": 12,
          "metadata": {},
          "output_type": "execute_result"
        }
      ]
    },
    {
      "cell_type": "code",
      "metadata": {
        "id": "24f68e03"
      },
      "source": [
        "#On appellera Xt les données de test sans la colonne 'pid'\n",
        "Wt = Xt_untouched\n",
        "Wt = Wt.fillna(0)"
      ],
      "id": "24f68e03",
      "execution_count": null,
      "outputs": []
    },
    {
      "cell_type": "code",
      "metadata": {
        "id": "3kGY9ke66ykK"
      },
      "source": [
        "#La commande ci-dessous reste commentée, on en aura besoin pour une partie ultérieure\n",
        "#Wt[columns_to_scale]=StandardScaler().fit_transform(Xt_untouched[columns_to_scale])\n",
        "\n",
        "Xt = Wt[columns_to_scale]"
      ],
      "id": "3kGY9ke66ykK",
      "execution_count": null,
      "outputs": []
    },
    {
      "cell_type": "code",
      "metadata": {
        "id": "6f199853",
        "outputId": "e0fb8116-419b-47a5-c477-7ae20baaa687"
      },
      "source": [
        "Xt.head(5)"
      ],
      "id": "6f199853",
      "execution_count": null,
      "outputs": [
        {
          "data": {
            "text/html": [
              "<div>\n",
              "<style scoped>\n",
              "    .dataframe tbody tr th:only-of-type {\n",
              "        vertical-align: middle;\n",
              "    }\n",
              "\n",
              "    .dataframe tbody tr th {\n",
              "        vertical-align: top;\n",
              "    }\n",
              "\n",
              "    .dataframe thead th {\n",
              "        text-align: right;\n",
              "    }\n",
              "</style>\n",
              "<table border=\"1\" class=\"dataframe\">\n",
              "  <thead>\n",
              "    <tr style=\"text-align: right;\">\n",
              "      <th></th>\n",
              "      <th>day</th>\n",
              "      <th>abs_ret0</th>\n",
              "      <th>abs_ret1</th>\n",
              "      <th>abs_ret2</th>\n",
              "      <th>abs_ret3</th>\n",
              "      <th>abs_ret4</th>\n",
              "      <th>abs_ret5</th>\n",
              "      <th>abs_ret6</th>\n",
              "      <th>abs_ret7</th>\n",
              "      <th>abs_ret8</th>\n",
              "      <th>...</th>\n",
              "      <th>rel_vol53</th>\n",
              "      <th>rel_vol54</th>\n",
              "      <th>rel_vol55</th>\n",
              "      <th>rel_vol56</th>\n",
              "      <th>rel_vol57</th>\n",
              "      <th>rel_vol58</th>\n",
              "      <th>rel_vol59</th>\n",
              "      <th>rel_vol60</th>\n",
              "      <th>LS</th>\n",
              "      <th>NLV</th>\n",
              "    </tr>\n",
              "    <tr>\n",
              "      <th>ID</th>\n",
              "      <th></th>\n",
              "      <th></th>\n",
              "      <th></th>\n",
              "      <th></th>\n",
              "      <th></th>\n",
              "      <th></th>\n",
              "      <th></th>\n",
              "      <th></th>\n",
              "      <th></th>\n",
              "      <th></th>\n",
              "      <th></th>\n",
              "      <th></th>\n",
              "      <th></th>\n",
              "      <th></th>\n",
              "      <th></th>\n",
              "      <th></th>\n",
              "      <th></th>\n",
              "      <th></th>\n",
              "      <th></th>\n",
              "      <th></th>\n",
              "      <th></th>\n",
              "    </tr>\n",
              "  </thead>\n",
              "  <tbody>\n",
              "    <tr>\n",
              "      <th>1070752</th>\n",
              "      <td>805</td>\n",
              "      <td>0.318973</td>\n",
              "      <td>0.000000</td>\n",
              "      <td>0.036477</td>\n",
              "      <td>0.060808</td>\n",
              "      <td>0.121546</td>\n",
              "      <td>0.036420</td>\n",
              "      <td>0.020217</td>\n",
              "      <td>0.092986</td>\n",
              "      <td>0.238201</td>\n",
              "      <td>...</td>\n",
              "      <td>0.005421</td>\n",
              "      <td>0.010815</td>\n",
              "      <td>0.008139</td>\n",
              "      <td>0.012176</td>\n",
              "      <td>0.014125</td>\n",
              "      <td>0.007319</td>\n",
              "      <td>0.010002</td>\n",
              "      <td>0.009969</td>\n",
              "      <td>-1.443817</td>\n",
              "      <td>0.666302</td>\n",
              "    </tr>\n",
              "    <tr>\n",
              "      <th>1070753</th>\n",
              "      <td>806</td>\n",
              "      <td>0.088113</td>\n",
              "      <td>0.076165</td>\n",
              "      <td>0.016047</td>\n",
              "      <td>0.224548</td>\n",
              "      <td>0.148030</td>\n",
              "      <td>0.004007</td>\n",
              "      <td>0.012021</td>\n",
              "      <td>0.092159</td>\n",
              "      <td>0.072092</td>\n",
              "      <td>...</td>\n",
              "      <td>0.003653</td>\n",
              "      <td>0.027143</td>\n",
              "      <td>0.030775</td>\n",
              "      <td>0.012852</td>\n",
              "      <td>0.010340</td>\n",
              "      <td>0.013970</td>\n",
              "      <td>0.015756</td>\n",
              "      <td>0.015426</td>\n",
              "      <td>-1.733723</td>\n",
              "      <td>0.691423</td>\n",
              "    </tr>\n",
              "    <tr>\n",
              "      <th>1070754</th>\n",
              "      <td>807</td>\n",
              "      <td>0.215629</td>\n",
              "      <td>0.095538</td>\n",
              "      <td>0.211088</td>\n",
              "      <td>0.071851</td>\n",
              "      <td>0.229358</td>\n",
              "      <td>0.262660</td>\n",
              "      <td>0.279140</td>\n",
              "      <td>0.047731</td>\n",
              "      <td>0.015903</td>\n",
              "      <td>...</td>\n",
              "      <td>0.015072</td>\n",
              "      <td>0.007164</td>\n",
              "      <td>0.012834</td>\n",
              "      <td>0.005153</td>\n",
              "      <td>0.016616</td>\n",
              "      <td>0.031887</td>\n",
              "      <td>0.000413</td>\n",
              "      <td>0.025075</td>\n",
              "      <td>-1.595646</td>\n",
              "      <td>0.708518</td>\n",
              "    </tr>\n",
              "    <tr>\n",
              "      <th>1070755</th>\n",
              "      <td>808</td>\n",
              "      <td>0.000000</td>\n",
              "      <td>0.498306</td>\n",
              "      <td>0.031819</td>\n",
              "      <td>0.027795</td>\n",
              "      <td>0.023813</td>\n",
              "      <td>0.099198</td>\n",
              "      <td>0.067608</td>\n",
              "      <td>0.011939</td>\n",
              "      <td>0.159204</td>\n",
              "      <td>...</td>\n",
              "      <td>0.013314</td>\n",
              "      <td>0.020483</td>\n",
              "      <td>0.016145</td>\n",
              "      <td>0.010154</td>\n",
              "      <td>0.035758</td>\n",
              "      <td>0.013969</td>\n",
              "      <td>0.020954</td>\n",
              "      <td>0.028234</td>\n",
              "      <td>-1.495998</td>\n",
              "      <td>0.674784</td>\n",
              "    </tr>\n",
              "    <tr>\n",
              "      <th>1070756</th>\n",
              "      <td>809</td>\n",
              "      <td>0.052521</td>\n",
              "      <td>0.064607</td>\n",
              "      <td>0.036336</td>\n",
              "      <td>0.121153</td>\n",
              "      <td>0.108871</td>\n",
              "      <td>0.302749</td>\n",
              "      <td>0.189150</td>\n",
              "      <td>0.209087</td>\n",
              "      <td>0.132989</td>\n",
              "      <td>...</td>\n",
              "      <td>0.013885</td>\n",
              "      <td>0.014365</td>\n",
              "      <td>0.015316</td>\n",
              "      <td>0.005626</td>\n",
              "      <td>0.017699</td>\n",
              "      <td>0.012703</td>\n",
              "      <td>0.018457</td>\n",
              "      <td>0.014863</td>\n",
              "      <td>-1.650134</td>\n",
              "      <td>0.928211</td>\n",
              "    </tr>\n",
              "  </tbody>\n",
              "</table>\n",
              "<p>5 rows × 125 columns</p>\n",
              "</div>"
            ],
            "text/plain": [
              "         day  abs_ret0  abs_ret1  abs_ret2  abs_ret3  abs_ret4  abs_ret5  \\\n",
              "ID                                                                         \n",
              "1070752  805  0.318973  0.000000  0.036477  0.060808  0.121546  0.036420   \n",
              "1070753  806  0.088113  0.076165  0.016047  0.224548  0.148030  0.004007   \n",
              "1070754  807  0.215629  0.095538  0.211088  0.071851  0.229358  0.262660   \n",
              "1070755  808  0.000000  0.498306  0.031819  0.027795  0.023813  0.099198   \n",
              "1070756  809  0.052521  0.064607  0.036336  0.121153  0.108871  0.302749   \n",
              "\n",
              "         abs_ret6  abs_ret7  abs_ret8  ...  rel_vol53  rel_vol54  rel_vol55  \\\n",
              "ID                                     ...                                    \n",
              "1070752  0.020217  0.092986  0.238201  ...   0.005421   0.010815   0.008139   \n",
              "1070753  0.012021  0.092159  0.072092  ...   0.003653   0.027143   0.030775   \n",
              "1070754  0.279140  0.047731  0.015903  ...   0.015072   0.007164   0.012834   \n",
              "1070755  0.067608  0.011939  0.159204  ...   0.013314   0.020483   0.016145   \n",
              "1070756  0.189150  0.209087  0.132989  ...   0.013885   0.014365   0.015316   \n",
              "\n",
              "         rel_vol56  rel_vol57  rel_vol58  rel_vol59  rel_vol60        LS  \\\n",
              "ID                                                                         \n",
              "1070752   0.012176   0.014125   0.007319   0.010002   0.009969 -1.443817   \n",
              "1070753   0.012852   0.010340   0.013970   0.015756   0.015426 -1.733723   \n",
              "1070754   0.005153   0.016616   0.031887   0.000413   0.025075 -1.595646   \n",
              "1070755   0.010154   0.035758   0.013969   0.020954   0.028234 -1.495998   \n",
              "1070756   0.005626   0.017699   0.012703   0.018457   0.014863 -1.650134   \n",
              "\n",
              "              NLV  \n",
              "ID                 \n",
              "1070752  0.666302  \n",
              "1070753  0.691423  \n",
              "1070754  0.708518  \n",
              "1070755  0.674784  \n",
              "1070756  0.928211  \n",
              "\n",
              "[5 rows x 125 columns]"
            ]
          },
          "execution_count": 14,
          "metadata": {},
          "output_type": "execute_result"
        }
      ]
    },
    {
      "cell_type": "code",
      "metadata": {
        "id": "86546432",
        "outputId": "e3e50176-82b6-4840-d967-74c9b7f5b34f"
      },
      "source": [
        "Xt.shape"
      ],
      "id": "86546432",
      "execution_count": null,
      "outputs": [
        {
          "data": {
            "text/plain": [
              "(311744, 125)"
            ]
          },
          "execution_count": 15,
          "metadata": {},
          "output_type": "execute_result"
        }
      ]
    },
    {
      "cell_type": "markdown",
      "metadata": {
        "id": "e8555f9b"
      },
      "source": [
        "***Le nombre d'observations de l'échantillon test (311744) représente 31.3% du nombre total des observations du jeu de données (684482+311744). C'est comme ça qu'on va choisir le pourcentage lors de notre découpage train/test sur nos données.***"
      ],
      "id": "e8555f9b"
    },
    {
      "cell_type": "markdown",
      "metadata": {
        "id": "f10628db"
      },
      "source": [
        "## <font color=blue>Découpage train/test</font> "
      ],
      "id": "f10628db"
    },
    {
      "cell_type": "markdown",
      "metadata": {
        "id": "ff6827ad"
      },
      "source": [
        "***Les données d'apprentissage et de test qui sont fournies dans le challenge représentent les mêmes 'pid', donc les mêmes produits, avec les données de test qui concernent 350 jours d'observations qui sont postérieurs aux 800 jours fournis dans les données d'apprentissage. Ainsi, on a choisi de diviser les données d'apprentissage en deux sous-ensembles d'entraînement et de test pour valider nos modèles. Pour respecter la structure du découpage du challenge, on a isolé chaque 'pid' puis on a sélectionné le dernier tiers des jours comme échantillon de test.***"
      ],
      "id": "ff6827ad"
    },
    {
      "cell_type": "code",
      "metadata": {
        "id": "dfeec1b3"
      },
      "source": [
        "#Ensemble des ID de produits\n",
        "PID=set(X_untouched['pid'].values.tolist())"
      ],
      "id": "dfeec1b3",
      "execution_count": 9,
      "outputs": []
    },
    {
      "cell_type": "code",
      "metadata": {
        "id": "5ba10d11"
      },
      "source": [
        "LX = [X[X0['pid']==id] for id in PID]\n",
        "LX0 = [X0[X0['pid']==id] for id in PID]\n",
        "LY = [Y[X0['pid']==id] for id in PID]"
      ],
      "id": "5ba10d11",
      "execution_count": 10,
      "outputs": []
    },
    {
      "cell_type": "code",
      "metadata": {
        "id": "3f376d67"
      },
      "source": [
        "LX_train = []\n",
        "LX0_train = []\n",
        "LY_train = []\n",
        "LX_test = []\n",
        "LX0_test = []\n",
        "LY_test = []\n",
        "for i in range(len(LX)):\n",
        "  x_train,x_test,y_train,y_test,x0_train,x0_test = train_test_split(LX[i],LY[i],LX0[i],test_size=0.32,random_state=0,shuffle=False)\n",
        "  LX_train.append(x_train)\n",
        "  LX0_train.append(x0_train)\n",
        "  LY_train.append(y_train)\n",
        "  LX_test.append(x_test)\n",
        "  LX0_test.append(x0_test)\n",
        "  LY_test.append(y_test)"
      ],
      "id": "3f376d67",
      "execution_count": 11,
      "outputs": []
    },
    {
      "cell_type": "code",
      "metadata": {
        "id": "70810b57"
      },
      "source": [
        "X_train = pd.concat(LX_train)\n",
        "X_train = X_train.sort_index()"
      ],
      "id": "70810b57",
      "execution_count": 12,
      "outputs": []
    },
    {
      "cell_type": "code",
      "metadata": {
        "id": "b826c113"
      },
      "source": [
        "X_test = pd.concat(LX_test)\n",
        "X_test = X_test.sort_index()"
      ],
      "id": "b826c113",
      "execution_count": 13,
      "outputs": []
    },
    {
      "cell_type": "code",
      "metadata": {
        "id": "52982150"
      },
      "source": [
        "X0_train = pd.concat(LX0_train)\n",
        "X0_train = X0_train.sort_index()"
      ],
      "id": "52982150",
      "execution_count": 14,
      "outputs": []
    },
    {
      "cell_type": "code",
      "metadata": {
        "id": "3dd70dd0"
      },
      "source": [
        "X0_test = pd.concat(LX0_test)\n",
        "X0_test = X0_test.sort_index()"
      ],
      "id": "3dd70dd0",
      "execution_count": 15,
      "outputs": []
    },
    {
      "cell_type": "code",
      "metadata": {
        "id": "fde8faab"
      },
      "source": [
        "Y_train = pd.concat(LY_train)\n",
        "Y_train = Y_train.sort_index()"
      ],
      "id": "fde8faab",
      "execution_count": null,
      "outputs": []
    },
    {
      "cell_type": "code",
      "metadata": {
        "id": "411872ea"
      },
      "source": [
        "Y_test = pd.concat(LY_test)\n",
        "Y_test = Y_test.sort_index()"
      ],
      "id": "411872ea",
      "execution_count": 16,
      "outputs": []
    },
    {
      "cell_type": "markdown",
      "metadata": {
        "id": "0d142db4"
      },
      "source": [
        "***On s'assure de la taille des données suite à notre découpage:***"
      ],
      "id": "0d142db4"
    },
    {
      "cell_type": "code",
      "metadata": {
        "colab": {
          "base_uri": "https://localhost:8080/"
        },
        "id": "fc01d918",
        "outputId": "f906db13-ae3d-48b4-830e-5cc00e1ce79e"
      },
      "source": [
        "#Les données d'entrée sans la colonne'pid'\n",
        "print(X_train.shape, X_test.shape)"
      ],
      "id": "fc01d918",
      "execution_count": 18,
      "outputs": [
        {
          "output_type": "stream",
          "name": "stdout",
          "text": [
            "(465136, 125) (219346, 125)\n"
          ]
        }
      ]
    },
    {
      "cell_type": "code",
      "metadata": {
        "colab": {
          "base_uri": "https://localhost:8080/"
        },
        "id": "f91fc3bb",
        "outputId": "45ab8295-569d-4984-e8eb-a02e1453bab3"
      },
      "source": [
        "#Les données d'entrée avec la colonne 'pid'\n",
        "print(X0_train.shape, X0_test.shape)"
      ],
      "id": "f91fc3bb",
      "execution_count": 19,
      "outputs": [
        {
          "output_type": "stream",
          "name": "stdout",
          "text": [
            "(465136, 126) (219346, 126)\n"
          ]
        }
      ]
    },
    {
      "cell_type": "code",
      "metadata": {
        "colab": {
          "base_uri": "https://localhost:8080/"
        },
        "id": "e14ffbe2",
        "outputId": "5d3247af-9330-452a-e1e6-89b7e0ee7cd2"
      },
      "source": [
        "#Les données de sortie\n",
        "print(Y_train.shape, Y_test.shape)"
      ],
      "id": "e14ffbe2",
      "execution_count": 20,
      "outputs": [
        {
          "output_type": "stream",
          "name": "stdout",
          "text": [
            "(465136, 1) (219346, 1)\n"
          ]
        }
      ]
    },
    {
      "cell_type": "markdown",
      "metadata": {
        "id": "3ce0768d"
      },
      "source": [
        "***On obtient des résultats cohérents.***"
      ],
      "id": "3ce0768d"
    },
    {
      "cell_type": "markdown",
      "metadata": {
        "id": "rc3g795eyVqe"
      },
      "source": [
        "***On définit une fonction qui nous sera utile pour calculer l'erreur de nos prédictions. Elle s'appuie sur l'erreur MSE (Mean Squared Error) qui est la métrique de ce data challenge.***"
      ],
      "id": "rc3g795eyVqe"
    },
    {
      "cell_type": "code",
      "metadata": {
        "id": "h0sotTD8xtb3"
      },
      "source": [
        "def err(pred):\n",
        "  y = pred.predict(X_test)\n",
        "  return mean_squared_error(y,Y_test)"
      ],
      "id": "h0sotTD8xtb3",
      "execution_count": 21,
      "outputs": []
    },
    {
      "cell_type": "markdown",
      "metadata": {
        "id": "01e8e7d8"
      },
      "source": [
        "## <font color=blue>Évolution du \"auction volume\" d'un produit</font> \n"
      ],
      "id": "01e8e7d8"
    },
    {
      "cell_type": "markdown",
      "metadata": {
        "id": "c02889c2"
      },
      "source": [
        "***On observe l'évolution du 'target' en fonction du 'day' pour l'action 0:***"
      ],
      "id": "c02889c2"
    },
    {
      "cell_type": "code",
      "metadata": {
        "id": "34e68bd3"
      },
      "source": [
        "y=Y_untouched[X_untouched['pid']==0]"
      ],
      "id": "34e68bd3",
      "execution_count": null,
      "outputs": []
    },
    {
      "cell_type": "code",
      "metadata": {
        "id": "75b15472"
      },
      "source": [
        "x=X_untouched[X_untouched['pid']==0]['day']"
      ],
      "id": "75b15472",
      "execution_count": null,
      "outputs": []
    },
    {
      "cell_type": "code",
      "metadata": {
        "id": "0b08fd15"
      },
      "source": [
        "y=y.to_numpy()\n",
        "x=x.to_numpy()"
      ],
      "id": "0b08fd15",
      "execution_count": null,
      "outputs": []
    },
    {
      "cell_type": "code",
      "metadata": {
        "colab": {
          "base_uri": "https://localhost:8080/"
        },
        "id": "831b65d8",
        "outputId": "16a5efe0-a9c9-47dc-d9fe-41227b3dcd26"
      },
      "source": [
        "plt.plot(x,y)\n",
        "plt.xlabel('Days')\n",
        "plt.title(label='Product ID0 auction volume evolution');\n",
        "plt.ylabel('Natural logarithm of auction volume');"
      ],
      "id": "831b65d8",
      "execution_count": null,
      "outputs": [
        {
          "data": {
            "image/png": "[encoded data removed]",
            "text/plain": [
              "<Figure size 432x288 with 1 Axes>"
            ]
          },
          "metadata": {
            "needs_background": "light"
          },
          "output_type": "display_data"
        }
      ]
    },
    {
      "cell_type": "markdown",
      "metadata": {
        "id": "78b451e0"
      },
      "source": [
        "## <font color=blue>Forêts aléatoires</font> "
      ],
      "id": "78b451e0"
    },
    {
      "cell_type": "code",
      "metadata": {
        "id": "5f36550f"
      },
      "source": [
        "RF = RandomForestRegressor(n_estimators=100, max_features=4) "
      ],
      "id": "5f36550f",
      "execution_count": null,
      "outputs": []
    },
    {
      "cell_type": "code",
      "metadata": {
        "colab": {
          "base_uri": "https://localhost:8080/"
        },
        "id": "e5242afe",
        "outputId": "46650919-0b78-4da3-c855-e1011c1ad9e5"
      },
      "source": [
        "RF.fit(X_train, np.array(Y_train).ravel())"
      ],
      "id": "e5242afe",
      "execution_count": null,
      "outputs": [
        {
          "output_type": "execute_result",
          "data": {
            "text/plain": [
              "RandomForestRegressor(max_features=4)"
            ]
          },
          "metadata": {},
          "execution_count": 20
        }
      ]
    },
    {
      "cell_type": "code",
      "metadata": {
        "colab": {
          "base_uri": "https://localhost:8080/"
        },
        "id": "9cc6fa1d",
        "outputId": "3675fe1a-ce07-4cef-fed0-7cfe72af2402"
      },
      "source": [
        "err(RF)"
      ],
      "id": "9cc6fa1d",
      "execution_count": null,
      "outputs": [
        {
          "output_type": "execute_result",
          "data": {
            "text/plain": [
              "0.5966639652696304"
            ]
          },
          "metadata": {},
          "execution_count": 21
        }
      ]
    },
    {
      "cell_type": "code",
      "metadata": {
        "id": "1ea4e423"
      },
      "source": [
        "trees = [50, 100, 150]\n",
        "features = [4, 10]\n",
        "\n",
        "erreur = []\n",
        "params = []\n",
        "for elt in itertools.product(trees, features):\n",
        "    params.append(elt)\n",
        "    rf = RandomForestRegressor(n_estimators = elt[0], max_features = elt[1])\n",
        "    rf.fit(X_train, np.array(Y_train).ravel())\n",
        "    erreur.append(err(rf))"
      ],
      "id": "1ea4e423",
      "execution_count": null,
      "outputs": []
    },
    {
      "cell_type": "code",
      "metadata": {
        "id": "c9c1a137",
        "outputId": "3c23d2ee-3070-4606-f39e-5312c6c3bc3a"
      },
      "source": [
        "best_params = params[np.argmin(erreur)]\n",
        "best_params"
      ],
      "id": "c9c1a137",
      "execution_count": null,
      "outputs": [
        {
          "data": {
            "text/plain": [
              "(150, 10)"
            ]
          },
          "execution_count": 36,
          "metadata": {},
          "output_type": "execute_result"
        }
      ]
    },
    {
      "cell_type": "code",
      "metadata": {
        "id": "8ac9a6df",
        "outputId": "6473ad4d-4975-4642-e05b-251684b11693"
      },
      "source": [
        "min(erreur)"
      ],
      "id": "8ac9a6df",
      "execution_count": null,
      "outputs": [
        {
          "data": {
            "text/plain": [
              "0.565565637653353"
            ]
          },
          "execution_count": 39,
          "metadata": {},
          "output_type": "execute_result"
        }
      ]
    },
    {
      "cell_type": "markdown",
      "metadata": {
        "id": "AATQAWIM7ik-"
      },
      "source": [
        "***On aurait sûrement pu avoir de meilleurs résultats en augmentant ces paramètres, mais rien qu'avec ceux ci-dessus, ça prend énormément de temps, donc on va essayer d'autres méthodes.***"
      ],
      "id": "AATQAWIM7ik-"
    },
    {
      "cell_type": "markdown",
      "metadata": {
        "id": "4b80c3a9"
      },
      "source": [
        "## <font color=blue>Régression linéaire simple</font> "
      ],
      "id": "4b80c3a9"
    },
    {
      "cell_type": "code",
      "metadata": {
        "id": "e6f95152"
      },
      "source": [
        "lr = LinearRegression()"
      ],
      "id": "e6f95152",
      "execution_count": null,
      "outputs": []
    },
    {
      "cell_type": "code",
      "metadata": {
        "id": "30c25ecc",
        "outputId": "81c2b708-5edc-4952-b7cd-5543d7f4f58c"
      },
      "source": [
        "lr.fit(X_train, Y_train)"
      ],
      "id": "30c25ecc",
      "execution_count": null,
      "outputs": [
        {
          "data": {
            "text/plain": [
              "LinearRegression()"
            ]
          },
          "execution_count": 73,
          "metadata": {},
          "output_type": "execute_result"
        }
      ]
    },
    {
      "cell_type": "code",
      "metadata": {
        "id": "39b85dd1",
        "outputId": "7f320f60-90e1-4846-9415-990ee8a5263a"
      },
      "source": [
        "Y_pred_lr = np.array(lr.predict(X_test)).ravel()\n",
        "Y_pred_lr"
      ],
      "id": "39b85dd1",
      "execution_count": null,
      "outputs": [
        {
          "data": {
            "text/plain": [
              "array([-1.67138898, -1.99340439, -1.81624484, ..., -1.58228457,\n",
              "       -2.03043604, -1.79054582])"
            ]
          },
          "execution_count": 37,
          "metadata": {},
          "output_type": "execute_result"
        }
      ]
    },
    {
      "cell_type": "code",
      "metadata": {
        "id": "5612591a",
        "outputId": "b34e8c06-6777-4234-8939-2ba971a6154b"
      },
      "source": [
        "err(lr)"
      ],
      "id": "5612591a",
      "execution_count": null,
      "outputs": [
        {
          "data": {
            "text/plain": [
              "0.5804732329436164"
            ]
          },
          "execution_count": 38,
          "metadata": {},
          "output_type": "execute_result"
        }
      ]
    },
    {
      "cell_type": "markdown",
      "metadata": {
        "id": "77f7290a"
      },
      "source": [
        "***On visualise les résultats graphiquement:***"
      ],
      "id": "77f7290a"
    },
    {
      "cell_type": "code",
      "metadata": {
        "id": "c38b6c40",
        "outputId": "95b4fa58-fecf-4941-aa85-055a217e1fc5"
      },
      "source": [
        "y = Y_train[X0_train['pid']==0]\n",
        "x=X_untouched[X_untouched['pid']==0]['day']\n",
        "b = x[:544]\n",
        "c = x[544:]\n",
        "z = Y_pred_lr[X0_test['pid']==0]\n",
        "w = Y_test[X0_test['pid']==0]\n",
        "plt.plot(b,y, label = \"données d'entraînement\")\n",
        "plt.plot(c,z, label=\"prédictions\")\n",
        "plt.plot(c,w, alpha = 0.1, label=\"données de test\")\n",
        "plt.xlabel('Days')\n",
        "plt.title(label='Product ID0 auction volume evolution')\n",
        "plt.ylabel('Natural logarithm of auction volume')\n",
        "plt.legend(loc = \"best\")"
      ],
      "id": "c38b6c40",
      "execution_count": null,
      "outputs": [
        {
          "data": {
            "text/plain": [
              "<matplotlib.legend.Legend at 0x7fd7c32cedc0>"
            ]
          },
          "execution_count": 39,
          "metadata": {},
          "output_type": "execute_result"
        },
        {
          "data": {
            "image/png": "[encoded data removed]",
            "text/plain": [
              "<Figure size 432x288 with 1 Axes>"
            ]
          },
          "metadata": {
            "needs_background": "light"
          },
          "output_type": "display_data"
        }
      ]
    },
    {
      "cell_type": "markdown",
      "metadata": {
        "id": "3cf808a9"
      },
      "source": [
        "***Les prédictions suivent bien la tendance de l'échantillon test mais ne respectent pas parfaitement les fluctuations. On va donc essayer de prédire les résidus.***"
      ],
      "id": "3cf808a9"
    },
    {
      "cell_type": "markdown",
      "metadata": {
        "id": "7b40ad39"
      },
      "source": [
        "## <font color=blue>Régression linéaire suivie d'une prédiction de résidus</font> "
      ],
      "id": "7b40ad39"
    },
    {
      "cell_type": "markdown",
      "metadata": {
        "id": "11e42705"
      },
      "source": [
        "***L'erreur avec la régression simple toute seule reste assez grande. Les résidus de notre régression sont:***"
      ],
      "id": "11e42705"
    },
    {
      "cell_type": "code",
      "metadata": {
        "id": "19114d09"
      },
      "source": [
        "Z_train=np.subtract(Y_train, lr.predict(X_train))"
      ],
      "id": "19114d09",
      "execution_count": null,
      "outputs": []
    },
    {
      "cell_type": "code",
      "metadata": {
        "id": "d3253377",
        "outputId": "26f4f238-b421-4b7b-d465-defdabe66e72"
      },
      "source": [
        "print(Z_train)"
      ],
      "id": "d3253377",
      "execution_count": null,
      "outputs": [
        {
          "name": "stdout",
          "output_type": "stream",
          "text": [
            "           target\n",
            "ID               \n",
            "148     -1.051920\n",
            "149     -0.663647\n",
            "150     -0.276953\n",
            "151     -0.416400\n",
            "152     -0.435529\n",
            "...           ...\n",
            "1535728 -0.643293\n",
            "1535729 -1.011733\n",
            "1535730 -1.028715\n",
            "1535731 -0.449816\n",
            "1535732 -0.268960\n",
            "\n",
            "[465136 rows x 1 columns]\n"
          ]
        }
      ]
    },
    {
      "cell_type": "markdown",
      "metadata": {
        "id": "lblbDrV6e24g"
      },
      "source": [
        "***La prédiction de résidus se fera sur l'échantillon avec la colonne 'pid' comme dans le benchmark.***"
      ],
      "id": "lblbDrV6e24g"
    },
    {
      "cell_type": "markdown",
      "metadata": {
        "id": "037dbdbd"
      },
      "source": [
        "> **<font color=blue>Prédiction des résidus par gradient tree boosting (module XGBoost)</font>** "
      ],
      "id": "037dbdbd"
    },
    {
      "cell_type": "code",
      "metadata": {
        "id": "8c9115f7"
      },
      "source": [
        "xgbr = xgb.XGBRegressor(n_estimators=100, eta=0.1)"
      ],
      "id": "8c9115f7",
      "execution_count": null,
      "outputs": []
    },
    {
      "cell_type": "code",
      "metadata": {
        "id": "e26baf2b",
        "outputId": "f10811c6-1b25-43b0-f058-f447dc0b1bf8"
      },
      "source": [
        "start_time = time.time()\n",
        "xgbr.fit(X0_train, Z_train)\n",
        "print(\"--- %s seconds ---\" % (time.time() - start_time))"
      ],
      "id": "e26baf2b",
      "execution_count": null,
      "outputs": [
        {
          "name": "stdout",
          "output_type": "stream",
          "text": [
            "--- 172.30013704299927 seconds ---\n"
          ]
        }
      ]
    },
    {
      "cell_type": "code",
      "metadata": {
        "id": "3238c3fb"
      },
      "source": [
        "res = xgbr.predict(X0_test)"
      ],
      "id": "3238c3fb",
      "execution_count": null,
      "outputs": []
    },
    {
      "cell_type": "code",
      "metadata": {
        "id": "8aefec56",
        "outputId": "c19a35ab-162e-4a15-f418-c89f4e6c343b"
      },
      "source": [
        "res"
      ],
      "id": "8aefec56",
      "execution_count": null,
      "outputs": [
        {
          "data": {
            "text/plain": [
              "array([0.04494978, 0.13071905, 0.14675649, ..., 0.142329  , 0.19582929,\n",
              "       0.15319863], dtype=float32)"
            ]
          },
          "execution_count": 45,
          "metadata": {},
          "output_type": "execute_result"
        }
      ]
    },
    {
      "cell_type": "code",
      "metadata": {
        "id": "df67e7fa"
      },
      "source": [
        "Y_pred_r = np.array(lr.predict(X_test)).ravel() + res"
      ],
      "id": "df67e7fa",
      "execution_count": null,
      "outputs": []
    },
    {
      "cell_type": "code",
      "metadata": {
        "id": "3cdff3cd",
        "outputId": "b84e30d9-9d6b-42a4-9c7d-882c5713de34"
      },
      "source": [
        "print(mean_squared_error(Y_test, Y_pred_r))"
      ],
      "id": "3cdff3cd",
      "execution_count": null,
      "outputs": [
        {
          "name": "stdout",
          "output_type": "stream",
          "text": [
            "0.5144628797814893\n"
          ]
        }
      ]
    },
    {
      "cell_type": "markdown",
      "metadata": {
        "id": "af6890d0"
      },
      "source": [
        "> **<font color=blue>Prédiction des résidus par gradient tree boosting (module LightGBM)</font>** "
      ],
      "id": "af6890d0"
    },
    {
      "cell_type": "code",
      "metadata": {
        "id": "9dc91807"
      },
      "source": [
        "lgbr=lgb.LGBMRegressor()"
      ],
      "id": "9dc91807",
      "execution_count": null,
      "outputs": []
    },
    {
      "cell_type": "code",
      "metadata": {
        "id": "7ddc4c40",
        "outputId": "84671334-44be-4b7b-c1c5-d993a22925c2"
      },
      "source": [
        "start_time = time.time()\n",
        "lgbr.fit(X0_train, Z_train)\n",
        "print(\"--- %s seconds ---\" % (time.time() - start_time))"
      ],
      "id": "7ddc4c40",
      "execution_count": null,
      "outputs": [
        {
          "name": "stdout",
          "output_type": "stream",
          "text": [
            "--- 7.777751922607422 seconds ---\n"
          ]
        }
      ]
    },
    {
      "cell_type": "code",
      "metadata": {
        "id": "a5779f03"
      },
      "source": [
        "res = lgbr.predict(X0_test)"
      ],
      "id": "a5779f03",
      "execution_count": null,
      "outputs": []
    },
    {
      "cell_type": "code",
      "metadata": {
        "id": "fa793783"
      },
      "source": [
        "Y_pred_r = np.array(lr.predict(X_test)).ravel() + res"
      ],
      "id": "fa793783",
      "execution_count": null,
      "outputs": []
    },
    {
      "cell_type": "code",
      "metadata": {
        "id": "25922905",
        "outputId": "2f5fd8cb-c722-4cf6-be89-222ac8aaece6"
      },
      "source": [
        "print(mean_squared_error(Y_test,Y_pred_r))"
      ],
      "id": "25922905",
      "execution_count": null,
      "outputs": [
        {
          "name": "stdout",
          "output_type": "stream",
          "text": [
            "0.5041948442171924\n"
          ]
        }
      ]
    },
    {
      "cell_type": "markdown",
      "metadata": {
        "id": "bff253bc"
      },
      "source": [
        "***Avec la prédiction de résidus, on obtient une erreur plus faible que celle de la régression linéaire toute seule. En plus, on remarque que même sans ajuster les paramètres du régresseur LightGBM, on obtient presque la même erreur que XGBoost mais l'exécution est beaucoup plus rapide, donc on va continue avec LGBMRegressor.***"
      ],
      "id": "bff253bc"
    },
    {
      "cell_type": "markdown",
      "metadata": {
        "id": "5a6887f6"
      },
      "source": [
        "> **<font color=blue>Ajustement des paramètres du LightGBMRegressor</font>** "
      ],
      "id": "5a6887f6"
    },
    {
      "cell_type": "markdown",
      "metadata": {
        "id": "d35aacd5"
      },
      "source": [
        "***Pour avoir une meilleure précision avec cette méthode, il faut ajuster le paramètres 'n_estimators' qui doit être élevé mais pas tant que ça pour éviter l'overfitting. Comme on travaille avec un très grand dataset, la méthode GridSearchCV prend beaucoup de temps sans donner de bons résultats. On va donc se contenter d'essayer à chaque fois des paramètres aléatoires jusqu'à optimiser la MSE:***"
      ],
      "id": "d35aacd5"
    },
    {
      "cell_type": "code",
      "metadata": {
        "id": "4e77f628"
      },
      "source": [
        "trees = list(range(1850,1860))\n",
        "\n",
        "erreur3 = []\n",
        "for elt in trees:\n",
        "    lgbr = lgb.LGBMRegressor(n_estimators = elt)\n",
        "    lgbr.fit(X0_train, Z_train)\n",
        "    y = np.array(lr.predict(X_test)).ravel() + lgbr.predict(X0_test)\n",
        "    erreur3.append(mean_squared_error(Y_test,y))"
      ],
      "id": "4e77f628",
      "execution_count": null,
      "outputs": []
    },
    {
      "cell_type": "code",
      "metadata": {
        "id": "b9c80b95"
      },
      "source": [
        "best = trees[np.argmin(erreur3)]"
      ],
      "id": "b9c80b95",
      "execution_count": null,
      "outputs": []
    },
    {
      "cell_type": "code",
      "metadata": {
        "id": "71818eb6",
        "outputId": "25dd3de4-87e2-47ee-dd40-bbdc1a9d3202"
      },
      "source": [
        "erreur3[np.argmin(erreur3)]"
      ],
      "id": "71818eb6",
      "execution_count": null,
      "outputs": [
        {
          "data": {
            "text/plain": [
              "0.4721127193494016"
            ]
          },
          "execution_count": 193,
          "metadata": {},
          "output_type": "execute_result"
        }
      ]
    },
    {
      "cell_type": "code",
      "metadata": {
        "id": "a5225538",
        "outputId": "476ab6f8-3f7f-403c-88ab-2414efaca160"
      },
      "source": [
        "best"
      ],
      "id": "a5225538",
      "execution_count": null,
      "outputs": [
        {
          "data": {
            "text/plain": [
              "1855"
            ]
          },
          "execution_count": 194,
          "metadata": {},
          "output_type": "execute_result"
        }
      ]
    },
    {
      "cell_type": "code",
      "metadata": {
        "id": "ddaec48d",
        "outputId": "4acff886-fcb3-4afb-e643-c46a9cf6881e"
      },
      "source": [
        "print(\"Le meilleur paramètre est : 'n_estimators' = \" + str(best))"
      ],
      "id": "ddaec48d",
      "execution_count": null,
      "outputs": [
        {
          "name": "stdout",
          "output_type": "stream",
          "text": [
            "Les meilleurs paramètres sont : 'n_estimators' = 1855\n"
          ]
        }
      ]
    },
    {
      "cell_type": "code",
      "metadata": {
        "id": "1ee2051d",
        "outputId": "cc1c15bc-e7ee-4b95-e3ea-a6662004ab2b"
      },
      "source": [
        "print(\"On a pu diminuer l'erreur de \" + str(err(lr)) + \" à \" + str(erreur3[np.argmin(erreur3)]))"
      ],
      "id": "1ee2051d",
      "execution_count": null,
      "outputs": [
        {
          "name": "stdout",
          "output_type": "stream",
          "text": [
            "On a pu diminuer l'erreur de 0.5804732329436164 à 0.4721127193494016\n"
          ]
        }
      ]
    },
    {
      "cell_type": "markdown",
      "metadata": {
        "id": "8549d637"
      },
      "source": [
        "***On visualise les résultats graphiquement:***"
      ],
      "id": "8549d637"
    },
    {
      "cell_type": "code",
      "metadata": {
        "id": "a368fa1d"
      },
      "source": [
        "lgbr1 = lgb.LGBMRegressor(n_estimators = 1855)\n",
        "lgbr1.fit(X0_train, Z_train)\n",
        "Y_pred_lgbr1 = np.array(lr.predict(X_test)).ravel() + lgbr1.predict(X0_test)"
      ],
      "id": "a368fa1d",
      "execution_count": null,
      "outputs": []
    },
    {
      "cell_type": "code",
      "metadata": {
        "id": "f2808597",
        "outputId": "33d01524-4b4c-4af3-f638-bb1e2e4f2cd3"
      },
      "source": [
        "y = Y_train[X0_train['pid']==0]\n",
        "x=X_untouched[X_untouched['pid']==0]['day']\n",
        "b = x[:544]\n",
        "c = x[544:]\n",
        "z = Y_pred_lgbr1[X0_test['pid']==0]\n",
        "w = Y_test[X0_test['pid']==0]\n",
        "plt.plot(b,y, label = \"données d'entraînement\")\n",
        "plt.plot(c,z, label=\"prédictions\")\n",
        "plt.plot(c,w, alpha = 0.1, label=\"données de test\")\n",
        "plt.xlabel('Days')\n",
        "plt.title(label='Product ID0 auction volume evolution (avec prédiction de résidus)')\n",
        "plt.ylabel('Natural logarithm of auction volume')\n",
        "plt.legend(loc = \"best\")"
      ],
      "id": "f2808597",
      "execution_count": null,
      "outputs": [
        {
          "data": {
            "text/plain": [
              "<matplotlib.legend.Legend at 0x7f8b00092f40>"
            ]
          },
          "execution_count": 58,
          "metadata": {},
          "output_type": "execute_result"
        },
        {
          "data": {
            "image/png": "[encoded data removed]",
            "text/plain": [
              "<Figure size 432x288 with 1 Axes>"
            ]
          },
          "metadata": {
            "needs_background": "light"
          },
          "output_type": "display_data"
        }
      ]
    },
    {
      "cell_type": "markdown",
      "metadata": {
        "id": "Q0SLnSu_-lCa"
      },
      "source": [
        "***En essayant d'appliquer cette méthode avec 1855 estimateurs aux données de test du data challenge, l'erreur augmente beaucoup (overfitting) donc on va plutôt agir sur les paramètres 'max_bin' et 'num_leaves'.***"
      ],
      "id": "Q0SLnSu_-lCa"
    },
    {
      "cell_type": "code",
      "metadata": {
        "id": "89155e7d"
      },
      "source": [
        "leaves = [45, 65, 90]\n",
        "bins= [45, 50, 55, 60]\n",
        "\n",
        "erreur1 = []\n",
        "params = []\n",
        "for elt in itertools.product(leaves, bins):\n",
        "    params.append(elt)\n",
        "    lgbr = lgb.LGBMRegressor(num_leaves = elt[0], max_bin = elt[1])\n",
        "    lgbr.fit(X0_train, Z_train)\n",
        "    y = np.array(lr.predict(X_test)).ravel() + lgbr.predict(X0_test)\n",
        "    erreur1.append(mean_squared_error(Y_test,y))"
      ],
      "id": "89155e7d",
      "execution_count": null,
      "outputs": []
    },
    {
      "cell_type": "code",
      "metadata": {
        "id": "d5ca14e0"
      },
      "source": [
        "best_params = params[np.argmin(erreur1)]"
      ],
      "id": "d5ca14e0",
      "execution_count": null,
      "outputs": []
    },
    {
      "cell_type": "code",
      "metadata": {
        "id": "84d391de",
        "outputId": "fb8b2044-8f7a-4112-9464-dc9e1b222fae"
      },
      "source": [
        "erreur1[np.argmin(erreur1)]"
      ],
      "id": "84d391de",
      "execution_count": null,
      "outputs": [
        {
          "data": {
            "text/plain": [
              "0.4972550291623862"
            ]
          },
          "execution_count": 340,
          "metadata": {},
          "output_type": "execute_result"
        }
      ]
    },
    {
      "cell_type": "code",
      "metadata": {
        "id": "ced21095",
        "outputId": "3e08e55b-6b15-41ed-e045-19b90a73a745"
      },
      "source": [
        "best_params"
      ],
      "id": "ced21095",
      "execution_count": null,
      "outputs": [
        {
          "data": {
            "text/plain": [
              "(90, 55)"
            ]
          },
          "execution_count": 341,
          "metadata": {},
          "output_type": "execute_result"
        }
      ]
    },
    {
      "cell_type": "markdown",
      "metadata": {
        "id": "91ct2Hra-0zI"
      },
      "source": [
        "***Clairement, l'erreur est légèrement supérieure à celle qu'on a obtenue avant, mais elle conduit à un meilleur résultat sur les données de test du data challenge.***"
      ],
      "id": "91ct2Hra-0zI"
    },
    {
      "cell_type": "markdown",
      "metadata": {
        "id": "2635ce9a"
      },
      "source": [
        "## <font color=blue>Feed Forward Networks: réseaux de neurones à propagation avant</font> "
      ],
      "id": "2635ce9a"
    },
    {
      "cell_type": "markdown",
      "metadata": {
        "id": "b7de848e"
      },
      "source": [
        "***Pour utiliser les réseaux de neurones, on va centrer et réduire nos données. C'est l'instruction commentée dans la partie \"Prétraîtement des données d'entraînement\".***"
      ],
      "id": "b7de848e"
    },
    {
      "cell_type": "markdown",
      "metadata": {
        "id": "06380340"
      },
      "source": [
        "***On va entraîner dans un premier temps un réseau à deux couches cachées avec des paramètres 'hidden_size=32', 'batch_size=32' et 'epochs=10' avant d'optimiser ces paramètres avec une recherche gridsearch.***"
      ],
      "id": "06380340"
    },
    {
      "cell_type": "code",
      "metadata": {
        "id": "2cebbce8"
      },
      "source": [
        "input_shape=X.shape[1]"
      ],
      "id": "2cebbce8",
      "execution_count": 22,
      "outputs": []
    },
    {
      "cell_type": "code",
      "metadata": {
        "id": "f72d4922"
      },
      "source": [
        "model=Sequential()\n",
        "model.add(Dense(64,input_dim=input_shape))\n",
        "model.add(Activation(\"relu\"))\n",
        "model.add(Dense(64))\n",
        "model.add(Activation(\"relu\"))\n",
        "model.add(Dense(1))"
      ],
      "id": "f72d4922",
      "execution_count": null,
      "outputs": []
    },
    {
      "cell_type": "code",
      "metadata": {
        "id": "ab7e86be"
      },
      "source": [
        "model.compile(optimizer=\"adam\",loss='MeanSquaredError')"
      ],
      "id": "ab7e86be",
      "execution_count": null,
      "outputs": []
    },
    {
      "cell_type": "code",
      "metadata": {
        "colab": {
          "base_uri": "https://localhost:8080/",
          "height": 644
        },
        "id": "9qKKCeNEvopK",
        "outputId": "9d944f85-600a-41cc-e36b-2b6acb24afd9"
      },
      "source": [
        "ks.utils.plot_model(model,show_shapes=True)"
      ],
      "id": "9qKKCeNEvopK",
      "execution_count": null,
      "outputs": [
        {
          "output_type": "execute_result",
          "data": {
            "image/png": "[encoded data removed]",
            "text/plain": [
              "<IPython.core.display.Image object>"
            ]
          },
          "metadata": {},
          "execution_count": 34
        }
      ]
    },
    {
      "cell_type": "code",
      "metadata": {
        "colab": {
          "base_uri": "https://localhost:8080/"
        },
        "id": "9c48aefa",
        "outputId": "bf2e9c49-5393-4c01-f321-569aafae05b6"
      },
      "source": [
        "History=model.fit(X_train, Y_train, epochs=10, batch_size=32)"
      ],
      "id": "9c48aefa",
      "execution_count": null,
      "outputs": [
        {
          "output_type": "stream",
          "name": "stdout",
          "text": [
            "Epoch 1/10\n",
            "14536/14536 [==============================] - 25s 2ms/step - loss: 0.6418\n",
            "Epoch 2/10\n",
            "14536/14536 [==============================] - 24s 2ms/step - loss: 0.5922\n",
            "Epoch 3/10\n",
            "14536/14536 [==============================] - 24s 2ms/step - loss: 0.5825\n",
            "Epoch 4/10\n",
            "14536/14536 [==============================] - 24s 2ms/step - loss: 0.5765\n",
            "Epoch 5/10\n",
            "14536/14536 [==============================] - 24s 2ms/step - loss: 0.5718\n",
            "Epoch 6/10\n",
            "14536/14536 [==============================] - 24s 2ms/step - loss: 0.5687\n",
            "Epoch 7/10\n",
            "14536/14536 [==============================] - 24s 2ms/step - loss: 0.5661\n",
            "Epoch 8/10\n",
            "14536/14536 [==============================] - 24s 2ms/step - loss: 0.5639\n",
            "Epoch 9/10\n",
            "14536/14536 [==============================] - 24s 2ms/step - loss: 0.5619\n",
            "Epoch 10/10\n",
            "14536/14536 [==============================] - 24s 2ms/step - loss: 0.5607\n"
          ]
        }
      ]
    },
    {
      "cell_type": "code",
      "metadata": {
        "colab": {
          "base_uri": "https://localhost:8080/",
          "height": 295
        },
        "id": "16c39c85",
        "scrolled": true,
        "outputId": "1ab7d947-ebaf-486f-f193-cdf5e6d33385"
      },
      "source": [
        "loss=History.history['loss']\n",
        "x=np.arange(1,11)\n",
        "plt.plot(x,loss)\n",
        "plt.xlabel(\"epochs\")\n",
        "plt.ylabel(\"Mean squared error\")\n",
        "plt.title(\"Evolution de l'erreur quadratique moyenne\");"
      ],
      "id": "16c39c85",
      "execution_count": null,
      "outputs": [
        {
          "output_type": "display_data",
          "data": {
            "image/png": "[encoded data removed]",
            "text/plain": [
              "<Figure size 432x288 with 1 Axes>"
            ]
          },
          "metadata": {
            "needs_background": "light"
          }
        }
      ]
    },
    {
      "cell_type": "code",
      "metadata": {
        "colab": {
          "base_uri": "https://localhost:8080/"
        },
        "id": "799cce87",
        "scrolled": true,
        "outputId": "c05b36bb-ab79-470b-9841-bb2da098fc2d"
      },
      "source": [
        "print(model.evaluate(X_test,Y_test))"
      ],
      "id": "799cce87",
      "execution_count": null,
      "outputs": [
        {
          "output_type": "stream",
          "name": "stdout",
          "text": [
            "6855/6855 [==============================] - 9s 1ms/step - loss: 0.5535\n",
            "0.5534958243370056\n"
          ]
        }
      ]
    },
    {
      "cell_type": "markdown",
      "metadata": {
        "id": "7784a24a"
      },
      "source": [
        "> **<font color=blue>Choix des paramètres</font>** "
      ],
      "id": "7784a24a"
    },
    {
      "cell_type": "code",
      "metadata": {
        "colab": {
          "base_uri": "https://localhost:8080/"
        },
        "id": "5c49bc0c",
        "outputId": "ceb4baed-5ef6-4de7-8a04-d0758ce51b8f"
      },
      "source": [
        "from keras.wrappers.scikit_learn import KerasRegressor\n",
        "from sklearn.model_selection import GridSearchCV\n",
        "from sklearn.model_selection import TimeSeriesSplit\n",
        "from keras import backend as K\n",
        "\n",
        "def create_model(hidden_size):\n",
        "    K.clear_session() #pour vider la mémoire\n",
        "    model=Sequential()\n",
        "    model.add(Dense(hidden_size,input_dim=input_shape))\n",
        "    model.add(Activation(\"relu\"))\n",
        "    model.add(Dense(hidden_size))\n",
        "    model.add(Activation(\"relu\"))\n",
        "    model.add(Dense(1))\n",
        "    model.compile(optimizer=\"adam\",loss='MeanSquaredError')\n",
        "    return model\n",
        "\n",
        "FFN = KerasRegressor(build_fn=create_model)\n",
        "\n",
        "epochs = [10,20,50]\n",
        "hidden_size= [32,64,100]\n",
        "batch_size=[32,64,128]\n",
        "param_grid = dict(epochs=epochs, hidden_size=hidden_size,batch_size=batch_size )\n",
        "\n",
        "myfold=TimeSeriesSplit(3)\n",
        "grid = GridSearchCV(estimator=FFN, param_grid=param_grid,cv=myfold)"
      ],
      "id": "5c49bc0c",
      "execution_count": null,
      "outputs": [
        {
          "name": "stderr",
          "output_type": "stream",
          "text": [
            "<ipython-input-11-320d7460c49d>:17: DeprecationWarning: KerasRegressor is deprecated, use Sci-Keras (https://github.com/adriangb/scikeras) instead.\n",
            "  FFN = KerasRegressor(build_fn=create_model)\n"
          ]
        }
      ]
    },
    {
      "cell_type": "code",
      "metadata": {
        "colab": {
          "base_uri": "https://localhost:8080/",
          "height": 1000
        },
        "id": "56ac3f2a",
        "scrolled": true,
        "outputId": "e294398a-a8cb-41d0-9cea-f7c0aca6501c"
      },
      "source": [
        "result=grid.fit(X,Y,verbose=0)"
      ],
      "id": "56ac3f2a",
      "execution_count": null,
      "outputs": [
        {
          "name": "stdout",
          "output_type": "stream",
          "text": [
            "5348/5348 [==============================] - 4s 753us/step - loss: 0.6759\n",
            "5348/5348 [==============================] - 4s 717us/step - loss: 0.5959\n",
            "5348/5348 [==============================] - 4s 718us/step - loss: 0.5217\n",
            "5348/5348 [==============================] - 4s 736us/step - loss: 0.6607\n",
            "5348/5348 [==============================] - 4s 745us/step - loss: 0.6104\n",
            "5348/5348 [==============================] - 4s 717us/step - loss: 0.5299\n",
            "5348/5348 [==============================] - 4s 757us/step - loss: 0.6899\n",
            "5348/5348 [==============================] - 4s 771us/step - loss: 0.6074\n",
            "5348/5348 [==============================] - 4s 764us/step - loss: 0.5144\n",
            "5348/5348 [==============================] - 4s 748us/step - loss: 0.6676\n",
            "5348/5348 [==============================] - 4s 730us/step - loss: 0.6058\n",
            "5348/5348 [==============================] - 4s 676us/step - loss: 0.5158\n",
            "5348/5348 [==============================] - 4s 730us/step - loss: 0.6896\n",
            "5348/5348 [==============================] - 4s 738us/step - loss: 0.6284 0s - \n",
            "5348/5348 [==============================] - 4s 730us/step - loss: 0.5294\n",
            "5348/5348 [==============================] - 4s 767us/step - loss: 0.7231\n",
            "5348/5348 [==============================] - 4s 767us/step - loss: 0.6103\n",
            "5348/5348 [==============================] - 4s 744us/step - loss: 0.5450\n",
            "5348/5348 [==============================] - 4s 734us/step - loss: 0.6774\n",
            "5348/5348 [==============================] - 4s 722us/step - loss: 0.5999\n",
            "5348/5348 [==============================] - 4s 777us/step - loss: 0.5210\n",
            "5348/5348 [==============================] - 4s 726us/step - loss: 0.7517\n",
            "5348/5348 [==============================] - 4s 746us/step - loss: 0.6313\n",
            "5348/5348 [==============================] - 4s 734us/step - loss: 0.5490\n",
            "5348/5348 [==============================] - 4s 768us/step - loss: 0.8227\n",
            "5348/5348 [==============================] - 4s 699us/step - loss: 0.6695\n",
            "5348/5348 [==============================] - 4s 783us/step - loss: 0.6483\n",
            "2674/2674 [==============================] - 2s 755us/step - loss: 0.7154\n",
            "2674/2674 [==============================] - 2s 739us/step - loss: 0.6044\n",
            "2674/2674 [==============================] - 2s 772us/step - loss: 0.5193\n",
            "2674/2674 [==============================] - 2s 768us/step - loss: 0.7114\n",
            "2674/2674 [==============================] - 2s 821us/step - loss: 0.5882\n",
            "2674/2674 [==============================] - 2s 767us/step - loss: 0.5169\n",
            "2674/2674 [==============================] - 2s 785us/step - loss: 0.7039\n",
            "2674/2674 [==============================] - 2s 776us/step - loss: 0.6074\n",
            "2674/2674 [==============================] - 2s 858us/step - loss: 0.5229\n",
            "2674/2674 [==============================] - 2s 746us/step - loss: 0.6816\n",
            "2674/2674 [==============================] - 2s 758us/step - loss: 0.6074\n",
            "2674/2674 [==============================] - 2s 739us/step - loss: 0.5193\n",
            "2674/2674 [==============================] - 2s 727us/step - loss: 0.6860\n",
            "2674/2674 [==============================] - 2s 810us/step - loss: 0.6165\n",
            "2674/2674 [==============================] - 2s 799us/step - loss: 0.5284\n",
            "2674/2674 [==============================] - 2s 852us/step - loss: 0.7652\n",
            "2674/2674 [==============================] - 2s 854us/step - loss: 0.6446\n",
            "2674/2674 [==============================] - 2s 854us/step - loss: 0.5383\n",
            "2674/2674 [==============================] - 2s 779us/step - loss: 0.7011\n",
            "2674/2674 [==============================] - 2s 760us/step - loss: 0.6156\n",
            "2674/2674 [==============================] - 2s 689us/step - loss: 0.5175\n",
            "2674/2674 [==============================] - 2s 794us/step - loss: 0.7154\n",
            "2674/2674 [==============================] - 2s 754us/step - loss: 0.6271\n",
            "2674/2674 [==============================] - 2s 699us/step - loss: 0.5490\n",
            "2674/2674 [==============================] - 2s 695us/step - loss: 0.8438 \n",
            "2674/2674 [==============================] - 3s 737us/step - loss: 0.6612\n",
            "2674/2674 [==============================] - 2s 845us/step - loss: 0.5519\n",
            "1337/1337 [==============================] - 1s 760us/step - loss: 0.7071\n",
            "1337/1337 [==============================] - 1s 747us/step - loss: 0.5839\n",
            "1337/1337 [==============================] - 1s 760us/step - loss: 0.5173\n",
            "1337/1337 [==============================] - 1s 763us/step - loss: 0.7083\n",
            "1337/1337 [==============================] - 1s 788us/step - loss: 0.5969\n",
            "1337/1337 [==============================] - 1s 781us/step - loss: 0.5319\n",
            "1337/1337 [==============================] - ETA: 0s - loss: 0.6991- ETA: 0s - los - 1s 825us/step - loss: 0.6914\n",
            "1337/1337 [==============================] - 1s 819us/step - loss: 0.6011\n",
            "1337/1337 [==============================] - 1s 830us/step - loss: 0.5351\n",
            "1337/1337 [==============================] - 1s 741us/step - loss: 0.6829\n",
            "1337/1337 [==============================] - 1s 746us/step - loss: 0.6417\n",
            "1337/1337 [==============================] - 1s 760us/step - loss: 0.5174\n",
            "1337/1337 [==============================] - 1s 770us/step - loss: 0.6860\n",
            "1337/1337 [==============================] - 1s 814us/step - loss: 0.6281\n",
            "1337/1337 [==============================] - 1s 779us/step - loss: 0.5181\n",
            "1337/1337 [==============================] - 1s 859us/step - loss: 0.7556\n",
            "1337/1337 [==============================] - 1s 826us/step - loss: 0.6155\n",
            "1337/1337 [==============================] - 1s 814us/step - loss: 0.5374\n",
            "1337/1337 [==============================] - 1s 724us/step - loss: 0.6971\n",
            "1337/1337 [==============================] - 1s 814us/step - loss: 0.6138\n",
            "1337/1337 [==============================] - 1s 720us/step - loss: 0.5129\n",
            "1337/1337 [==============================] - 1s 742us/step - loss: 0.7326\n",
            "1337/1337 [==============================] - 1s 785us/step - loss: 0.6216\n",
            "1337/1337 [==============================] - 1s 772us/step - loss: 0.5482\n",
            "1337/1337 [==============================] - 1s 798us/step - loss: 0.8127 0s - loss: 0.813\n",
            "1337/1337 [==============================] - 1s 842us/step - loss: 0.6593\n",
            "1337/1337 [==============================] - 1s 801us/step - loss: 0.5690\n"
          ]
        }
      ]
    },
    {
      "cell_type": "code",
      "metadata": {
        "id": "beb37cf4",
        "outputId": "93b71b6c-6d60-4fbf-c436-40b5310e732d"
      },
      "source": [
        "print(result.best_params_)"
      ],
      "id": "beb37cf4",
      "execution_count": null,
      "outputs": [
        {
          "name": "stdout",
          "output_type": "stream",
          "text": [
            "{'batch_size': 32, 'epochs': 20, 'hidden_size': 32}\n"
          ]
        }
      ]
    },
    {
      "cell_type": "markdown",
      "metadata": {
        "id": "L7i9aFhI7DxB"
      },
      "source": [
        "> **<font color=blue>Application</font>** "
      ],
      "id": "L7i9aFhI7DxB"
    },
    {
      "cell_type": "code",
      "metadata": {
        "id": "LJ-ZDNOe5zbJ"
      },
      "source": [
        "model=Sequential()\n",
        "model.add(Dense(32,input_dim=input_shape))\n",
        "model.add(Activation(\"relu\"))\n",
        "model.add(Dense(32))\n",
        "model.add(Activation(\"relu\"))\n",
        "model.add(Dense(1))"
      ],
      "id": "LJ-ZDNOe5zbJ",
      "execution_count": 23,
      "outputs": []
    },
    {
      "cell_type": "code",
      "metadata": {
        "id": "ZnTfry1t51k9"
      },
      "source": [
        "model.compile(optimizer=\"adam\",loss='MeanSquaredError')"
      ],
      "id": "ZnTfry1t51k9",
      "execution_count": 24,
      "outputs": []
    },
    {
      "cell_type": "code",
      "metadata": {
        "colab": {
          "base_uri": "https://localhost:8080/"
        },
        "id": "ngMRWX1255Ig",
        "outputId": "dc4131d2-e6c5-41c8-c0b9-3171fea3c961"
      },
      "source": [
        "History=model.fit(X_train, Y_train, epochs=20, batch_size=32)"
      ],
      "id": "ngMRWX1255Ig",
      "execution_count": 25,
      "outputs": [
        {
          "output_type": "stream",
          "name": "stdout",
          "text": [
            "Epoch 1/20\n",
            "14536/14536 [==============================] - 25s 2ms/step - loss: 0.6507\n",
            "Epoch 2/20\n",
            "14536/14536 [==============================] - 25s 2ms/step - loss: 0.6005\n",
            "Epoch 3/20\n",
            "14536/14536 [==============================] - 25s 2ms/step - loss: 0.5915\n",
            "Epoch 4/20\n",
            "14536/14536 [==============================] - 25s 2ms/step - loss: 0.5860\n",
            "Epoch 5/20\n",
            "14536/14536 [==============================] - 24s 2ms/step - loss: 0.5827\n",
            "Epoch 6/20\n",
            "14536/14536 [==============================] - 24s 2ms/step - loss: 0.5804\n",
            "Epoch 7/20\n",
            "14536/14536 [==============================] - 24s 2ms/step - loss: 0.5785\n",
            "Epoch 8/20\n",
            "14536/14536 [==============================] - 25s 2ms/step - loss: 0.5768\n",
            "Epoch 9/20\n",
            "14536/14536 [==============================] - 24s 2ms/step - loss: 0.5753\n",
            "Epoch 10/20\n",
            "14536/14536 [==============================] - 24s 2ms/step - loss: 0.5738\n",
            "Epoch 11/20\n",
            "14536/14536 [==============================] - 25s 2ms/step - loss: 0.5732\n",
            "Epoch 12/20\n",
            "14536/14536 [==============================] - 24s 2ms/step - loss: 0.5723\n",
            "Epoch 13/20\n",
            "14536/14536 [==============================] - 24s 2ms/step - loss: 0.5712\n",
            "Epoch 14/20\n",
            "14536/14536 [==============================] - 24s 2ms/step - loss: 0.5708\n",
            "Epoch 15/20\n",
            "14536/14536 [==============================] - 24s 2ms/step - loss: 0.5699\n",
            "Epoch 16/20\n",
            "14536/14536 [==============================] - 24s 2ms/step - loss: 0.5691\n",
            "Epoch 17/20\n",
            "14536/14536 [==============================] - 24s 2ms/step - loss: 0.5688\n",
            "Epoch 18/20\n",
            "14536/14536 [==============================] - 24s 2ms/step - loss: 0.5683\n",
            "Epoch 19/20\n",
            "14536/14536 [==============================] - 25s 2ms/step - loss: 0.5680\n",
            "Epoch 20/20\n",
            "14536/14536 [==============================] - 24s 2ms/step - loss: 0.5674\n"
          ]
        }
      ]
    },
    {
      "cell_type": "code",
      "metadata": {
        "colab": {
          "base_uri": "https://localhost:8080/"
        },
        "id": "X1MqfX1o6U7S",
        "outputId": "9b8a6510-db7e-4dc0-c7ae-08f4715c4408"
      },
      "source": [
        "print(model.evaluate(X_test,Y_test))"
      ],
      "id": "X1MqfX1o6U7S",
      "execution_count": 26,
      "outputs": [
        {
          "output_type": "stream",
          "name": "stdout",
          "text": [
            "6855/6855 [==============================] - 9s 1ms/step - loss: 0.5693\n",
            "0.5693082809448242\n"
          ]
        }
      ]
    },
    {
      "cell_type": "markdown",
      "metadata": {
        "id": "Zj8SF_WZDJ2h"
      },
      "source": [
        "***On obtient une erreur plus élevée que notre modèle initial.***"
      ],
      "id": "Zj8SF_WZDJ2h"
    },
    {
      "cell_type": "markdown",
      "metadata": {
        "id": "8fae4ff4"
      },
      "source": [
        "> **<font color=blue>Effet de la réduction de dimension</font>** "
      ],
      "id": "8fae4ff4"
    },
    {
      "cell_type": "markdown",
      "metadata": {
        "id": "4da329ae"
      },
      "source": [
        "***On essaie ici d'appliquer une analyse en composantes principales aux données d'entrée pour essayer d'améliorer les performances du réseau.***"
      ],
      "id": "4da329ae"
    },
    {
      "cell_type": "code",
      "metadata": {
        "id": "qW0390fBeijt"
      },
      "source": [
        "from sklearn.decomposition import PCA\n",
        "pca=PCA(n_components=64)\n",
        "X_train_new=pca.fit_transform(X_train)\n",
        "X_test_new=pca.transform(X_test)"
      ],
      "id": "qW0390fBeijt",
      "execution_count": 27,
      "outputs": []
    },
    {
      "cell_type": "code",
      "metadata": {
        "colab": {
          "base_uri": "https://localhost:8080/"
        },
        "id": "ef7e95f6",
        "outputId": "ccf294ed-1247-418b-9a31-a3b2adb9432a"
      },
      "source": [
        "X_train_new.shape"
      ],
      "id": "ef7e95f6",
      "execution_count": 28,
      "outputs": [
        {
          "output_type": "execute_result",
          "data": {
            "text/plain": [
              "(465136, 64)"
            ]
          },
          "metadata": {},
          "execution_count": 28
        }
      ]
    },
    {
      "cell_type": "code",
      "metadata": {
        "id": "2c05bc0e"
      },
      "source": [
        "model_acp=Sequential()\n",
        "model_acp.add(Dense(64,input_dim=64))\n",
        "model_acp.add(Activation(\"relu\"))\n",
        "model_acp.add(Dense(64))\n",
        "model_acp.add(Activation(\"relu\"))\n",
        "model_acp.add(Dense(1))"
      ],
      "id": "2c05bc0e",
      "execution_count": 29,
      "outputs": []
    },
    {
      "cell_type": "code",
      "metadata": {
        "id": "93b6eb18"
      },
      "source": [
        "model_acp.compile(optimizer=\"adam\",loss='MeanSquaredError')"
      ],
      "id": "93b6eb18",
      "execution_count": 30,
      "outputs": []
    },
    {
      "cell_type": "code",
      "metadata": {
        "colab": {
          "base_uri": "https://localhost:8080/"
        },
        "id": "d439b448",
        "outputId": "09ece818-b845-4a6f-faf6-815ab21af97c"
      },
      "source": [
        "History_acp=model_acp.fit(X_train_new,Y_train,epochs=10,batch_size=32)"
      ],
      "id": "d439b448",
      "execution_count": 31,
      "outputs": [
        {
          "output_type": "stream",
          "name": "stdout",
          "text": [
            "Epoch 1/10\n",
            "14536/14536 [==============================] - 25s 2ms/step - loss: 0.6811\n",
            "Epoch 2/10\n",
            "14536/14536 [==============================] - 25s 2ms/step - loss: 0.6457\n",
            "Epoch 3/10\n",
            "14536/14536 [==============================] - 25s 2ms/step - loss: 0.6394\n",
            "Epoch 4/10\n",
            "14536/14536 [==============================] - 25s 2ms/step - loss: 0.6348\n",
            "Epoch 5/10\n",
            "14536/14536 [==============================] - 25s 2ms/step - loss: 0.6320\n",
            "Epoch 6/10\n",
            "14536/14536 [==============================] - 25s 2ms/step - loss: 0.6299\n",
            "Epoch 7/10\n",
            "14536/14536 [==============================] - 25s 2ms/step - loss: 0.6277\n",
            "Epoch 8/10\n",
            "14536/14536 [==============================] - 25s 2ms/step - loss: 0.6264\n",
            "Epoch 9/10\n",
            "14536/14536 [==============================] - 25s 2ms/step - loss: 0.6250\n",
            "Epoch 10/10\n",
            "14536/14536 [==============================] - 24s 2ms/step - loss: 0.6236\n"
          ]
        }
      ]
    },
    {
      "cell_type": "code",
      "metadata": {
        "colab": {
          "base_uri": "https://localhost:8080/",
          "height": 295
        },
        "id": "e14a6a2b",
        "outputId": "7abac622-0395-4464-97bd-f7d6e0cbb7c7"
      },
      "source": [
        "loss=History_acp.history['loss']\n",
        "x=np.arange(1,11)\n",
        "plt.plot(x,loss)\n",
        "plt.xlabel(\"epochs\")\n",
        "plt.ylabel(\"Mean squared error\")\n",
        "plt.title(\"Evolution de l'erreur quadratique moyenne\");"
      ],
      "id": "e14a6a2b",
      "execution_count": 32,
      "outputs": [
        {
          "output_type": "display_data",
          "data": {
            "image/png": "[encoded data removed]",
            "text/plain": [
              "<Figure size 432x288 with 1 Axes>"
            ]
          },
          "metadata": {
            "needs_background": "light"
          }
        }
      ]
    },
    {
      "cell_type": "code",
      "metadata": {
        "colab": {
          "base_uri": "https://localhost:8080/"
        },
        "id": "b79e5eef",
        "outputId": "0a95892e-1716-4c50-cb16-7f08023f74bf"
      },
      "source": [
        "print(model_acp.evaluate(X_test_new,Y_test))"
      ],
      "id": "b79e5eef",
      "execution_count": 33,
      "outputs": [
        {
          "output_type": "stream",
          "name": "stdout",
          "text": [
            "6855/6855 [==============================] - 9s 1ms/step - loss: 0.9859\n",
            "0.985852062702179\n"
          ]
        }
      ]
    },
    {
      "cell_type": "markdown",
      "metadata": {
        "id": "q7pBXe_DEjSV"
      },
      "source": [
        "***Dans notre cas, la réduction de dimension n'est pas optimale.***"
      ],
      "id": "q7pBXe_DEjSV"
    },
    {
      "cell_type": "markdown",
      "metadata": {
        "id": "sAujdv7myH9W"
      },
      "source": [
        "## <font color=blue>Réseaux LSTM</font> "
      ],
      "id": "sAujdv7myH9W"
    },
    {
      "cell_type": "markdown",
      "metadata": {
        "id": "h9vYBQu0A8vv"
      },
      "source": [
        "***Avant d'entraîner le modèle, il faut remettre les données d'entrée sous la forme d'un tableau à trois dimensions pour pouvoir les passer en entrée à la couche LSTM.***"
      ],
      "id": "h9vYBQu0A8vv"
    },
    {
      "cell_type": "code",
      "metadata": {
        "id": "VeLGIJ9uzjEP"
      },
      "source": [
        "(x0,y0)=X_train.shape\n",
        "(x1,y1)=X_test.shape"
      ],
      "id": "VeLGIJ9uzjEP",
      "execution_count": 35,
      "outputs": []
    },
    {
      "cell_type": "code",
      "metadata": {
        "id": "gVsGUX7Jza8w"
      },
      "source": [
        "trainX=X_train.to_numpy().reshape(x0,1,y0)\n",
        "testX=X_test.to_numpy().reshape(x1,1,y1)"
      ],
      "id": "gVsGUX7Jza8w",
      "execution_count": 37,
      "outputs": []
    },
    {
      "cell_type": "markdown",
      "metadata": {
        "id": "7SFtm9qn7VtP"
      },
      "source": [
        "> **<font color=blue>Réseau LSTM pur</font>** "
      ],
      "id": "7SFtm9qn7VtP"
    },
    {
      "cell_type": "code",
      "metadata": {
        "id": "zXO77QR9y450"
      },
      "source": [
        "lstm=Sequential()\n",
        "lstm.add(LSTM(64, input_shape=(1, y0), activation='relu', return_sequences=False))\n",
        "lstm.add(Dense(1))\n",
        "lstm.compile(loss='mean_squared_error', optimizer='adam')"
      ],
      "id": "zXO77QR9y450",
      "execution_count": 38,
      "outputs": []
    },
    {
      "cell_type": "code",
      "metadata": {
        "colab": {
          "base_uri": "https://localhost:8080/",
          "height": 312
        },
        "id": "Fmo7F2dx5yks",
        "outputId": "ed915000-c3e4-48bd-e267-40193c00b9de"
      },
      "source": [
        "ks.utils.plot_model(lstm,show_shapes=True)"
      ],
      "id": "Fmo7F2dx5yks",
      "execution_count": 39,
      "outputs": [
        {
          "output_type": "execute_result",
          "data": {
            "image/png": "[encoded data removed]",
            "text/plain": [
              "<IPython.core.display.Image object>"
            ]
          },
          "metadata": {},
          "execution_count": 39
        }
      ]
    },
    {
      "cell_type": "code",
      "metadata": {
        "colab": {
          "base_uri": "https://localhost:8080/"
        },
        "id": "Q5XXrbvY1HHI",
        "outputId": "0d853c89-c540-4bbf-ae9e-9896859de5b7"
      },
      "source": [
        "history=lstm.fit(trainX, Y_train, epochs=10, batch_size=32)"
      ],
      "id": "Q5XXrbvY1HHI",
      "execution_count": 40,
      "outputs": [
        {
          "output_type": "stream",
          "name": "stdout",
          "text": [
            "Epoch 1/10\n",
            "14536/14536 [==============================] - 41s 3ms/step - loss: 0.6605\n",
            "Epoch 2/10\n",
            "14536/14536 [==============================] - 39s 3ms/step - loss: 0.5885\n",
            "Epoch 3/10\n",
            "14536/14536 [==============================] - 39s 3ms/step - loss: 0.5770\n",
            "Epoch 4/10\n",
            "14536/14536 [==============================] - 39s 3ms/step - loss: 0.5682\n",
            "Epoch 5/10\n",
            "14536/14536 [==============================] - 39s 3ms/step - loss: 0.5624\n",
            "Epoch 6/10\n",
            "14536/14536 [==============================] - 40s 3ms/step - loss: 0.5569\n",
            "Epoch 7/10\n",
            "14536/14536 [==============================] - 39s 3ms/step - loss: 0.5525\n",
            "Epoch 8/10\n",
            "14536/14536 [==============================] - 40s 3ms/step - loss: 0.5487\n",
            "Epoch 9/10\n",
            "14536/14536 [==============================] - 40s 3ms/step - loss: 0.5457\n",
            "Epoch 10/10\n",
            "14536/14536 [==============================] - 39s 3ms/step - loss: 0.5432\n"
          ]
        }
      ]
    },
    {
      "cell_type": "code",
      "metadata": {
        "colab": {
          "base_uri": "https://localhost:8080/"
        },
        "id": "HsJYjuw6jBj7",
        "outputId": "7527824b-0378-4c38-a0e8-7d65b00b9468"
      },
      "source": [
        "mean_squared_error(lstm.predict(testX),Y_test)"
      ],
      "id": "HsJYjuw6jBj7",
      "execution_count": 41,
      "outputs": [
        {
          "output_type": "execute_result",
          "data": {
            "text/plain": [
              "0.5639765039376825"
            ]
          },
          "metadata": {},
          "execution_count": 41
        }
      ]
    },
    {
      "cell_type": "markdown",
      "metadata": {
        "id": "FbB5XZuSHXYY"
      },
      "source": [
        "***Le résultat est moins précis qu'un réseau à propagation avant.***"
      ],
      "id": "FbB5XZuSHXYY"
    },
    {
      "cell_type": "markdown",
      "metadata": {
        "id": "Wn_SGAcd7fqV"
      },
      "source": [
        "> **<font color=blue>Réseau avec une couche LSTM et deux couches Dense</font>** "
      ],
      "id": "Wn_SGAcd7fqV"
    },
    {
      "cell_type": "code",
      "metadata": {
        "id": "5Qd4-sSZ7ef6"
      },
      "source": [
        "model=Sequential()\n",
        "model.add(LSTM(64, input_shape=(1, y0), activation='relu', return_sequences=False))\n",
        "model.add(Dense(64))\n",
        "model.add(Activation(\"relu\"))\n",
        "model.add(Dense(64))\n",
        "model.add(Activation(\"relu\"))\n",
        "model.add(Dense(1))\n",
        "model.compile(loss='mean_squared_error', optimizer='adam')"
      ],
      "id": "5Qd4-sSZ7ef6",
      "execution_count": 42,
      "outputs": []
    },
    {
      "cell_type": "code",
      "metadata": {
        "colab": {
          "base_uri": "https://localhost:8080/",
          "height": 754
        },
        "id": "aoh-NqSwpOtq",
        "outputId": "6ff958a1-1432-41fc-f0ea-bda90cbb5846"
      },
      "source": [
        "ks.utils.plot_model(model,show_shapes=True)"
      ],
      "id": "aoh-NqSwpOtq",
      "execution_count": 43,
      "outputs": [
        {
          "output_type": "execute_result",
          "data": {
            "image/png": "[encoded data removed]",
            "text/plain": [
              "<IPython.core.display.Image object>"
            ]
          },
          "metadata": {},
          "execution_count": 43
        }
      ]
    },
    {
      "cell_type": "code",
      "metadata": {
        "colab": {
          "base_uri": "https://localhost:8080/"
        },
        "collapsed": true,
        "id": "VUUvbSeW7ef6",
        "outputId": "ff3b4d17-4981-4db4-aa76-d220615f318b"
      },
      "source": [
        "history=model.fit(trainX, Y_train, epochs=10, batch_size=128, verbose=1)"
      ],
      "id": "VUUvbSeW7ef6",
      "execution_count": 44,
      "outputs": [
        {
          "output_type": "stream",
          "name": "stdout",
          "text": [
            "Epoch 1/10\n",
            "3634/3634 [==============================] - 18s 5ms/step - loss: 0.6461\n",
            "Epoch 2/10\n",
            "3634/3634 [==============================] - 16s 4ms/step - loss: 0.5849\n",
            "Epoch 3/10\n",
            "3634/3634 [==============================] - 16s 5ms/step - loss: 0.5736\n",
            "Epoch 4/10\n",
            "3634/3634 [==============================] - 16s 5ms/step - loss: 0.5645\n",
            "Epoch 5/10\n",
            "3634/3634 [==============================] - 17s 5ms/step - loss: 0.5575\n",
            "Epoch 6/10\n",
            "3634/3634 [==============================] - 16s 4ms/step - loss: 0.5519\n",
            "Epoch 7/10\n",
            "3634/3634 [==============================] - 16s 4ms/step - loss: 0.5464\n",
            "Epoch 8/10\n",
            "3634/3634 [==============================] - 17s 5ms/step - loss: 0.5422\n",
            "Epoch 9/10\n",
            "3634/3634 [==============================] - 17s 5ms/step - loss: 0.5382\n",
            "Epoch 10/10\n",
            "3634/3634 [==============================] - 16s 4ms/step - loss: 0.5351\n"
          ]
        }
      ]
    },
    {
      "cell_type": "code",
      "metadata": {
        "colab": {
          "base_uri": "https://localhost:8080/"
        },
        "id": "PkuhyQwF9NFQ",
        "scrolled": true,
        "outputId": "da147bf2-ea2d-4e33-b287-1d156f82b806"
      },
      "source": [
        "print(model.evaluate(testX,Y_test))"
      ],
      "id": "PkuhyQwF9NFQ",
      "execution_count": 45,
      "outputs": [
        {
          "output_type": "stream",
          "name": "stdout",
          "text": [
            "6855/6855 [==============================] - 11s 2ms/step - loss: 0.5560\n",
            "0.5559967756271362\n"
          ]
        }
      ]
    },
    {
      "cell_type": "markdown",
      "metadata": {
        "id": "szCef_qr86J7"
      },
      "source": [
        "## <font color=blue>Prédiction séparée par pid</font> "
      ],
      "id": "szCef_qr86J7"
    },
    {
      "cell_type": "markdown",
      "metadata": {
        "id": "cx-kzjd1YnWs"
      },
      "source": [
        "***On a essayé ici d'isoler chaque 'pid' et réaliser une régression linéaire sur les données qui le concernent. On prédit alors la sortie pour tous les pid avant de remettre le tout en ordre.***"
      ],
      "id": "cx-kzjd1YnWs"
    },
    {
      "cell_type": "code",
      "metadata": {
        "id": "cb2e51df"
      },
      "source": [
        "LXt = [Xt[Wt['pid']==id] for id in PID]\n",
        "LWt = [Wt[Wt['pid']==id] for id in PID]"
      ],
      "id": "cb2e51df",
      "execution_count": null,
      "outputs": []
    },
    {
      "cell_type": "markdown",
      "metadata": {
        "id": "41qMMJaWN7Et"
      },
      "source": [
        "> **<font color=blue>Par régression linéaire simple</font>** "
      ],
      "id": "41qMMJaWN7Et"
    },
    {
      "cell_type": "markdown",
      "metadata": {
        "id": "NRxOW4ecYeKq"
      },
      "source": [
        "***On essaie d'abord cette méthode sur nos échantillons train et test.***"
      ],
      "id": "NRxOW4ecYeKq"
    },
    {
      "cell_type": "code",
      "metadata": {
        "id": "P3SfjFeG4aoz"
      },
      "source": [
        "Y_pred1=[]\n",
        "for i in range(len(LX_train)):\n",
        "  model=LinearRegression()\n",
        "  model.fit(LX_train[i],LY_train[i])\n",
        "  df=pd.DataFrame(model.predict(LX_test[i]),index=LX_test[i].index,columns=['target'])\n",
        "  Y_pred1.append(df)"
      ],
      "id": "P3SfjFeG4aoz",
      "execution_count": null,
      "outputs": []
    },
    {
      "cell_type": "code",
      "metadata": {
        "id": "V96DjLxpV9O3"
      },
      "source": [
        "Y_p=pd.concat(Y_pred1)\n",
        "Y_p=Y_p.sort_index()"
      ],
      "id": "V96DjLxpV9O3",
      "execution_count": null,
      "outputs": []
    },
    {
      "cell_type": "code",
      "metadata": {
        "colab": {
          "base_uri": "https://localhost:8080/"
        },
        "id": "-XOahEk65Ipf",
        "outputId": "f1bdd15b-8ab6-496f-a3c4-b57a29a3b31c"
      },
      "source": [
        "mean_squared_error(Y_p, Y_test)"
      ],
      "id": "-XOahEk65Ipf",
      "execution_count": null,
      "outputs": [
        {
          "data": {
            "text/plain": [
              "0.5639306543912981"
            ]
          },
          "execution_count": 32,
          "metadata": {},
          "output_type": "execute_result"
        }
      ]
    },
    {
      "cell_type": "markdown",
      "metadata": {
        "id": "134lpWWPaYNO"
      },
      "source": [
        "***On essaie ensuite sur l'échantillon test du challenge.***"
      ],
      "id": "134lpWWPaYNO"
    },
    {
      "cell_type": "code",
      "metadata": {
        "id": "M13M7FdbXPyP"
      },
      "source": [
        "Y_pred2=[]\n",
        "for i in range(len(LX_train)):\n",
        "  model=LinearRegression()\n",
        "  model.fit(LX[i],LY[i])\n",
        "  df=pd.DataFrame(model.predict(LXt[i]),index=LXt[i].index,columns=['target'])\n",
        "  Y_pred2.append(df)"
      ],
      "id": "M13M7FdbXPyP",
      "execution_count": null,
      "outputs": []
    },
    {
      "cell_type": "code",
      "metadata": {
        "id": "Hu7bo0gwXPyS"
      },
      "source": [
        "submission=pd.concat(Y_pred2)\n",
        "submission=submission.sort_index()"
      ],
      "id": "Hu7bo0gwXPyS",
      "execution_count": null,
      "outputs": []
    },
    {
      "cell_type": "code",
      "metadata": {
        "id": "hVVkZR0a8H7j"
      },
      "source": [
        "submission.to_csv(\"/Users/ayaamenssag/Desktop/predseparee.csv\")"
      ],
      "id": "hVVkZR0a8H7j",
      "execution_count": null,
      "outputs": []
    },
    {
      "cell_type": "markdown",
      "metadata": {
        "id": "BfpPHV6AbHhU"
      },
      "source": [
        "***Avec cette méthode, on a obtenu une erreur de 0.58 avec l'échantillon test du challenge, qui est assez proche de l'erreur sur notre propre échantillon test (0.56) contrairement aux méthodes précédentes. Ceci est peut-être dû au fait qu'on a prédit sur des sous-échantillons de taille réduite ce qui a amélioré la précision.***"
      ],
      "id": "BfpPHV6AbHhU"
    },
    {
      "cell_type": "markdown",
      "metadata": {
        "id": "hw161J_2cMT6"
      },
      "source": [
        "> **<font color=blue>Par régression linéaire suivie de prédiction de résidus par LGBMRegressor</font>** "
      ],
      "id": "hw161J_2cMT6"
    },
    {
      "cell_type": "markdown",
      "metadata": {
        "id": "cdYGJrmAcSp5"
      },
      "source": [
        "***Pour essayer de 'parfaire' cette méthode de prédiction segmentée, on va appliquer, en plus de la régression linéaire, une prédiction de résidus vu qu'on avait obtenus des erreurs réduites auparavant.***"
      ],
      "id": "cdYGJrmAcSp5"
    },
    {
      "cell_type": "markdown",
      "metadata": {
        "id": "4R0HItY2c2D-"
      },
      "source": [
        "***On essaie d'abord sur nos échantillons train et test.***"
      ],
      "id": "4R0HItY2c2D-"
    },
    {
      "cell_type": "code",
      "metadata": {
        "id": "3a3ca302"
      },
      "source": [
        "LZ_train =[]\n",
        "for i in range(len(LX_train)):\n",
        "    model=LinearRegression()\n",
        "    model.fit(LX_train[i],LY_train[i])\n",
        "    Z_train = np.subtract(LY_train[i], lr.predict(LX_train[i]))\n",
        "    LZ_train.append(Z_train)"
      ],
      "id": "3a3ca302",
      "execution_count": null,
      "outputs": []
    },
    {
      "cell_type": "code",
      "metadata": {
        "id": "2a621653"
      },
      "source": [
        "Y_pred3 = []\n",
        "for i in range(len(LX_train)):\n",
        "    lgbr = lgb.LGBMRegressor(n_estimators = 1855)\n",
        "    lgbr.fit(LX0_train[i], LZ_train[i])\n",
        "    y = np.array(lr.predict(LX_test[i])).ravel() + lgbr.predict(LX0_test[i])\n",
        "    df=pd.DataFrame(y, index=LX_test[i].index,columns=['target'])\n",
        "    Y_pred3.append(df)"
      ],
      "id": "2a621653",
      "execution_count": null,
      "outputs": []
    },
    {
      "cell_type": "code",
      "metadata": {
        "id": "742635a6"
      },
      "source": [
        "Y_p3=pd.concat(Y_pred3)\n",
        "Y_p3=Y_p3.sort_index()"
      ],
      "id": "742635a6",
      "execution_count": null,
      "outputs": []
    },
    {
      "cell_type": "code",
      "metadata": {
        "id": "85ce08fa",
        "outputId": "eb1f9946-2cd5-47bd-9ceb-4e613e3a7a91"
      },
      "source": [
        "mean_squared_error(Y_p3, Y_test)"
      ],
      "id": "85ce08fa",
      "execution_count": null,
      "outputs": [
        {
          "data": {
            "text/plain": [
              "0.4555753296212613"
            ]
          },
          "execution_count": 76,
          "metadata": {},
          "output_type": "execute_result"
        }
      ]
    },
    {
      "cell_type": "markdown",
      "metadata": {
        "id": "y6PQmXYodPrv"
      },
      "source": [
        "***On essaie ensuite sur l'échantillon test du challenge.***"
      ],
      "id": "y6PQmXYodPrv"
    },
    {
      "cell_type": "code",
      "metadata": {
        "id": "7d484d2f"
      },
      "source": [
        "LZ =[]\n",
        "for i in range(len(LX_train)):\n",
        "    model=LinearRegression()\n",
        "    model.fit(LX[i],LY[i])\n",
        "    Z = np.subtract(LY[i], lr.predict(LX[i]))\n",
        "    LZ.append(Z)"
      ],
      "id": "7d484d2f",
      "execution_count": null,
      "outputs": []
    },
    {
      "cell_type": "code",
      "metadata": {
        "id": "24734d1f"
      },
      "source": [
        "Y_pred4 = []\n",
        "for i in range(len(LX_train)):\n",
        "    lgbr = lgb.LGBMRegressor(n_estimators = 1855)\n",
        "    lgbr.fit(LX0[i], LZ[i])\n",
        "    y = np.array(lr.predict(LXt[i])).ravel() + lgbr.predict(LWt[i])\n",
        "    df=pd.DataFrame(y, index=LXt[i].index,columns=['target'])\n",
        "    Y_pred4.append(df)"
      ],
      "id": "24734d1f",
      "execution_count": null,
      "outputs": []
    },
    {
      "cell_type": "code",
      "metadata": {
        "id": "f38dfd0d"
      },
      "source": [
        "Y_p4=pd.concat(Y_pred4)\n",
        "Y_p4=Y_p4.sort_index()"
      ],
      "id": "f38dfd0d",
      "execution_count": null,
      "outputs": []
    },
    {
      "cell_type": "code",
      "metadata": {
        "id": "2106ac37"
      },
      "source": [
        "submission = Y_p4"
      ],
      "id": "2106ac37",
      "execution_count": null,
      "outputs": []
    },
    {
      "cell_type": "code",
      "metadata": {
        "id": "tyxARo0qdUvu"
      },
      "source": [
        "submission.to_csv(\"/Users/ayaamenssag/Desktop/predsepareeaveclgbr.csv\")"
      ],
      "id": "tyxARo0qdUvu",
      "execution_count": null,
      "outputs": []
    }
  ]
}